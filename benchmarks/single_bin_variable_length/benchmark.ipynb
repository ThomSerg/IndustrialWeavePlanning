{
 "cells": [
  {
   "cell_type": "code",
   "execution_count": 1,
   "metadata": {},
   "outputs": [],
   "source": [
    "%load_ext autoreload\n",
    "%autoreload 2"
   ]
  },
  {
   "cell_type": "code",
   "execution_count": 2,
   "metadata": {},
   "outputs": [],
   "source": [
    "import sys,os,json\n",
    "sys.path.append(os.path.join(\"..\",\"..\"))"
   ]
  },
  {
   "cell_type": "code",
   "execution_count": 3,
   "metadata": {},
   "outputs": [],
   "source": [
    "from benchmarks.utils import *\n",
    "\n",
    "from src.models.single_bin.baseline.model import BaselineSBM\n",
    "from src.models.single_bin.anchor.model import AnchorSBM\n",
    "from src.models.single_bin.guillotine.model import GuillotineSBM\n",
    "\n",
    "from benchmarks.problem_json import ProblemJsonS"
   ]
  },
  {
   "cell_type": "code",
   "execution_count": 4,
   "metadata": {},
   "outputs": [],
   "source": [
    "problems = [\n",
    "    (100,100),\n",
    "    #(200,200),\n",
    "    #(300,300),\n",
    "    #(100,400),\n",
    "    # (200,450),\n",
    "    #(100,900)\n",
    "]"
   ]
  },
  {
   "cell_type": "code",
   "execution_count": 5,
   "metadata": {},
   "outputs": [
    {
     "name": "stdout",
     "output_type": "stream",
     "text": [
      "PROBLEM 10_100_100_0 {'widths': [44, 49, 37, 43, 82, 35, 24, 29, 37, 49], 'heights': [43, 95, 72, 54, 54, 27, 46, 37, 24, 28], 'machine_config': {'width': 100, 'min_length': 100, 'max_length': 100}}\n",
      "Running model [<class 'src.models.single_bin.anchor.model.AnchorSBM'>]\n",
      "Collecting constraints ...\n",
      "Warning, timeout protection only supported on Linux!\n",
      "nr_no_overlap 3709\n",
      "nr constraints: 3838\n",
      "Transferring...\n",
      "Warning, timeout protection only supported on Linux!\n",
      "Solving...\n",
      "SAT True\n",
      "TIME 68.21022439999797\n",
      "{'item_count': {'nr_constraint': 20, 'creation_time': 0.004467799997655675}, 'item_selection': {'nr_constraint': 20, 'creation_time': 0.0005321999924490228}, 'no_overlap': {'nr_constraint': 3709, 'creation_time': 0.9256953000003705}, 'bin_height': {'nr_constraint': 2, 'creation_time': 3.5600009141489863e-05}, 'bin_capacity': {'nr_constraint': 0, 'creation_time': 6.00004568696022e-07}, 'within_bin': {'nr_constraint': 86, 'creation_time': 0.007248499998240732}}\n",
      "STATS {'constraint_time': 0.938113299998804, 'nr_constraints': 3838, 'transfer_time': 6.868068199997651, 'solve_time': 60.32049270000425, 'density': 0.9874698795180723, 'bin_length': 83, 'fulfilled': [0, 0, 0, 0, 0, 4, 4, 0, 0, 0], 'counts': [0, 0, 0, 0, 0, 4, 4, 0, 0, 0], 'repeats_width': [2, 2, 2, 2, 1, 2, 4, 3, 2, 2, 2, 1, 1, 1, 1, 3, 2, 2, 4, 3], 'repeats_length': [2, 1, 1, 1, 1, 3, 2, 2, 4, 3, 2, 2, 2, 2, 1, 2, 4, 3, 2, 2], 'objective': 1040468, 'nr_variables': 311, 'ortools_objective': 1040468, 'constraints': {'item_count': {'nr_constraint': 20, 'creation_time': 0.004467799997655675}, 'item_selection': {'nr_constraint': 20, 'creation_time': 0.0005321999924490228}, 'no_overlap': {'nr_constraint': 3709, 'creation_time': 0.9256953000003705}, 'bin_height': {'nr_constraint': 2, 'creation_time': 3.5600009141489863e-05}, 'bin_capacity': {'nr_constraint': 0, 'creation_time': 6.00004568696022e-07}, 'within_bin': {'nr_constraint': 86, 'creation_time': 0.007248499998240732}}, 'total_time': 68.21022439999797}\n"
     ]
    },
    {
     "data": {
      "image/png": "[encoded data removed]",
      "text/plain": [
       "<Figure size 720x720 with 1 Axes>"
      ]
     },
     "metadata": {
      "needs_background": "light"
     },
     "output_type": "display_data"
    },
    {
     "name": "stdout",
     "output_type": "stream",
     "text": [
      "Running model [<class 'src.models.single_bin.guillotine.model.GuillotineSBM'>]\n",
      "Collecting constraints ...\n",
      "Warning, timeout protection only supported on Linux!\n",
      "nr constraints: 1947\n",
      "Transferring...\n",
      "Warning, timeout protection only supported on Linux!\n",
      "Solving...\n",
      "SAT True\n",
      "TIME 6.0944476000004215\n",
      "{'item_count': {'nr_constraint': 20, 'creation_time': 0.004467799997655675}, 'item_selection': {'nr_constraint': 20, 'creation_time': 0.0005321999924490228}, 'no_overlap': {'nr_constraint': 3709, 'creation_time': 0.9256953000003705}, 'bin_height': {'nr_constraint': 2, 'creation_time': 3.5600009141489863e-05}, 'bin_capacity': {'nr_constraint': 0, 'creation_time': 6.00004568696022e-07}, 'within_bin': {'nr_constraint': 86, 'creation_time': 0.007248499998240732}, 'get_constraints': {'nr_constraint': 1947, 'creation_time': 0.46272680000402033}}\n",
      "STATS {'nr_constraints': 1947, 'transfer_time': 1.4888047999993432, 'solve_time': 4.048717600002419, 'density': 0.99, 'bin_length': 98, 'fulfilled': [1, 0, 0, 1, 0, 0, 0, 0, 0, 4], 'counts': [1, 0, 0, 1, 0, 0, 0, 0, 0, 4], 'objective': 98, 'nr_variables': 1512, 'ortools_objective': 98, 'constraints': {'item_count': {'nr_constraint': 20, 'creation_time': 0.004467799997655675}, 'item_selection': {'nr_constraint': 20, 'creation_time': 0.0005321999924490228}, 'no_overlap': {'nr_constraint': 3709, 'creation_time': 0.9256953000003705}, 'bin_height': {'nr_constraint': 2, 'creation_time': 3.5600009141489863e-05}, 'bin_capacity': {'nr_constraint': 0, 'creation_time': 6.00004568696022e-07}, 'within_bin': {'nr_constraint': 86, 'creation_time': 0.007248499998240732}, 'get_constraints': {'nr_constraint': 1947, 'creation_time': 0.46272680000402033}}, 'total_time': 6.0944476000004215}\n"
     ]
    },
    {
     "data": {
      "image/png": "[encoded data removed]",
      "text/plain": [
       "<Figure size 720x720 with 1 Axes>"
      ]
     },
     "metadata": {
      "needs_background": "light"
     },
     "output_type": "display_data"
    },
    {
     "name": "stdout",
     "output_type": "stream",
     "text": [
      "PROBLEM 10_100_100_1 {'widths': [37, 77, 25, 60, 65, 56, 34, 49, 82, 62], 'heights': [63, 57, 41, 35, 38, 54, 35, 72, 36, 62], 'machine_config': {'width': 100, 'min_length': 100, 'max_length': 100}}\n",
      "Running model [<class 'src.models.single_bin.anchor.model.AnchorSBM'>]\n",
      "Collecting constraints ...\n",
      "Warning, timeout protection only supported on Linux!\n",
      "nr_no_overlap 1173\n",
      "nr constraints: 1264\n",
      "Transferring...\n",
      "Warning, timeout protection only supported on Linux!\n",
      "Solving...\n",
      "SAT True\n",
      "TIME 8.999119800006156\n",
      "{'item_count': {'nr_constraint': 20, 'creation_time': 0.003662499992060475}, 'item_selection': {'nr_constraint': 20, 'creation_time': 0.0006549000099767}, 'no_overlap': {'nr_constraint': 1173, 'creation_time': 0.24187070000334643}, 'bin_height': {'nr_constraint': 2, 'creation_time': 2.409999433439225e-05}, 'bin_capacity': {'nr_constraint': 0, 'creation_time': 6.999907782301307e-07}, 'within_bin': {'nr_constraint': 48, 'creation_time': 0.0035912000021198764}, 'get_constraints': {'nr_constraint': 1947, 'creation_time': 0.46272680000402033}}\n",
      "STATS {'constraint_time': 0.24989219999406487, 'nr_constraints': 1264, 'transfer_time': 2.3414322000026004, 'solve_time': 6.381101899998612, 'density': 1.0, 'bin_length': 82, 'fulfilled': [0, 0, 8, 0, 0, 0, 0, 0, 0, 0], 'counts': [0, 0, 8, 0, 0, 0, 0, 0, 0, 0], 'repeats_width': [2, 1, 4, 1, 1, 1, 2, 2, 1, 1, 1, 1, 2, 2, 2, 1, 2, 1, 2, 1], 'repeats_length': [1, 1, 2, 2, 2, 1, 2, 1, 2, 1, 2, 1, 4, 1, 1, 1, 2, 2, 1, 1], 'objective': 464, 'nr_variables': 191, 'ortools_objective': 464, 'constraints': {'item_count': {'nr_constraint': 20, 'creation_time': 0.003662499992060475}, 'item_selection': {'nr_constraint': 20, 'creation_time': 0.0006549000099767}, 'no_overlap': {'nr_constraint': 1173, 'creation_time': 0.24187070000334643}, 'bin_height': {'nr_constraint': 2, 'creation_time': 2.409999433439225e-05}, 'bin_capacity': {'nr_constraint': 0, 'creation_time': 6.999907782301307e-07}, 'within_bin': {'nr_constraint': 48, 'creation_time': 0.0035912000021198764}, 'get_constraints': {'nr_constraint': 1947, 'creation_time': 0.46272680000402033}}, 'total_time': 8.999119800006156}\n"
     ]
    },
    {
     "data": {
      "image/png": "[encoded data removed]",
      "text/plain": [
       "<Figure size 720x720 with 1 Axes>"
      ]
     },
     "metadata": {
      "needs_background": "light"
     },
     "output_type": "display_data"
    },
    {
     "name": "stdout",
     "output_type": "stream",
     "text": [
      "Running model [<class 'src.models.single_bin.guillotine.model.GuillotineSBM'>]\n",
      "Collecting constraints ...\n",
      "Warning, timeout protection only supported on Linux!\n",
      "nr constraints: 2239\n",
      "Transferring...\n",
      "Warning, timeout protection only supported on Linux!\n",
      "Solving...\n",
      "SAT True\n",
      "TIME 3.083571099996334\n",
      "{'item_count': {'nr_constraint': 20, 'creation_time': 0.003662499992060475}, 'item_selection': {'nr_constraint': 20, 'creation_time': 0.0006549000099767}, 'no_overlap': {'nr_constraint': 1173, 'creation_time': 0.24187070000334643}, 'bin_height': {'nr_constraint': 2, 'creation_time': 2.409999433439225e-05}, 'bin_capacity': {'nr_constraint': 0, 'creation_time': 6.999907782301307e-07}, 'within_bin': {'nr_constraint': 48, 'creation_time': 0.0035912000021198764}, 'get_constraints': {'nr_constraint': 2239, 'creation_time': 0.40713019999384414}}\n",
      "STATS {'nr_constraints': 2239, 'transfer_time': 2.127923699998064, 'solve_time': 0.43327779999526683, 'density': 1.0, 'bin_length': 82, 'fulfilled': [0, 0, 8, 0, 0, 0, 0, 0, 0, 0], 'counts': [0, 0, 8, 0, 0, 0, 0, 0, 0, 0], 'objective': 0, 'nr_variables': 1576, 'ortools_objective': 0, 'constraints': {'item_count': {'nr_constraint': 20, 'creation_time': 0.003662499992060475}, 'item_selection': {'nr_constraint': 20, 'creation_time': 0.0006549000099767}, 'no_overlap': {'nr_constraint': 1173, 'creation_time': 0.24187070000334643}, 'bin_height': {'nr_constraint': 2, 'creation_time': 2.409999433439225e-05}, 'bin_capacity': {'nr_constraint': 0, 'creation_time': 6.999907782301307e-07}, 'within_bin': {'nr_constraint': 48, 'creation_time': 0.0035912000021198764}, 'get_constraints': {'nr_constraint': 2239, 'creation_time': 0.40713019999384414}}, 'total_time': 3.083571099996334}\n"
     ]
    },
    {
     "data": {
      "image/png": "[encoded data removed]",
      "text/plain": [
       "<Figure size 720x720 with 1 Axes>"
      ]
     },
     "metadata": {
      "needs_background": "light"
     },
     "output_type": "display_data"
    },
    {
     "name": "stdout",
     "output_type": "stream",
     "text": [
      "PROBLEM 10_100_100_2 {'widths': [67, 46, 31, 66, 69, 68, 67, 70, 83, 47], 'heights': [72, 63, 45, 61, 65, 71, 47, 31, 50, 28], 'machine_config': {'width': 100, 'min_length': 100, 'max_length': 100}}\n",
      "Running model [<class 'src.models.single_bin.anchor.model.AnchorSBM'>]\n",
      "Collecting constraints ...\n",
      "Warning, timeout protection only supported on Linux!\n",
      "nr_no_overlap 1187\n",
      "nr constraints: 1280\n",
      "Transferring...\n",
      "Warning, timeout protection only supported on Linux!\n",
      "Solving...\n",
      "SAT True\n",
      "TIME 3.7915839000052074\n",
      "{'item_count': {'nr_constraint': 20, 'creation_time': 0.003246500011300668}, 'item_selection': {'nr_constraint': 20, 'creation_time': 0.0005065000004833564}, 'no_overlap': {'nr_constraint': 1187, 'creation_time': 0.31635629999800585}, 'bin_height': {'nr_constraint': 2, 'creation_time': 0.00010269999620504677}, 'bin_capacity': {'nr_constraint': 0, 'creation_time': 9.00006853044033e-07}, 'within_bin': {'nr_constraint': 50, 'creation_time': 0.005202200001804158}, 'get_constraints': {'nr_constraint': 2239, 'creation_time': 0.40713019999384414}}\n",
      "STATS {'constraint_time': 0.3255520999955479, 'nr_constraints': 1280, 'transfer_time': 1.9352741000038804, 'solve_time': 1.4220282000023872, 'density': 1.0, 'bin_length': 83, 'fulfilled': [0, 0, 0, 0, 0, 0, 0, 0, 2, 0], 'counts': [0, 0, 0, 0, 0, 0, 0, 0, 2, 0], 'repeats_width': [1, 2, 3, 1, 1, 1, 1, 1, 1, 2, 1, 1, 2, 1, 1, 1, 2, 3, 2, 3], 'repeats_length': [1, 1, 2, 1, 1, 1, 2, 3, 2, 3, 1, 2, 3, 1, 1, 1, 1, 1, 1, 2], 'objective': 50, 'nr_variables': 191, 'ortools_objective': 50, 'constraints': {'item_count': {'nr_constraint': 20, 'creation_time': 0.003246500011300668}, 'item_selection': {'nr_constraint': 20, 'creation_time': 0.0005065000004833564}, 'no_overlap': {'nr_constraint': 1187, 'creation_time': 0.31635629999800585}, 'bin_height': {'nr_constraint': 2, 'creation_time': 0.00010269999620504677}, 'bin_capacity': {'nr_constraint': 0, 'creation_time': 9.00006853044033e-07}, 'within_bin': {'nr_constraint': 50, 'creation_time': 0.005202200001804158}, 'get_constraints': {'nr_constraint': 2239, 'creation_time': 0.40713019999384414}}, 'total_time': 3.7915839000052074}\n"
     ]
    },
    {
     "data": {
      "image/png": "[encoded data removed]",
      "text/plain": [
       "<Figure size 720x720 with 1 Axes>"
      ]
     },
     "metadata": {
      "needs_background": "light"
     },
     "output_type": "display_data"
    },
    {
     "name": "stdout",
     "output_type": "stream",
     "text": [
      "Running model [<class 'src.models.single_bin.guillotine.model.GuillotineSBM'>]\n",
      "Collecting constraints ...\n",
      "Warning, timeout protection only supported on Linux!\n",
      "nr constraints: 872\n",
      "Transferring...\n",
      "Warning, timeout protection only supported on Linux!\n",
      "Solving...\n",
      "SAT True\n",
      "TIME 1.1037814000010258\n",
      "{'item_count': {'nr_constraint': 20, 'creation_time': 0.003246500011300668}, 'item_selection': {'nr_constraint': 20, 'creation_time': 0.0005065000004833564}, 'no_overlap': {'nr_constraint': 1187, 'creation_time': 0.31635629999800585}, 'bin_height': {'nr_constraint': 2, 'creation_time': 0.00010269999620504677}, 'bin_capacity': {'nr_constraint': 0, 'creation_time': 9.00006853044033e-07}, 'within_bin': {'nr_constraint': 50, 'creation_time': 0.005202200001804158}, 'get_constraints': {'nr_constraint': 872, 'creation_time': 0.19703609999851324}}\n",
      "STATS {'nr_constraints': 872, 'transfer_time': 0.6510613999998895, 'solve_time': 0.20240469998680055, 'density': 1.0, 'bin_length': 83, 'fulfilled': [0, 0, 0, 0, 0, 0, 0, 0, 2, 0], 'counts': [0, 0, 0, 0, 0, 0, 0, 0, 2, 0], 'objective': 0, 'nr_variables': 699, 'ortools_objective': 0, 'constraints': {'item_count': {'nr_constraint': 20, 'creation_time': 0.003246500011300668}, 'item_selection': {'nr_constraint': 20, 'creation_time': 0.0005065000004833564}, 'no_overlap': {'nr_constraint': 1187, 'creation_time': 0.31635629999800585}, 'bin_height': {'nr_constraint': 2, 'creation_time': 0.00010269999620504677}, 'bin_capacity': {'nr_constraint': 0, 'creation_time': 9.00006853044033e-07}, 'within_bin': {'nr_constraint': 50, 'creation_time': 0.005202200001804158}, 'get_constraints': {'nr_constraint': 872, 'creation_time': 0.19703609999851324}}, 'total_time': 1.1037814000010258}\n"
     ]
    },
    {
     "data": {
      "image/png": "[encoded data removed]",
      "text/plain": [
       "<Figure size 720x720 with 1 Axes>"
      ]
     },
     "metadata": {
      "needs_background": "light"
     },
     "output_type": "display_data"
    },
    {
     "name": "stdout",
     "output_type": "stream",
     "text": [
      "PROBLEM 10_100_100_3 {'widths': [20, 88, 72, 55, 25, 66, 45, 91, 36, 63], 'heights': [43, 40, 69, 28, 57, 61, 94, 52, 34, 49], 'machine_config': {'width': 100, 'min_length': 100, 'max_length': 100}}\n",
      "Running model [<class 'src.models.single_bin.anchor.model.AnchorSBM'>]\n",
      "Collecting constraints ...\n",
      "Warning, timeout protection only supported on Linux!\n",
      "nr_no_overlap 1615\n",
      "nr constraints: 1715\n",
      "Transferring...\n",
      "Warning, timeout protection only supported on Linux!\n",
      "Solving...\n",
      "SAT True\n",
      "TIME 39.60919339999964\n",
      "{'item_count': {'nr_constraint': 20, 'creation_time': 0.005620199997792952}, 'item_selection': {'nr_constraint': 20, 'creation_time': 0.0005581000004895031}, 'no_overlap': {'nr_constraint': 1615, 'creation_time': 0.4378361999988556}, 'bin_height': {'nr_constraint': 2, 'creation_time': 2.9999995604157448e-05}, 'bin_capacity': {'nr_constraint': 0, 'creation_time': 6.00004568696022e-07}, 'within_bin': {'nr_constraint': 57, 'creation_time': 0.004845400006161071}, 'get_constraints': {'nr_constraint': 872, 'creation_time': 0.19703609999851324}}\n",
      "STATS {'constraint_time': 0.44901119999121875, 'nr_constraints': 1715, 'transfer_time': 2.9957435999967856, 'solve_time': 36.135865399992326, 'density': 1.0, 'bin_length': 57, 'fulfilled': [0, 0, 0, 0, 4, 0, 0, 0, 0, 0], 'counts': [0, 0, 0, 0, 4, 0, 0, 0, 0, 0], 'repeats_width': [5, 1, 1, 1, 4, 1, 2, 1, 2, 1, 2, 2, 1, 3, 1, 1, 1, 1, 2, 2], 'repeats_length': [2, 2, 1, 3, 1, 1, 1, 1, 2, 2, 5, 1, 1, 1, 4, 1, 2, 1, 2, 1], 'objective': 150, 'nr_variables': 221, 'ortools_objective': 150, 'constraints': {'item_count': {'nr_constraint': 20, 'creation_time': 0.005620199997792952}, 'item_selection': {'nr_constraint': 20, 'creation_time': 0.0005581000004895031}, 'no_overlap': {'nr_constraint': 1615, 'creation_time': 0.4378361999988556}, 'bin_height': {'nr_constraint': 2, 'creation_time': 2.9999995604157448e-05}, 'bin_capacity': {'nr_constraint': 0, 'creation_time': 6.00004568696022e-07}, 'within_bin': {'nr_constraint': 57, 'creation_time': 0.004845400006161071}, 'get_constraints': {'nr_constraint': 872, 'creation_time': 0.19703609999851324}}, 'total_time': 39.60919339999964}\n"
     ]
    },
    {
     "data": {
      "image/png": "[encoded data removed]",
      "text/plain": [
       "<Figure size 720x720 with 1 Axes>"
      ]
     },
     "metadata": {
      "needs_background": "light"
     },
     "output_type": "display_data"
    },
    {
     "name": "stdout",
     "output_type": "stream",
     "text": [
      "Running model [<class 'src.models.single_bin.guillotine.model.GuillotineSBM'>]\n",
      "Collecting constraints ...\n",
      "Warning, timeout protection only supported on Linux!\n",
      "nr constraints: 4779\n",
      "Transferring...\n",
      "Warning, timeout protection only supported on Linux!\n",
      "Solving...\n",
      "SAT True\n",
      "TIME 5.245372300007148\n",
      "{'item_count': {'nr_constraint': 20, 'creation_time': 0.005620199997792952}, 'item_selection': {'nr_constraint': 20, 'creation_time': 0.0005581000004895031}, 'no_overlap': {'nr_constraint': 1615, 'creation_time': 0.4378361999988556}, 'bin_height': {'nr_constraint': 2, 'creation_time': 2.9999995604157448e-05}, 'bin_capacity': {'nr_constraint': 0, 'creation_time': 6.00004568696022e-07}, 'within_bin': {'nr_constraint': 57, 'creation_time': 0.004845400006161071}, 'get_constraints': {'nr_constraint': 4779, 'creation_time': 1.1432541999965906}}\n",
      "STATS {'nr_constraints': 4779, 'transfer_time': 3.097803800003021, 'solve_time': 0.8066379999945639, 'density': 1.0, 'bin_length': 100, 'fulfilled': [5, 0, 0, 0, 4, 0, 0, 0, 0, 0], 'counts': [5, 0, 0, 0, 4, 0, 0, 0, 0, 0], 'objective': 0, 'nr_variables': 3010, 'ortools_objective': 0, 'constraints': {'item_count': {'nr_constraint': 20, 'creation_time': 0.005620199997792952}, 'item_selection': {'nr_constraint': 20, 'creation_time': 0.0005581000004895031}, 'no_overlap': {'nr_constraint': 1615, 'creation_time': 0.4378361999988556}, 'bin_height': {'nr_constraint': 2, 'creation_time': 2.9999995604157448e-05}, 'bin_capacity': {'nr_constraint': 0, 'creation_time': 6.00004568696022e-07}, 'within_bin': {'nr_constraint': 57, 'creation_time': 0.004845400006161071}, 'get_constraints': {'nr_constraint': 4779, 'creation_time': 1.1432541999965906}}, 'total_time': 5.245372300007148}\n"
     ]
    },
    {
     "data": {
      "image/png": "[encoded data removed]",
      "text/plain": [
       "<Figure size 720x720 with 1 Axes>"
      ]
     },
     "metadata": {
      "needs_background": "light"
     },
     "output_type": "display_data"
    },
    {
     "name": "stdout",
     "output_type": "stream",
     "text": [
      "PROBLEM 10_100_100_4 {'widths': [29, 59, 43, 79, 62, 68, 23, 79, 62, 46], 'heights': [64, 40, 44, 34, 65, 49, 39, 47, 59, 93], 'machine_config': {'width': 100, 'min_length': 100, 'max_length': 100}}\n",
      "Running model [<class 'src.models.single_bin.anchor.model.AnchorSBM'>]\n",
      "Collecting constraints ...\n",
      "Warning, timeout protection only supported on Linux!\n",
      "nr_no_overlap 1381\n",
      "nr constraints: 1476\n",
      "Transferring...\n",
      "Warning, timeout protection only supported on Linux!\n",
      "Solving...\n",
      "SAT True\n",
      "TIME 5.016315699991537\n",
      "{'item_count': {'nr_constraint': 20, 'creation_time': 0.002744099998380989}, 'item_selection': {'nr_constraint': 20, 'creation_time': 0.0003752000047825277}, 'no_overlap': {'nr_constraint': 1381, 'creation_time': 0.30089489999227226}, 'bin_height': {'nr_constraint': 2, 'creation_time': 2.6699999580159783e-05}, 'bin_capacity': {'nr_constraint': 0, 'creation_time': 7.00005330145359e-07}, 'within_bin': {'nr_constraint': 52, 'creation_time': 0.005457400009618141}, 'get_constraints': {'nr_constraint': 4779, 'creation_time': 1.1432541999965906}}\n",
      "STATS {'constraint_time': 0.3096151999925496, 'nr_constraints': 1476, 'transfer_time': 2.6526584999955958, 'solve_time': 2.025215000001481, 'density': 0.98, 'bin_length': 68, 'fulfilled': [0, 0, 0, 0, 0, 2, 0, 0, 0, 0], 'counts': [0, 0, 0, 0, 0, 2, 0, 0, 0, 0], 'repeats_width': [3, 1, 2, 1, 1, 1, 4, 1, 1, 2, 1, 2, 2, 2, 1, 2, 2, 2, 1, 1], 'repeats_length': [1, 2, 2, 2, 1, 2, 2, 2, 1, 1, 3, 1, 2, 1, 1, 1, 4, 1, 1, 2], 'objective': 1360049, 'nr_variables': 203, 'ortools_objective': 1360049, 'constraints': {'item_count': {'nr_constraint': 20, 'creation_time': 0.002744099998380989}, 'item_selection': {'nr_constraint': 20, 'creation_time': 0.0003752000047825277}, 'no_overlap': {'nr_constraint': 1381, 'creation_time': 0.30089489999227226}, 'bin_height': {'nr_constraint': 2, 'creation_time': 2.6699999580159783e-05}, 'bin_capacity': {'nr_constraint': 0, 'creation_time': 7.00005330145359e-07}, 'within_bin': {'nr_constraint': 52, 'creation_time': 0.005457400009618141}, 'get_constraints': {'nr_constraint': 4779, 'creation_time': 1.1432541999965906}}, 'total_time': 5.016315699991537}\n"
     ]
    },
    {
     "data": {
      "image/png": "[encoded data removed]",
      "text/plain": [
       "<Figure size 720x720 with 1 Axes>"
      ]
     },
     "metadata": {
      "needs_background": "light"
     },
     "output_type": "display_data"
    },
    {
     "name": "stdout",
     "output_type": "stream",
     "text": [
      "Running model [<class 'src.models.single_bin.guillotine.model.GuillotineSBM'>]\n",
      "Collecting constraints ...\n",
      "Warning, timeout protection only supported on Linux!\n",
      "nr constraints: 2166\n",
      "Transferring...\n",
      "Warning, timeout protection only supported on Linux!\n",
      "Solving...\n",
      "SAT True\n",
      "TIME 2.530645300008473\n",
      "{'item_count': {'nr_constraint': 20, 'creation_time': 0.002744099998380989}, 'item_selection': {'nr_constraint': 20, 'creation_time': 0.0003752000047825277}, 'no_overlap': {'nr_constraint': 1381, 'creation_time': 0.30089489999227226}, 'bin_height': {'nr_constraint': 2, 'creation_time': 2.6699999580159783e-05}, 'bin_capacity': {'nr_constraint': 0, 'creation_time': 7.00005330145359e-07}, 'within_bin': {'nr_constraint': 52, 'creation_time': 0.005457400009618141}, 'get_constraints': {'nr_constraint': 2166, 'creation_time': 0.42241650000505615}}\n",
      "STATS {'nr_constraints': 2166, 'transfer_time': 1.5655817999941064, 'solve_time': 0.3429316999972798, 'density': 0.98, 'bin_length': 68, 'fulfilled': [0, 0, 0, 0, 0, 2, 0, 0, 0, 0], 'counts': [0, 0, 0, 0, 0, 2, 0, 0, 0, 0], 'objective': 136, 'nr_variables': 1560, 'ortools_objective': 136, 'constraints': {'item_count': {'nr_constraint': 20, 'creation_time': 0.002744099998380989}, 'item_selection': {'nr_constraint': 20, 'creation_time': 0.0003752000047825277}, 'no_overlap': {'nr_constraint': 1381, 'creation_time': 0.30089489999227226}, 'bin_height': {'nr_constraint': 2, 'creation_time': 2.6699999580159783e-05}, 'bin_capacity': {'nr_constraint': 0, 'creation_time': 7.00005330145359e-07}, 'within_bin': {'nr_constraint': 52, 'creation_time': 0.005457400009618141}, 'get_constraints': {'nr_constraint': 2166, 'creation_time': 0.42241650000505615}}, 'total_time': 2.530645300008473}\n"
     ]
    },
    {
     "data": {
      "image/png": "[encoded data removed]",
      "text/plain": [
       "<Figure size 720x720 with 1 Axes>"
      ]
     },
     "metadata": {
      "needs_background": "light"
     },
     "output_type": "display_data"
    },
    {
     "name": "stdout",
     "output_type": "stream",
     "text": [
      "PROBLEM 10_100_100_5 {'widths': [73, 41, 41, 23, 94, 39, 52, 52, 48, 34], 'heights': [65, 56, 34, 47, 53, 74, 78, 70, 54, 56], 'machine_config': {'width': 100, 'min_length': 100, 'max_length': 100}}\n",
      "Running model [<class 'src.models.single_bin.anchor.model.AnchorSBM'>]\n",
      "Collecting constraints ...\n",
      "Warning, timeout protection only supported on Linux!\n",
      "nr_no_overlap 1073\n",
      "nr constraints: 1162\n",
      "Transferring...\n",
      "Warning, timeout protection only supported on Linux!\n",
      "Solving...\n",
      "SAT True\n",
      "TIME 5.883464600003208\n",
      "{'item_count': {'nr_constraint': 20, 'creation_time': 0.00224539999908302}, 'item_selection': {'nr_constraint': 20, 'creation_time': 0.0005455999926198274}, 'no_overlap': {'nr_constraint': 1073, 'creation_time': 0.22772270000132266}, 'bin_height': {'nr_constraint': 2, 'creation_time': 2.929999027401209e-05}, 'bin_capacity': {'nr_constraint': 0, 'creation_time': 8.00006091594696e-07}, 'within_bin': {'nr_constraint': 46, 'creation_time': 0.0044458999909693375}, 'get_constraints': {'nr_constraint': 2166, 'creation_time': 0.42241650000505615}}\n",
      "STATS {'constraint_time': 0.23509899999771733, 'nr_constraints': 1162, 'transfer_time': 2.130855099996552, 'solve_time': 3.4893778000114253, 'density': 0.990897435897436, 'bin_length': 78, 'fulfilled': [0, 0, 0, 1, 0, 0, 1, 0, 1, 0], 'counts': [0, 0, 0, 1, 0, 0, 1, 0, 1, 0], 'repeats_width': [1, 2, 2, 4, 1, 2, 1, 1, 2, 2, 1, 1, 2, 2, 1, 1, 1, 1, 1, 1], 'repeats_length': [1, 1, 2, 2, 1, 1, 1, 1, 1, 1, 1, 2, 2, 4, 1, 2, 1, 1, 2, 2], 'objective': 710071, 'nr_variables': 185, 'ortools_objective': 710071, 'constraints': {'item_count': {'nr_constraint': 20, 'creation_time': 0.00224539999908302}, 'item_selection': {'nr_constraint': 20, 'creation_time': 0.0005455999926198274}, 'no_overlap': {'nr_constraint': 1073, 'creation_time': 0.22772270000132266}, 'bin_height': {'nr_constraint': 2, 'creation_time': 2.929999027401209e-05}, 'bin_capacity': {'nr_constraint': 0, 'creation_time': 8.00006091594696e-07}, 'within_bin': {'nr_constraint': 46, 'creation_time': 0.0044458999909693375}, 'get_constraints': {'nr_constraint': 2166, 'creation_time': 0.42241650000505615}}, 'total_time': 5.883464600003208}\n"
     ]
    },
    {
     "data": {
      "image/png": "[encoded data removed]",
      "text/plain": [
       "<Figure size 720x720 with 1 Axes>"
      ]
     },
     "metadata": {
      "needs_background": "light"
     },
     "output_type": "display_data"
    },
    {
     "name": "stdout",
     "output_type": "stream",
     "text": [
      "Running model [<class 'src.models.single_bin.guillotine.model.GuillotineSBM'>]\n",
      "Collecting constraints ...\n",
      "Warning, timeout protection only supported on Linux!\n",
      "nr constraints: 2093\n",
      "Transferring...\n",
      "Warning, timeout protection only supported on Linux!\n",
      "Solving...\n",
      "SAT True\n",
      "TIME 2.762749600005918\n",
      "{'item_count': {'nr_constraint': 20, 'creation_time': 0.00224539999908302}, 'item_selection': {'nr_constraint': 20, 'creation_time': 0.0005455999926198274}, 'no_overlap': {'nr_constraint': 1073, 'creation_time': 0.22772270000132266}, 'bin_height': {'nr_constraint': 2, 'creation_time': 2.929999027401209e-05}, 'bin_capacity': {'nr_constraint': 0, 'creation_time': 8.00006091594696e-07}, 'within_bin': {'nr_constraint': 46, 'creation_time': 0.0044458999909693375}, 'get_constraints': {'nr_constraint': 2093, 'creation_time': 0.3981707000057213}}\n",
      "STATS {'nr_constraints': 2093, 'transfer_time': 1.870158599995193, 'solve_time': 0.3924950000073295, 'density': 0.9904166666666666, 'bin_length': 96, 'fulfilled': [0, 0, 0, 4, 0, 0, 0, 0, 2, 0], 'counts': [0, 0, 0, 4, 0, 0, 0, 0, 2, 0], 'objective': 92, 'nr_variables': 1544, 'ortools_objective': 92, 'constraints': {'item_count': {'nr_constraint': 20, 'creation_time': 0.00224539999908302}, 'item_selection': {'nr_constraint': 20, 'creation_time': 0.0005455999926198274}, 'no_overlap': {'nr_constraint': 1073, 'creation_time': 0.22772270000132266}, 'bin_height': {'nr_constraint': 2, 'creation_time': 2.929999027401209e-05}, 'bin_capacity': {'nr_constraint': 0, 'creation_time': 8.00006091594696e-07}, 'within_bin': {'nr_constraint': 46, 'creation_time': 0.0044458999909693375}, 'get_constraints': {'nr_constraint': 2093, 'creation_time': 0.3981707000057213}}, 'total_time': 2.762749600005918}\n"
     ]
    },
    {
     "data": {
      "image/png": "[encoded data removed]",
      "text/plain": [
       "<Figure size 720x720 with 1 Axes>"
      ]
     },
     "metadata": {
      "needs_background": "light"
     },
     "output_type": "display_data"
    },
    {
     "name": "stdout",
     "output_type": "stream",
     "text": [
      "PROBLEM 10_100_100_6 {'widths': [37, 45, 69, 47, 74, 39, 60, 97, 35, 47], 'heights': [85, 95, 37, 59, 47, 54, 39, 42, 59, 79], 'machine_config': {'width': 100, 'min_length': 100, 'max_length': 100}}\n",
      "Running model [<class 'src.models.single_bin.anchor.model.AnchorSBM'>]\n",
      "Collecting constraints ...\n",
      "Warning, timeout protection only supported on Linux!\n",
      "nr_no_overlap 780\n",
      "nr constraints: 863\n",
      "Transferring...\n",
      "Warning, timeout protection only supported on Linux!\n",
      "Solving...\n",
      "SAT True\n",
      "TIME 2.007653399996343\n",
      "{'item_count': {'nr_constraint': 20, 'creation_time': 0.0057927000016206875}, 'item_selection': {'nr_constraint': 20, 'creation_time': 0.0006059000006644055}, 'no_overlap': {'nr_constraint': 780, 'creation_time': 0.22425939999811817}, 'bin_height': {'nr_constraint': 2, 'creation_time': 4.410000110510737e-05}, 'bin_capacity': {'nr_constraint': 0, 'creation_time': 1.1999945854768157e-06}, 'within_bin': {'nr_constraint': 40, 'creation_time': 0.0062729000055696815}, 'get_constraints': {'nr_constraint': 2093, 'creation_time': 0.3981707000057213}}\n",
      "STATS {'constraint_time': 0.23708579999220092, 'nr_constraints': 863, 'transfer_time': 1.3474368000024697, 'solve_time': 0.3959321000002092, 'density': 0.97, 'bin_length': 84, 'fulfilled': [0, 0, 0, 0, 0, 0, 0, 2, 0, 0], 'counts': [0, 0, 0, 0, 0, 0, 0, 2, 0, 0], 'repeats_width': [2, 2, 1, 2, 1, 2, 1, 1, 2, 2, 1, 1, 2, 1, 2, 1, 2, 2, 1, 1], 'repeats_length': [1, 1, 2, 1, 2, 1, 2, 2, 1, 1, 2, 2, 1, 2, 1, 2, 1, 1, 2, 2], 'objective': 2520042, 'nr_variables': 161, 'ortools_objective': 2520042, 'constraints': {'item_count': {'nr_constraint': 20, 'creation_time': 0.0057927000016206875}, 'item_selection': {'nr_constraint': 20, 'creation_time': 0.0006059000006644055}, 'no_overlap': {'nr_constraint': 780, 'creation_time': 0.22425939999811817}, 'bin_height': {'nr_constraint': 2, 'creation_time': 4.410000110510737e-05}, 'bin_capacity': {'nr_constraint': 0, 'creation_time': 1.1999945854768157e-06}, 'within_bin': {'nr_constraint': 40, 'creation_time': 0.0062729000055696815}, 'get_constraints': {'nr_constraint': 2093, 'creation_time': 0.3981707000057213}}, 'total_time': 2.007653399996343}\n"
     ]
    },
    {
     "data": {
      "image/png": "[encoded data removed]",
      "text/plain": [
       "<Figure size 720x720 with 1 Axes>"
      ]
     },
     "metadata": {
      "needs_background": "light"
     },
     "output_type": "display_data"
    },
    {
     "name": "stdout",
     "output_type": "stream",
     "text": [
      "Running model [<class 'src.models.single_bin.guillotine.model.GuillotineSBM'>]\n",
      "Collecting constraints ...\n",
      "Warning, timeout protection only supported on Linux!\n",
      "nr constraints: 222\n",
      "Transferring...\n",
      "Warning, timeout protection only supported on Linux!\n",
      "Solving...\n",
      "SAT True\n",
      "TIME 0.37695040000835434\n",
      "{'item_count': {'nr_constraint': 20, 'creation_time': 0.0057927000016206875}, 'item_selection': {'nr_constraint': 20, 'creation_time': 0.0006059000006644055}, 'no_overlap': {'nr_constraint': 780, 'creation_time': 0.22425939999811817}, 'bin_height': {'nr_constraint': 2, 'creation_time': 4.410000110510737e-05}, 'bin_capacity': {'nr_constraint': 0, 'creation_time': 1.1999945854768157e-06}, 'within_bin': {'nr_constraint': 40, 'creation_time': 0.0062729000055696815}, 'get_constraints': {'nr_constraint': 222, 'creation_time': 0.06676269999297801}}\n",
      "STATS {'nr_constraints': 222, 'transfer_time': 0.19072589999996126, 'solve_time': 0.08587689998967107, 'density': 0.97, 'bin_length': 84, 'fulfilled': [0, 0, 0, 0, 0, 0, 0, 2, 0, 0], 'counts': [0, 0, 0, 0, 0, 0, 0, 2, 0, 0], 'objective': 252, 'nr_variables': 224, 'ortools_objective': 252, 'constraints': {'item_count': {'nr_constraint': 20, 'creation_time': 0.0057927000016206875}, 'item_selection': {'nr_constraint': 20, 'creation_time': 0.0006059000006644055}, 'no_overlap': {'nr_constraint': 780, 'creation_time': 0.22425939999811817}, 'bin_height': {'nr_constraint': 2, 'creation_time': 4.410000110510737e-05}, 'bin_capacity': {'nr_constraint': 0, 'creation_time': 1.1999945854768157e-06}, 'within_bin': {'nr_constraint': 40, 'creation_time': 0.0062729000055696815}, 'get_constraints': {'nr_constraint': 222, 'creation_time': 0.06676269999297801}}, 'total_time': 0.37695040000835434}\n"
     ]
    },
    {
     "data": {
      "image/png": "[encoded data removed]",
      "text/plain": [
       "<Figure size 720x720 with 1 Axes>"
      ]
     },
     "metadata": {
      "needs_background": "light"
     },
     "output_type": "display_data"
    },
    {
     "name": "stdout",
     "output_type": "stream",
     "text": [
      "PROBLEM 10_100_100_7 {'widths': [51, 67, 55, 37, 95, 57, 56, 36, 37, 58], 'heights': [91, 31, 77, 37, 52, 82, 45, 53, 56, 58], 'machine_config': {'width': 100, 'min_length': 100, 'max_length': 100}}\n",
      "Running model [<class 'src.models.single_bin.anchor.model.AnchorSBM'>]\n",
      "Collecting constraints ...\n",
      "Warning, timeout protection only supported on Linux!\n",
      "nr_no_overlap 628\n",
      "nr constraints: 707\n",
      "Transferring...\n",
      "Warning, timeout protection only supported on Linux!\n",
      "Solving...\n",
      "SAT True\n",
      "TIME 2.3316746999917086\n",
      "{'item_count': {'nr_constraint': 20, 'creation_time': 0.0017772999999579042}, 'item_selection': {'nr_constraint': 20, 'creation_time': 0.0010498000046936795}, 'no_overlap': {'nr_constraint': 628, 'creation_time': 0.29396720000659116}, 'bin_height': {'nr_constraint': 2, 'creation_time': 2.2899999748915434e-05}, 'bin_capacity': {'nr_constraint': 0, 'creation_time': 5.999900167807937e-07}, 'within_bin': {'nr_constraint': 36, 'creation_time': 0.002957699995022267}, 'get_constraints': {'nr_constraint': 222, 'creation_time': 0.06676269999297801}}\n",
      "STATS {'constraint_time': 0.2998463999974774, 'nr_constraints': 707, 'transfer_time': 1.1781194999930449, 'solve_time': 0.828580300003523, 'density': 0.9774747474747475, 'bin_length': 99, 'fulfilled': [0, 4, 0, 1, 0, 0, 0, 0, 0, 0], 'counts': [0, 4, 0, 1, 0, 0, 0, 0, 0, 0], 'repeats_width': [1, 1, 1, 2, 1, 1, 1, 2, 2, 1, 1, 3, 1, 2, 1, 1, 2, 1, 1, 1], 'repeats_length': [1, 3, 1, 2, 1, 1, 2, 1, 1, 1, 1, 1, 1, 2, 1, 1, 1, 2, 2, 1], 'objective': 2230260, 'nr_variables': 149, 'ortools_objective': 2230260, 'constraints': {'item_count': {'nr_constraint': 20, 'creation_time': 0.0017772999999579042}, 'item_selection': {'nr_constraint': 20, 'creation_time': 0.0010498000046936795}, 'no_overlap': {'nr_constraint': 628, 'creation_time': 0.29396720000659116}, 'bin_height': {'nr_constraint': 2, 'creation_time': 2.2899999748915434e-05}, 'bin_capacity': {'nr_constraint': 0, 'creation_time': 5.999900167807937e-07}, 'within_bin': {'nr_constraint': 36, 'creation_time': 0.002957699995022267}, 'get_constraints': {'nr_constraint': 222, 'creation_time': 0.06676269999297801}}, 'total_time': 2.3316746999917086}\n"
     ]
    },
    {
     "data": {
      "image/png": "[encoded data removed]",
      "text/plain": [
       "<Figure size 720x720 with 1 Axes>"
      ]
     },
     "metadata": {
      "needs_background": "light"
     },
     "output_type": "display_data"
    },
    {
     "name": "stdout",
     "output_type": "stream",
     "text": [
      "Running model [<class 'src.models.single_bin.guillotine.model.GuillotineSBM'>]\n",
      "Collecting constraints ...\n",
      "Warning, timeout protection only supported on Linux!\n",
      "nr constraints: 841\n",
      "Transferring...\n",
      "Warning, timeout protection only supported on Linux!\n",
      "Solving...\n",
      "SAT True\n",
      "TIME 1.0976680999883683\n",
      "{'item_count': {'nr_constraint': 20, 'creation_time': 0.0017772999999579042}, 'item_selection': {'nr_constraint': 20, 'creation_time': 0.0010498000046936795}, 'no_overlap': {'nr_constraint': 628, 'creation_time': 0.29396720000659116}, 'bin_height': {'nr_constraint': 2, 'creation_time': 2.2899999748915434e-05}, 'bin_capacity': {'nr_constraint': 0, 'creation_time': 5.999900167807937e-07}, 'within_bin': {'nr_constraint': 36, 'creation_time': 0.002957699995022267}, 'get_constraints': {'nr_constraint': 841, 'creation_time': 0.18723949999548495}}\n",
      "STATS {'nr_constraints': 841, 'transfer_time': 0.6651734000042779, 'solve_time': 0.18741980000049807, 'density': 0.95, 'bin_length': 52, 'fulfilled': [0, 0, 0, 0, 1, 0, 0, 0, 0, 0], 'counts': [0, 0, 0, 0, 1, 0, 0, 0, 0, 0], 'objective': 260, 'nr_variables': 690, 'ortools_objective': 260, 'constraints': {'item_count': {'nr_constraint': 20, 'creation_time': 0.0017772999999579042}, 'item_selection': {'nr_constraint': 20, 'creation_time': 0.0010498000046936795}, 'no_overlap': {'nr_constraint': 628, 'creation_time': 0.29396720000659116}, 'bin_height': {'nr_constraint': 2, 'creation_time': 2.2899999748915434e-05}, 'bin_capacity': {'nr_constraint': 0, 'creation_time': 5.999900167807937e-07}, 'within_bin': {'nr_constraint': 36, 'creation_time': 0.002957699995022267}, 'get_constraints': {'nr_constraint': 841, 'creation_time': 0.18723949999548495}}, 'total_time': 1.0976680999883683}\n"
     ]
    },
    {
     "data": {
      "image/png": "[encoded data removed]",
      "text/plain": [
       "<Figure size 720x720 with 1 Axes>"
      ]
     },
     "metadata": {
      "needs_background": "light"
     },
     "output_type": "display_data"
    },
    {
     "name": "stdout",
     "output_type": "stream",
     "text": [
      "PROBLEM 10_100_100_8 {'widths': [84, 35, 86, 62, 54, 49, 35, 63, 46, 79], 'heights': [57, 73, 48, 32, 79, 82, 62, 62, 42, 59], 'machine_config': {'width': 100, 'min_length': 100, 'max_length': 100}}\n",
      "Running model [<class 'src.models.single_bin.anchor.model.AnchorSBM'>]\n",
      "Collecting constraints ...\n",
      "Warning, timeout protection only supported on Linux!\n",
      "nr_no_overlap 701\n",
      "nr constraints: 782\n",
      "Transferring...\n",
      "Warning, timeout protection only supported on Linux!\n",
      "Solving...\n",
      "SAT True\n",
      "TIME 1.5700566000014078\n",
      "{'item_count': {'nr_constraint': 20, 'creation_time': 0.0013844999921275303}, 'item_selection': {'nr_constraint': 20, 'creation_time': 0.0005256000004010275}, 'no_overlap': {'nr_constraint': 701, 'creation_time': 0.2546429999929387}, 'bin_height': {'nr_constraint': 2, 'creation_time': 2.2499996703118086e-05}, 'bin_capacity': {'nr_constraint': 0, 'creation_time': 6.00004568696022e-07}, 'within_bin': {'nr_constraint': 38, 'creation_time': 0.0028254999924683943}, 'get_constraints': {'nr_constraint': 841, 'creation_time': 0.18723949999548495}}\n",
      "STATS {'constraint_time': 0.2594768999988446, 'nr_constraints': 782, 'transfer_time': 0.9208217000123113, 'solve_time': 0.36380210000788793, 'density': 0.99, 'bin_length': 62, 'fulfilled': [0, 0, 0, 2, 0, 0, 1, 0, 0, 0], 'counts': [0, 0, 0, 2, 0, 0, 1, 0, 0, 0], 'repeats_width': [1, 2, 1, 1, 1, 2, 2, 1, 2, 1, 1, 1, 2, 3, 1, 1, 1, 1, 2, 1], 'repeats_length': [1, 1, 2, 3, 1, 1, 1, 1, 2, 1, 1, 2, 1, 1, 1, 2, 2, 1, 2, 1], 'objective': 620096, 'nr_variables': 155, 'ortools_objective': 620096, 'constraints': {'item_count': {'nr_constraint': 20, 'creation_time': 0.0013844999921275303}, 'item_selection': {'nr_constraint': 20, 'creation_time': 0.0005256000004010275}, 'no_overlap': {'nr_constraint': 701, 'creation_time': 0.2546429999929387}, 'bin_height': {'nr_constraint': 2, 'creation_time': 2.2499996703118086e-05}, 'bin_capacity': {'nr_constraint': 0, 'creation_time': 6.00004568696022e-07}, 'within_bin': {'nr_constraint': 38, 'creation_time': 0.0028254999924683943}, 'get_constraints': {'nr_constraint': 841, 'creation_time': 0.18723949999548495}}, 'total_time': 1.5700566000014078}\n"
     ]
    },
    {
     "data": {
      "image/png": "[encoded data removed]",
      "text/plain": [
       "<Figure size 720x720 with 1 Axes>"
      ]
     },
     "metadata": {
      "needs_background": "light"
     },
     "output_type": "display_data"
    },
    {
     "name": "stdout",
     "output_type": "stream",
     "text": [
      "Running model [<class 'src.models.single_bin.guillotine.model.GuillotineSBM'>]\n",
      "Collecting constraints ...\n",
      "Warning, timeout protection only supported on Linux!\n",
      "nr constraints: 841\n",
      "Transferring...\n",
      "Warning, timeout protection only supported on Linux!\n",
      "Solving...\n",
      "SAT True\n",
      "TIME 1.0427135999925667\n",
      "{'item_count': {'nr_constraint': 20, 'creation_time': 0.0013844999921275303}, 'item_selection': {'nr_constraint': 20, 'creation_time': 0.0005256000004010275}, 'no_overlap': {'nr_constraint': 701, 'creation_time': 0.2546429999929387}, 'bin_height': {'nr_constraint': 2, 'creation_time': 2.2499996703118086e-05}, 'bin_capacity': {'nr_constraint': 0, 'creation_time': 6.00004568696022e-07}, 'within_bin': {'nr_constraint': 38, 'creation_time': 0.0028254999924683943}, 'get_constraints': {'nr_constraint': 841, 'creation_time': 0.22164380000322126}}\n",
      "STATS {'nr_constraints': 841, 'transfer_time': 0.6059199000010267, 'solve_time': 0.15680969999812078, 'density': 0.99, 'bin_length': 62, 'fulfilled': [0, 0, 0, 2, 0, 0, 1, 0, 0, 0], 'counts': [0, 0, 0, 2, 0, 0, 1, 0, 0, 0], 'objective': 62, 'nr_variables': 690, 'ortools_objective': 62, 'constraints': {'item_count': {'nr_constraint': 20, 'creation_time': 0.0013844999921275303}, 'item_selection': {'nr_constraint': 20, 'creation_time': 0.0005256000004010275}, 'no_overlap': {'nr_constraint': 701, 'creation_time': 0.2546429999929387}, 'bin_height': {'nr_constraint': 2, 'creation_time': 2.2499996703118086e-05}, 'bin_capacity': {'nr_constraint': 0, 'creation_time': 6.00004568696022e-07}, 'within_bin': {'nr_constraint': 38, 'creation_time': 0.0028254999924683943}, 'get_constraints': {'nr_constraint': 841, 'creation_time': 0.22164380000322126}}, 'total_time': 1.0427135999925667}\n"
     ]
    },
    {
     "data": {
      "image/png": "[encoded data removed]",
      "text/plain": [
       "<Figure size 720x720 with 1 Axes>"
      ]
     },
     "metadata": {
      "needs_background": "light"
     },
     "output_type": "display_data"
    },
    {
     "name": "stdout",
     "output_type": "stream",
     "text": [
      "PROBLEM 10_100_100_9 {'widths': [74, 57, 46, 65, 90, 23, 59, 92, 60, 54], 'heights': [62, 78, 57, 65, 43, 37, 58, 51, 32, 66], 'machine_config': {'width': 100, 'min_length': 100, 'max_length': 100}}\n",
      "Running model [<class 'src.models.single_bin.anchor.model.AnchorSBM'>]\n",
      "Collecting constraints ...\n",
      "Warning, timeout protection only supported on Linux!\n",
      "nr_no_overlap 823\n",
      "nr constraints: 906\n",
      "Transferring...\n",
      "Warning, timeout protection only supported on Linux!\n",
      "Solving...\n",
      "SAT True\n",
      "TIME 2.66512179998972\n",
      "{'item_count': {'nr_constraint': 20, 'creation_time': 0.0019147999992128462}, 'item_selection': {'nr_constraint': 20, 'creation_time': 0.0004398000019136816}, 'no_overlap': {'nr_constraint': 823, 'creation_time': 0.17898559999594}, 'bin_height': {'nr_constraint': 2, 'creation_time': 2.3800006601959467e-05}, 'bin_capacity': {'nr_constraint': 0, 'creation_time': 5.00003807246685e-07}, 'within_bin': {'nr_constraint': 40, 'creation_time': 0.0031312000064644963}, 'get_constraints': {'nr_constraint': 841, 'creation_time': 0.22164380000322126}}\n",
      "STATS {'constraint_time': 0.18456949999381322, 'nr_constraints': 906, 'transfer_time': 1.4356578000006266, 'solve_time': 1.021764000004623, 'density': 0.9906521739130435, 'bin_length': 92, 'fulfilled': [0, 0, 2, 0, 1, 0, 0, 0, 0, 0], 'counts': [0, 0, 2, 0, 1, 0, 0, 0, 0, 0], 'repeats_width': [1, 1, 2, 1, 1, 4, 1, 1, 1, 1, 1, 1, 1, 1, 2, 2, 1, 1, 3, 1], 'repeats_length': [1, 1, 1, 1, 2, 2, 1, 1, 3, 1, 1, 1, 2, 1, 1, 4, 1, 1, 1, 1], 'objective': 860103, 'nr_variables': 167, 'ortools_objective': 860103, 'constraints': {'item_count': {'nr_constraint': 20, 'creation_time': 0.0019147999992128462}, 'item_selection': {'nr_constraint': 20, 'creation_time': 0.0004398000019136816}, 'no_overlap': {'nr_constraint': 823, 'creation_time': 0.17898559999594}, 'bin_height': {'nr_constraint': 2, 'creation_time': 2.3800006601959467e-05}, 'bin_capacity': {'nr_constraint': 0, 'creation_time': 5.00003807246685e-07}, 'within_bin': {'nr_constraint': 40, 'creation_time': 0.0031312000064644963}, 'get_constraints': {'nr_constraint': 841, 'creation_time': 0.22164380000322126}}, 'total_time': 2.66512179998972}\n"
     ]
    },
    {
     "data": {
      "image/png": "[encoded data removed]",
      "text/plain": [
       "<Figure size 720x720 with 1 Axes>"
      ]
     },
     "metadata": {
      "needs_background": "light"
     },
     "output_type": "display_data"
    },
    {
     "name": "stdout",
     "output_type": "stream",
     "text": [
      "Running model [<class 'src.models.single_bin.guillotine.model.GuillotineSBM'>]\n",
      "Collecting constraints ...\n",
      "Warning, timeout protection only supported on Linux!\n",
      "nr constraints: 2239\n",
      "Transferring...\n",
      "Warning, timeout protection only supported on Linux!\n",
      "Solving...\n",
      "SAT True\n",
      "TIME 2.417511200008448\n",
      "{'item_count': {'nr_constraint': 20, 'creation_time': 0.0019147999992128462}, 'item_selection': {'nr_constraint': 20, 'creation_time': 0.0004398000019136816}, 'no_overlap': {'nr_constraint': 823, 'creation_time': 0.17898559999594}, 'bin_height': {'nr_constraint': 2, 'creation_time': 2.3800006601959467e-05}, 'bin_capacity': {'nr_constraint': 0, 'creation_time': 5.00003807246685e-07}, 'within_bin': {'nr_constraint': 40, 'creation_time': 0.0031312000064644963}, 'get_constraints': {'nr_constraint': 2239, 'creation_time': 0.4071685999952024}}\n",
      "STATS {'nr_constraints': 2239, 'transfer_time': 1.6267140000127256, 'solve_time': 0.2872230000066338, 'density': 0.9906521739130435, 'bin_length': 92, 'fulfilled': [0, 0, 2, 0, 1, 0, 0, 0, 0, 0], 'counts': [0, 0, 2, 0, 1, 0, 0, 0, 0, 0], 'objective': 86, 'nr_variables': 1576, 'ortools_objective': 86, 'constraints': {'item_count': {'nr_constraint': 20, 'creation_time': 0.0019147999992128462}, 'item_selection': {'nr_constraint': 20, 'creation_time': 0.0004398000019136816}, 'no_overlap': {'nr_constraint': 823, 'creation_time': 0.17898559999594}, 'bin_height': {'nr_constraint': 2, 'creation_time': 2.3800006601959467e-05}, 'bin_capacity': {'nr_constraint': 0, 'creation_time': 5.00003807246685e-07}, 'within_bin': {'nr_constraint': 40, 'creation_time': 0.0031312000064644963}, 'get_constraints': {'nr_constraint': 2239, 'creation_time': 0.4071685999952024}}, 'total_time': 2.417511200008448}\n"
     ]
    },
    {
     "data": {
      "image/png": "[encoded data removed]",
      "text/plain": [
       "<Figure size 720x720 with 1 Axes>"
      ]
     },
     "metadata": {
      "needs_background": "light"
     },
     "output_type": "display_data"
    }
   ],
   "source": [
    "nr_item_types = [10]\n",
    "\n",
    "for minutes in [1]:\n",
    "    for nr_item_type in nr_item_types:\n",
    "        for problem in problems:\n",
    "\n",
    "            x, y = problem\n",
    "\n",
    "            file_name = str(nr_item_type) + \"_\" + str(x) + \"_\" + str(y) \n",
    "\n",
    "            f = open(os.path.join(os.getcwd(), \"problems\", file_name + \".json\"))\n",
    "            data = json.load(f)\n",
    "\n",
    "            run_single_bin_benchmark_repeated([AnchorSBM, GuillotineSBM], (ProblemJsonS.init_from_file(data)), max_time_seconds=60*minutes, nr_repeats=1)"
   ]
  }
 ],
 "metadata": {
  "kernelspec": {
   "display_name": "CPMpy",
   "language": "python",
   "name": "python3"
  },
  "language_info": {
   "codemirror_mode": {
    "name": "ipython",
    "version": 3
   },
   "file_extension": ".py",
   "mimetype": "text/x-python",
   "name": "python",
   "nbconvert_exporter": "python",
   "pygments_lexer": "ipython3",
   "version": "3.10.8"
  }
 },
 "nbformat": 4,
 "nbformat_minor": 4
}
