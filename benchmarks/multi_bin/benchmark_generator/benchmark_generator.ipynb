{
 "cells": [
  {
   "cell_type": "markdown",
   "metadata": {},
   "source": [
    "# SLOPP + due-date problem generator"
   ]
  },
  {
   "cell_type": "code",
   "execution_count": 1,
   "metadata": {},
   "outputs": [],
   "source": [
    "%load_ext autoreload\n",
    "%autoreload 2"
   ]
  },
  {
   "cell_type": "code",
   "execution_count": 2,
   "metadata": {},
   "outputs": [],
   "source": [
    "import os\n",
    "import sys\n",
    "import json\n",
    "from tqdm.notebook import tqdm"
   ]
  },
  {
   "cell_type": "code",
   "execution_count": 3,
   "metadata": {},
   "outputs": [],
   "source": [
    "from DueDateBenchmarkModel import DueDateBenchmarkModel"
   ]
  },
  {
   "cell_type": "code",
   "execution_count": 4,
   "metadata": {},
   "outputs": [],
   "source": [
    "import_path = os.path.join(\"..\", \"..\", \"single_bin_creel\", \"problems\")\n",
    "export_path = os.path.join(\"..\", \"..\", \"multi_bin\", \"problems\")"
   ]
  },
  {
   "cell_type": "code",
   "execution_count": 5,
   "metadata": {},
   "outputs": [],
   "source": [
    "nr_item_types = [4,7,10]\n",
    "nr_instances_per_problem = 10\n",
    "nr_deadlines = [1, 3, 6]"
   ]
  },
  {
   "cell_type": "code",
   "execution_count": 6,
   "metadata": {},
   "outputs": [
    {
     "data": {
      "application/vnd.jupyter.widget-view+json": {
       "model_id": "e7a720e5ece74a3cb06480b9c22dc22e",
       "version_major": 2,
       "version_minor": 0
      },
      "text/plain": [
       "  0%|          | 0/3 [00:00<?, ?it/s]"
      ]
     },
     "metadata": {},
     "output_type": "display_data"
    },
    {
     "ename": "FileNotFoundError",
     "evalue": "[Errno 2] No such file or directory: '..\\\\..\\\\single_bin_creel\\\\problems\\\\4_100_400.json'",
     "output_type": "error",
     "traceback": [
      "\u001b[1;31m---------------------------------------------------------------------------\u001b[0m",
      "\u001b[1;31mFileNotFoundError\u001b[0m                         Traceback (most recent call last)",
      "\u001b[1;32me:\\Programming\\Burgi\\IndustrialWeavePlanning\\benchmarks\\multi_bin\\benchmark_generator\\benchmark_generator.ipynb Cell 6\u001b[0m in \u001b[0;36m<cell line: 1>\u001b[1;34m()\u001b[0m\n\u001b[0;32m      <a href='vscode-notebook-cell:/e%3A/Programming/Burgi/IndustrialWeavePlanning/benchmarks/multi_bin/benchmark_generator/benchmark_generator.ipynb#W5sZmlsZQ%3D%3D?line=4'>5</a>\u001b[0m x \u001b[39m=\u001b[39m \u001b[39m100\u001b[39m\n\u001b[0;32m      <a href='vscode-notebook-cell:/e%3A/Programming/Burgi/IndustrialWeavePlanning/benchmarks/multi_bin/benchmark_generator/benchmark_generator.ipynb#W5sZmlsZQ%3D%3D?line=6'>7</a>\u001b[0m file_name \u001b[39m=\u001b[39m \u001b[39mstr\u001b[39m(nr_item_type) \u001b[39m+\u001b[39m \u001b[39m\"\u001b[39m\u001b[39m_\u001b[39m\u001b[39m\"\u001b[39m \u001b[39m+\u001b[39m \u001b[39mstr\u001b[39m(x) \u001b[39m+\u001b[39m \u001b[39m\"\u001b[39m\u001b[39m_\u001b[39m\u001b[39m\"\u001b[39m \u001b[39m+\u001b[39m \u001b[39mstr\u001b[39m(y) \n\u001b[1;32m----> <a href='vscode-notebook-cell:/e%3A/Programming/Burgi/IndustrialWeavePlanning/benchmarks/multi_bin/benchmark_generator/benchmark_generator.ipynb#W5sZmlsZQ%3D%3D?line=7'>8</a>\u001b[0m file \u001b[39m=\u001b[39m \u001b[39mopen\u001b[39;49m(os\u001b[39m.\u001b[39;49mpath\u001b[39m.\u001b[39;49mjoin(import_path, file_name \u001b[39m+\u001b[39;49m \u001b[39m\"\u001b[39;49m\u001b[39m.json\u001b[39;49m\u001b[39m\"\u001b[39;49m), \u001b[39m\"\u001b[39;49m\u001b[39mr\u001b[39;49m\u001b[39m\"\u001b[39;49m)\n\u001b[0;32m      <a href='vscode-notebook-cell:/e%3A/Programming/Burgi/IndustrialWeavePlanning/benchmarks/multi_bin/benchmark_generator/benchmark_generator.ipynb#W5sZmlsZQ%3D%3D?line=8'>9</a>\u001b[0m json_file \u001b[39m=\u001b[39m json\u001b[39m.\u001b[39mload(file)\n\u001b[0;32m     <a href='vscode-notebook-cell:/e%3A/Programming/Burgi/IndustrialWeavePlanning/benchmarks/multi_bin/benchmark_generator/benchmark_generator.ipynb#W5sZmlsZQ%3D%3D?line=9'>10</a>\u001b[0m \u001b[39mprint\u001b[39m(json_file)\n",
      "\u001b[1;31mFileNotFoundError\u001b[0m: [Errno 2] No such file or directory: '..\\\\..\\\\single_bin_creel\\\\problems\\\\4_100_400.json'"
     ]
    }
   ],
   "source": [
    "for nr_item_type in tqdm(nr_item_types):\n",
    "\n",
    "    y = 400\n",
    "    x = 100\n",
    "\n",
    "    file_name = str(nr_item_type) + \"_\" + str(x) + \"_\" + str(y) \n",
    "    file = open(os.path.join(import_path, file_name + \".json\"), \"r\")\n",
    "    json_file = json.load(file)\n",
    "\n",
    "    benchmark = {}\n",
    "\n",
    "    for problem_instance in range(nr_instances_per_problem):\n",
    "        problem_instance_name = file_name + \"_\" + str(problem_instance)\n",
    "        item_widths = json_file[problem_instance_name][\"widths\"]\n",
    "        item_heights = json_file[problem_instance_name][\"heights\"]\n",
    "        object_width = json_file[problem_instance_name][\"machine_config\"][\"width\"]\n",
    "        object_height = json_file[problem_instance_name][\"machine_config\"][\"min_length\"]\n",
    "\n",
    "        for nr_deadline in nr_deadlines:\n",
    "\n",
    "            model = DueDateBenchmarkModel(\n",
    "                nr_items=nr_item_type,\n",
    "                nr_deadlines=nr_deadline,\n",
    "                item_widths=[int(i) for i in item_widths],\n",
    "                item_heights=[int(i) for i in item_heights],\n",
    "                object_width=object_width,\n",
    "                object_length=object_height\n",
    "            )\n",
    "\n",
    "            model.solve()\n",
    "\n",
    "            bench = model.export()\n",
    "            \n",
    "            problem_instance_name = file_name + \"_\" + str(nr_deadline) + \"_\" + str(problem_instance)\n",
    "            benchmark[problem_instance_name] = bench\n",
    "\n",
    "    json_object = json.dumps(benchmark, indent=4)\n",
    "\n",
    "    with open(os.path.join(export_path, \"_\".join([str(i) for i in nr_deadlines]), file_name + \".json\"), \"w\") as outfile:\n",
    "        outfile.write(json_object)"
   ]
  }
 ],
 "metadata": {
  "kernelspec": {
   "display_name": "CPMpy",
   "language": "python",
   "name": "python3"
  },
  "language_info": {
   "codemirror_mode": {
    "name": "ipython",
    "version": 3
   },
   "file_extension": ".py",
   "mimetype": "text/x-python",
   "name": "python",
   "nbconvert_exporter": "python",
   "pygments_lexer": "ipython3",
   "version": "3.10.8"
  },
  "orig_nbformat": 4
 },
 "nbformat": 4,
 "nbformat_minor": 2
}
