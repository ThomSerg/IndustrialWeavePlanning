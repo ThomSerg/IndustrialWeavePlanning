{
 "cells": [
  {
   "cell_type": "code",
   "execution_count": 1,
   "metadata": {},
   "outputs": [],
   "source": [
    "%load_ext autoreload\n",
    "%autoreload 2"
   ]
  },
  {
   "cell_type": "code",
   "execution_count": 2,
   "metadata": {},
   "outputs": [],
   "source": [
    "import sys,os, json\n",
    "sys.path.append(\"../..\")"
   ]
  },
  {
   "cell_type": "code",
   "execution_count": 3,
   "metadata": {},
   "outputs": [],
   "source": [
    "from src.models.multi_bin.baseline.model import BaselineMBM\n",
    "from src.models.multi_bin.lns.model import LnsMBM\n",
    "from src.models.multi_bin.iterative.model import IterativeMBM\n",
    "\n",
    "from src.extensions.due_dates.models.production_model import ProductionModel\n",
    "from src.models.multi_bin.lns.model import ProductionModelLNS\n",
    "\n",
    "\n",
    "from src.models.single_bin.anchor.model import AnchorSBM\n",
    "from src.models.single_bin.baseline.model import BaselineSBM\n",
    "from src.models.single_bin.guillotine.model import GuillotineSBM\n",
    "\n",
    "\n",
    "from benchmarks.problem_json import ProblemJsonM\n",
    "\n",
    "from benchmarks.utils import run_multi_bin_benchmark"
   ]
  },
  {
   "cell_type": "code",
   "execution_count": 4,
   "metadata": {},
   "outputs": [],
   "source": [
    "solver_models = [BaselineMBM]\n",
    "production_models = [ProductionModel]#ProductionModel] # ProductionModelLNS\n",
    "single_bin_models = [AnchorSBM]\n",
    "\n",
    "nr_packings = 5\n",
    "timeout = 60 * 4 * nr_packings\n",
    "production_timeout=60\n",
    "nr_iterations = nr_packings\n",
    "\n",
    "args = {\n",
    "    \"nr_iterations\": nr_iterations,\n",
    "    \"packing_timeout\": timeout, \n",
    "    \"production_timeout\": production_timeout,\n",
    "    \"timeout\": timeout\n",
    "}"
   ]
  },
  {
   "cell_type": "code",
   "execution_count": 5,
   "metadata": {},
   "outputs": [],
   "source": [
    "problems = [\n",
    "    (100, 400)\n",
    "]\n",
    "\n",
    "nr_item_types = [4, 7, 10]"
   ]
  },
  {
   "cell_type": "code",
   "execution_count": 6,
   "metadata": {},
   "outputs": [
    {
     "name": "stdout",
     "output_type": "stream",
     "text": [
      "PROBLEM 4_100_400_1_0\n",
      "{'widths': [44, 49, 37, 43], 'heights': [43, 94, 72, 54], 'deadlines': [13], 'deadline_counts': [[205], [1], [1], [71]], 'machine_config': {'width': 100, 'min_length': 400, 'max_length': 400}}\n",
      "Collecting constraints ...\n",
      "Warning, timeout protection only supported on Linux!\n",
      "nr_no_overlap 1996\n",
      "nr_constraints 2117\n",
      "Transferring...\n",
      "Warning, timeout protection only supported on Linux!\n",
      "Solving...\n"
     ]
    }
   ],
   "source": [
    "for nr_item_type in nr_item_types:\n",
    "    for problem in problems:\n",
    "\n",
    "        x, y = problem\n",
    "\n",
    "        file_name = str(nr_item_type) + \"_\" + str(x) + \"_\" + str(y) \n",
    "\n",
    "        f = open(os.path.join(os.getcwd(), \"problems\", file_name + \".json\"))\n",
    "        data = json.load(f)\n",
    "        \n",
    "        run_multi_bin_benchmark(solver_models, production_models, single_bin_models, ProblemJsonM.init_from_file(data), args=args)"
   ]
  }
 ],
 "metadata": {
  "kernelspec": {
   "display_name": "Python 3 (ipykernel)",
   "language": "python",
   "name": "python3"
  },
  "language_info": {
   "codemirror_mode": {
    "name": "ipython",
    "version": 3
   },
   "file_extension": ".py",
   "mimetype": "text/x-python",
   "name": "python",
   "nbconvert_exporter": "python",
   "pygments_lexer": "ipython3",
   "version": "3.10.8"
  }
 },
 "nbformat": 4,
 "nbformat_minor": 4
}
