{
 "cells": [
  {
   "cell_type": "code",
   "execution_count": 12,
   "metadata": {},
   "outputs": [
    {
     "name": "stdout",
     "output_type": "stream",
     "text": [
      "The autoreload extension is already loaded. To reload it, use:\n",
      "  %reload_ext autoreload\n"
     ]
    }
   ],
   "source": [
    "%load_ext autoreload\n",
    "%autoreload 2"
   ]
  },
  {
   "cell_type": "code",
   "execution_count": 13,
   "metadata": {},
   "outputs": [],
   "source": [
    "import sys,os,json\n",
    "sys.path.append(os.path.join(\"..\",\"..\"))"
   ]
  },
  {
   "cell_type": "code",
   "execution_count": 14,
   "metadata": {},
   "outputs": [],
   "source": [
    "from benchmarks.utils import *\n",
    "from benchmarks.problem_json import *\n",
    "from src.models.single_bin_creel.anchor.model import AnchorSBMCreel\n",
    "from src.models.single_bin_creel.guillotine.model import GuillotineSBMCreel"
   ]
  },
  {
   "cell_type": "code",
   "execution_count": 15,
   "metadata": {},
   "outputs": [],
   "source": [
    "problems = [\n",
    "    #(100,100),\n",
    "    #(200,200),\n",
    "    #(300,300),\n",
    "    (100,400), # 1 minute\n",
    "    # (200,450),\n",
    "    #(100,900) # 4 minutes\n",
    "]"
   ]
  },
  {
   "cell_type": "code",
   "execution_count": 16,
   "metadata": {},
   "outputs": [
    {
     "name": "stdout",
     "output_type": "stream",
     "text": [
      "[CompositeColor(ID=0, basic_colors=[Color(r=1, g=0, b=0)]), CompositeColor(ID=1, basic_colors=[Color(r=0, g=1, b=0)]), CompositeColor(ID=2, basic_colors=[Color(r=0, g=0, b=1)]), CompositeColor(ID=3, basic_colors=[Color(r=1, g=0, b=1)]), CompositeColor(ID=4, basic_colors=[Color(r=0, g=1, b=1)])]\n",
      "[CompositeColor(ID=0, basic_colors=[Color(r=1, g=0, b=0)]), CompositeColor(ID=1, basic_colors=[Color(r=0, g=1, b=0)]), CompositeColor(ID=2, basic_colors=[Color(r=0, g=0, b=1)]), CompositeColor(ID=3, basic_colors=[Color(r=1, g=0, b=1)]), CompositeColor(ID=4, basic_colors=[Color(r=0, g=1, b=1)])]\n",
      "[CompositeColor(ID=0, basic_colors=[Color(r=1, g=0, b=0)]), CompositeColor(ID=1, basic_colors=[Color(r=0, g=1, b=0)]), CompositeColor(ID=2, basic_colors=[Color(r=0, g=0, b=1)]), CompositeColor(ID=3, basic_colors=[Color(r=1, g=0, b=1)]), CompositeColor(ID=4, basic_colors=[Color(r=0, g=1, b=1)])]\n",
      "[CompositeColor(ID=0, basic_colors=[Color(r=1, g=0, b=0)]), CompositeColor(ID=1, basic_colors=[Color(r=0, g=1, b=0)]), CompositeColor(ID=2, basic_colors=[Color(r=0, g=0, b=1)]), CompositeColor(ID=3, basic_colors=[Color(r=1, g=0, b=1)]), CompositeColor(ID=4, basic_colors=[Color(r=0, g=1, b=1)])]\n",
      "[CompositeColor(ID=0, basic_colors=[Color(r=1, g=0, b=0)]), CompositeColor(ID=1, basic_colors=[Color(r=0, g=1, b=0)]), CompositeColor(ID=2, basic_colors=[Color(r=0, g=0, b=1)]), CompositeColor(ID=3, basic_colors=[Color(r=1, g=0, b=1)]), CompositeColor(ID=4, basic_colors=[Color(r=0, g=1, b=1)])]\n",
      "[CompositeColor(ID=0, basic_colors=[Color(r=1, g=0, b=0)]), CompositeColor(ID=1, basic_colors=[Color(r=0, g=1, b=0)]), CompositeColor(ID=2, basic_colors=[Color(r=0, g=0, b=1)]), CompositeColor(ID=3, basic_colors=[Color(r=1, g=0, b=1)]), CompositeColor(ID=4, basic_colors=[Color(r=0, g=1, b=1)])]\n",
      "[CompositeColor(ID=0, basic_colors=[Color(r=1, g=0, b=0)]), CompositeColor(ID=1, basic_colors=[Color(r=0, g=1, b=0)]), CompositeColor(ID=2, basic_colors=[Color(r=0, g=0, b=1)]), CompositeColor(ID=3, basic_colors=[Color(r=1, g=0, b=1)]), CompositeColor(ID=4, basic_colors=[Color(r=0, g=1, b=1)])]\n",
      "[CompositeColor(ID=0, basic_colors=[Color(r=1, g=0, b=0)]), CompositeColor(ID=1, basic_colors=[Color(r=0, g=1, b=0)]), CompositeColor(ID=2, basic_colors=[Color(r=0, g=0, b=1)]), CompositeColor(ID=3, basic_colors=[Color(r=1, g=0, b=1)]), CompositeColor(ID=4, basic_colors=[Color(r=0, g=1, b=1)])]\n",
      "[CompositeColor(ID=0, basic_colors=[Color(r=1, g=0, b=0)]), CompositeColor(ID=1, basic_colors=[Color(r=0, g=1, b=0)]), CompositeColor(ID=2, basic_colors=[Color(r=0, g=0, b=1)]), CompositeColor(ID=3, basic_colors=[Color(r=1, g=0, b=1)]), CompositeColor(ID=4, basic_colors=[Color(r=0, g=1, b=1)])]\n",
      "[CompositeColor(ID=0, basic_colors=[Color(r=1, g=0, b=0)]), CompositeColor(ID=1, basic_colors=[Color(r=0, g=1, b=0)]), CompositeColor(ID=2, basic_colors=[Color(r=0, g=0, b=1)]), CompositeColor(ID=3, basic_colors=[Color(r=1, g=0, b=1)]), CompositeColor(ID=4, basic_colors=[Color(r=0, g=1, b=1)])]\n",
      "PROBLEM 4_100_400_0\n",
      "{'widths': [44, 49, 37, 43], 'heights': [43, 94, 72, 54], 'machine_config': {'width': 100, 'min_length': 400, 'max_length': 400}}\n",
      "[IV439, IV440, IV444, IV445, IV449, IV450, IV454, IV455]\n",
      "[IV441, IV442, IV446, IV447, IV451, IV452, IV456, IV457]\n",
      "[(IV439) + (IV441), (IV440) + (IV442), (IV444) + (IV446), (IV445) + (IV447), (IV449) + (IV451), (IV450) + (IV452), (IV454) + (IV456), (IV455) + (IV457)]\n",
      "[IV438 > 0, IV438 > 1, IV443 > 0, IV443 > 1, IV448 > 0, IV448 > 1, IV453 > 0, IV453 > 1]\n",
      "Transferring...\n",
      "Solving...\n",
      "SAT True\n",
      "TIME 11.353691499913111\n",
      "{'get_constraints': {'nr_constraint': 3283, 'creation_time': 0.5411541999783367}}\n",
      "STATS {'nr_constraints': 3283, 'transfer_time': 2.6033336999826133, 'solve_time': 7.982150899944827, 'density': 0.9288, 'bin_length': 400, 'fulfilled': [0, 0, 0, 16], 'counts': [0, 0, 0, 16], 'objective': 2848, 'nr_variables': 1760, 'ortools_objective': 2848, 'total_time': 11.353691499913111}\n"
     ]
    },
    {
     "data": {
      "image/png": "[encoded data removed]",
      "text/plain": [
       "<Figure size 2880x720 with 1 Axes>"
      ]
     },
     "metadata": {
      "needs_background": "light"
     },
     "output_type": "display_data"
    },
    {
     "name": "stdout",
     "output_type": "stream",
     "text": [
      "PROBLEM 4_100_400_1\n",
      "{'widths': [83, 35, 24, 29], 'heights': [53, 27, 46, 37], 'machine_config': {'width': 100, 'min_length': 400, 'max_length': 400}}\n",
      "[IV1825, IV1826, IV1827, IV1832, IV1833, IV1834, IV1839, IV1840, IV1841, IV1842, IV1848]\n",
      "[IV1828, IV1829, IV1830, IV1835, IV1836, IV1837, IV1843, IV1844, IV1845, IV1846, IV1849]\n",
      "[(IV1825) + (IV1828), (IV1826) + (IV1829), (IV1827) + (IV1830), (IV1832) + (IV1835), (IV1833) + (IV1836), (IV1834) + (IV1837), (IV1839) + (IV1843), (IV1840) + (IV1844), (IV1841) + (IV1845), (IV1842) + (IV1846), (IV1848) + (IV1849)]\n",
      "[IV1824 > 0, IV1824 > 1, IV1824 > 2, IV1831 > 0, IV1831 > 1, IV1831 > 2, IV1838 > 0, IV1838 > 1, IV1838 > 2, IV1838 > 3, IV1847 > 0]\n",
      "Unexpected exception formatting exception. Falling back to standard exception\n"
     ]
    },
    {
     "name": "stderr",
     "output_type": "stream",
     "text": [
      "Traceback (most recent call last):\n",
      "  File \"e:\\Programming\\Miniconda3\\envs\\CPMpy\\lib\\site-packages\\IPython\\core\\interactiveshell.py\", line 3397, in run_code\n",
      "    exec(code_obj, self.user_global_ns, self.user_ns)\n",
      "  File \"C:\\Users\\thoma\\AppData\\Local\\Temp\\ipykernel_12292\\798004273.py\", line 14, in <cell line: 3>\n",
      "    run_single_bin_benchmark_repeated([GuillotineSBMCreel], (ProblemJsonCS.init_from_file(data)), max_time_seconds=60*minutes, nr_repeats=1)\n",
      "  File \"e:\\Programming\\Burgi\\IndustrialWeavePlanning\\benchmarks\\single_bin_creel\\..\\..\\benchmarks\\utils.py\", line 90, in run_single_bin_benchmark_repeated\n",
      "    sat = initialised_model.solve(max_time_seconds)#60*4)\n",
      "  File \"e:\\Programming\\Burgi\\IndustrialWeavePlanning\\benchmarks\\single_bin_creel\\..\\..\\src\\models\\single_bin\\guillotine\\model.py\", line 233, in solve\n",
      "    self.c = self.get_constraints()\n",
      "  File \"e:\\Programming\\Burgi\\IndustrialWeavePlanning\\benchmarks\\single_bin_creel\\..\\..\\src\\models\\single_bin_creel\\guillotine\\model.py\", line 66, in get_constraints\n",
      "    return super().get_constraints()\n",
      "  File \"e:\\Programming\\Burgi\\IndustrialWeavePlanning\\benchmarks\\single_bin_creel\\..\\..\\src\\models\\abstract_model.py\", line 30, in count_constraints\n",
      "    c = func(self)\n",
      "  File \"e:\\Programming\\Burgi\\IndustrialWeavePlanning\\benchmarks\\single_bin_creel\\..\\..\\src\\models\\single_bin\\guillotine\\model.py\", line 206, in get_constraints\n",
      "    c.append(cpm_sum([self.sigma[p,a,b,i_] for i_ in range(i,self.I)]) >= self.sigma[p,a,b,i])\n",
      "  File \"e:\\Programming\\Miniconda3\\envs\\CPMpy\\lib\\site-packages\\cpmpy\\expressions\\python_builtins.py\", line 102, in sum\n",
      "    return Operator(\"sum\", iterable)\n",
      "  File \"e:\\Programming\\Miniconda3\\envs\\CPMpy\\lib\\site-packages\\cpmpy\\expressions\\core.py\", line 465, in __init__\n",
      "    super().__init__(name, arg_list)\n",
      "  File \"e:\\Programming\\Miniconda3\\envs\\CPMpy\\lib\\site-packages\\cpmpy\\expressions\\core.py\", line 111, in __init__\n",
      "    assert (is_any_list(arg_list)), \"_list_ of arguments required, even if of length one e.g. [arg]\"\n",
      "KeyboardInterrupt\n",
      "\n",
      "During handling of the above exception, another exception occurred:\n",
      "\n",
      "Traceback (most recent call last):\n",
      "  File \"e:\\Programming\\Miniconda3\\envs\\CPMpy\\lib\\site-packages\\IPython\\core\\interactiveshell.py\", line 1992, in showtraceback\n",
      "    stb = self.InteractiveTB.structured_traceback(\n",
      "  File \"e:\\Programming\\Miniconda3\\envs\\CPMpy\\lib\\site-packages\\IPython\\core\\ultratb.py\", line 1118, in structured_traceback\n",
      "    return FormattedTB.structured_traceback(\n",
      "  File \"e:\\Programming\\Miniconda3\\envs\\CPMpy\\lib\\site-packages\\IPython\\core\\ultratb.py\", line 1012, in structured_traceback\n",
      "    return VerboseTB.structured_traceback(\n",
      "  File \"e:\\Programming\\Miniconda3\\envs\\CPMpy\\lib\\site-packages\\IPython\\core\\ultratb.py\", line 865, in structured_traceback\n",
      "    formatted_exception = self.format_exception_as_a_whole(etype, evalue, etb, number_of_lines_of_context,\n",
      "  File \"e:\\Programming\\Miniconda3\\envs\\CPMpy\\lib\\site-packages\\IPython\\core\\ultratb.py\", line 818, in format_exception_as_a_whole\n",
      "    frames.append(self.format_record(r))\n",
      "  File \"e:\\Programming\\Miniconda3\\envs\\CPMpy\\lib\\site-packages\\IPython\\core\\ultratb.py\", line 736, in format_record\n",
      "    result += ''.join(_format_traceback_lines(frame_info.lines, Colors, self.has_colors, lvals))\n",
      "  File \"e:\\Programming\\Miniconda3\\envs\\CPMpy\\lib\\site-packages\\stack_data\\utils.py\", line 145, in cached_property_wrapper\n",
      "    value = obj.__dict__[self.func.__name__] = self.func(obj)\n",
      "  File \"e:\\Programming\\Miniconda3\\envs\\CPMpy\\lib\\site-packages\\stack_data\\core.py\", line 698, in lines\n",
      "    pieces = self.included_pieces\n",
      "  File \"e:\\Programming\\Miniconda3\\envs\\CPMpy\\lib\\site-packages\\stack_data\\utils.py\", line 145, in cached_property_wrapper\n",
      "    value = obj.__dict__[self.func.__name__] = self.func(obj)\n",
      "  File \"e:\\Programming\\Miniconda3\\envs\\CPMpy\\lib\\site-packages\\stack_data\\core.py\", line 649, in included_pieces\n",
      "    pos = scope_pieces.index(self.executing_piece)\n",
      "  File \"e:\\Programming\\Miniconda3\\envs\\CPMpy\\lib\\site-packages\\stack_data\\utils.py\", line 145, in cached_property_wrapper\n",
      "    value = obj.__dict__[self.func.__name__] = self.func(obj)\n",
      "  File \"e:\\Programming\\Miniconda3\\envs\\CPMpy\\lib\\site-packages\\stack_data\\core.py\", line 628, in executing_piece\n",
      "    return only(\n",
      "  File \"e:\\Programming\\Miniconda3\\envs\\CPMpy\\lib\\site-packages\\executing\\executing.py\", line 164, in only\n",
      "    raise NotOneValueFound('Expected one value, found 0')\n",
      "executing.executing.NotOneValueFound: Expected one value, found 0\n"
     ]
    }
   ],
   "source": [
    "nr_item_types = [4]\n",
    "\n",
    "for minutes in [1]:\n",
    "    for nr_item_type in nr_item_types:\n",
    "        for problem in problems:\n",
    "\n",
    "            x, y = problem\n",
    "            #for x in range(1,y+1):\n",
    "            file_name = str(nr_item_type) + \"_\" + str(x) + \"_\" + str(y) \n",
    "\n",
    "            f = open(os.path.join(os.getcwd(), \"problems\", file_name + \".json\"))\n",
    "            data = json.load(f)\n",
    "\n",
    "            run_single_bin_benchmark_repeated([GuillotineSBMCreel], (ProblemJsonCS.init_from_file(data)), max_time_seconds=60*minutes, nr_repeats=1)"
   ]
  }
 ],
 "metadata": {
  "kernelspec": {
   "display_name": "CPMpy",
   "language": "python",
   "name": "python3"
  },
  "language_info": {
   "codemirror_mode": {
    "name": "ipython",
    "version": 3
   },
   "file_extension": ".py",
   "mimetype": "text/x-python",
   "name": "python",
   "nbconvert_exporter": "python",
   "pygments_lexer": "ipython3",
   "version": "3.10.8"
  }
 },
 "nbformat": 4,
 "nbformat_minor": 4
}
