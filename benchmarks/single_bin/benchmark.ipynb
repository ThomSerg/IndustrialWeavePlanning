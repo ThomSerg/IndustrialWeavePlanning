{
 "cells": [
  {
   "cell_type": "code",
   "execution_count": 11,
   "metadata": {},
   "outputs": [
    {
     "name": "stdout",
     "output_type": "stream",
     "text": [
      "The autoreload extension is already loaded. To reload it, use:\n",
      "  %reload_ext autoreload\n"
     ]
    }
   ],
   "source": [
    "%load_ext autoreload\n",
    "%autoreload 2"
   ]
  },
  {
   "cell_type": "code",
   "execution_count": 12,
   "metadata": {},
   "outputs": [],
   "source": [
    "import sys,os,json\n",
    "sys.path.append(os.path.join(\"..\",\"..\"))"
   ]
  },
  {
   "cell_type": "code",
   "execution_count": 13,
   "metadata": {},
   "outputs": [],
   "source": [
    "from benchmarks.utils import *\n",
    "\n",
    "from src.models.single_bin.baseline.model import BaselineSBM\n",
    "from src.models.single_bin.anchor.model import AnchorSBM\n",
    "from src.models.single_bin.guillotine.model import GuillotineSBM\n",
    "\n",
    "from benchmarks.problem_json import ProblemJsonS"
   ]
  },
  {
   "cell_type": "code",
   "execution_count": 14,
   "metadata": {},
   "outputs": [],
   "source": [
    "problems = [\n",
    "    (100,100),\n",
    "    #(200,200),\n",
    "    #(300,300),\n",
    "    #(100,400),\n",
    "    # (200,450),\n",
    "    #(100,900)\n",
    "]"
   ]
  },
  {
   "cell_type": "code",
   "execution_count": 15,
   "metadata": {},
   "outputs": [
    {
     "name": "stdout",
     "output_type": "stream",
     "text": [
      "PROBLEM 10_100_100_0 {'widths': [44, 49, 37, 43, 82, 35, 24, 29, 37, 49], 'heights': [43, 95, 72, 54, 54, 27, 46, 37, 24, 28], 'machine_config': {'width': 100, 'min_length': 100, 'max_length': 100}}\n",
      "Running model [<class 'src.models.single_bin.anchor.model.AnchorSBM'>]\n",
      "Collecting constraints ...\n",
      "Warning, timeout protection only supported on Linux!\n",
      "nr_no_overlap 3709\n",
      "nr constraints: 3751\n",
      "Transferring...\n",
      "Warning, timeout protection only supported on Linux!\n",
      "Solving...\n",
      "SAT True\n",
      "TIME 69.82221909999862\n",
      "{'item_count': {'nr_constraint': 20, 'creation_time': 0.003102799999396666}, 'item_selection': {'nr_constraint': 20, 'creation_time': 0.00038560000029974617}, 'no_overlap': {'nr_constraint': 3709, 'creation_time': 0.9575566000003164}, 'bin_height': {'nr_constraint': 1, 'creation_time': 2.8599999495781958e-05}, 'bin_capacity': {'nr_constraint': 1, 'creation_time': 0.004069099999469472}, 'get_constraints': {'nr_constraint': 2239, 'creation_time': 0.3783311000006506}}\n",
      "STATS {'nr_constraints': 3751, 'transfer_time': 8.448757500000283, 'solve_time': 60.37273509999977, 'density': 0.9859, 'bin_length': 100, 'fulfilled': [1, 0, 0, 0, 0, 2, 0, 1, 1, 3], 'counts': [1, 0, 0, 0, 0, 2, 0, 1, 1, 3], 'repeats_width': [2, 2, 2, 2, 1, 2, 4, 3, 2, 2, 2, 1, 1, 1, 1, 3, 2, 2, 4, 3], 'repeats_length': [2, 1, 1, 1, 1, 3, 2, 2, 4, 3, 2, 2, 2, 2, 1, 2, 4, 3, 2, 2], 'objective': 1410521, 'nr_variables': 311, 'ortools_objective': 1410521, 'constraints': {'item_count': {'nr_constraint': 20, 'creation_time': 0.003102799999396666}, 'item_selection': {'nr_constraint': 20, 'creation_time': 0.00038560000029974617}, 'no_overlap': {'nr_constraint': 3709, 'creation_time': 0.9575566000003164}, 'bin_height': {'nr_constraint': 1, 'creation_time': 2.8599999495781958e-05}, 'bin_capacity': {'nr_constraint': 1, 'creation_time': 0.004069099999469472}, 'get_constraints': {'nr_constraint': 2239, 'creation_time': 0.3783311000006506}}, 'total_time': 69.82221909999862}\n"
     ]
    },
    {
     "data": {
      "image/png": "[encoded data removed]",
      "text/plain": [
       "<Figure size 720x720 with 1 Axes>"
      ]
     },
     "metadata": {
      "needs_background": "light"
     },
     "output_type": "display_data"
    },
    {
     "name": "stdout",
     "output_type": "stream",
     "text": [
      "Running model [<class 'src.models.single_bin.guillotine.model.GuillotineSBM'>]\n",
      "Collecting constraints ...\n",
      "Warning, timeout protection only supported on Linux!\n",
      "nr constraints: 1947\n",
      "Transferring...\n",
      "Warning, timeout protection only supported on Linux!\n",
      "Solving...\n",
      "SAT True\n",
      "TIME 4.813437199998589\n",
      "{'item_count': {'nr_constraint': 20, 'creation_time': 0.003102799999396666}, 'item_selection': {'nr_constraint': 20, 'creation_time': 0.00038560000029974617}, 'no_overlap': {'nr_constraint': 3709, 'creation_time': 0.9575566000003164}, 'bin_height': {'nr_constraint': 1, 'creation_time': 2.8599999495781958e-05}, 'bin_capacity': {'nr_constraint': 1, 'creation_time': 0.004069099999469472}, 'get_constraints': {'nr_constraint': 1947, 'creation_time': 0.40856629999871075}}\n",
      "STATS {'nr_constraints': 1947, 'transfer_time': 1.373675099999673, 'solve_time': 2.9416092000010394, 'density': 0.9836, 'bin_length': 100, 'fulfilled': [0, 0, 0, 0, 0, 4, 3, 0, 0, 2], 'counts': [0, 0, 0, 0, 0, 4, 3, 0, 0, 2], 'objective': 164, 'nr_variables': 1512, 'ortools_objective': 164, 'constraints': {'item_count': {'nr_constraint': 20, 'creation_time': 0.003102799999396666}, 'item_selection': {'nr_constraint': 20, 'creation_time': 0.00038560000029974617}, 'no_overlap': {'nr_constraint': 3709, 'creation_time': 0.9575566000003164}, 'bin_height': {'nr_constraint': 1, 'creation_time': 2.8599999495781958e-05}, 'bin_capacity': {'nr_constraint': 1, 'creation_time': 0.004069099999469472}, 'get_constraints': {'nr_constraint': 1947, 'creation_time': 0.40856629999871075}}, 'total_time': 4.813437199998589}\n"
     ]
    },
    {
     "data": {
      "image/png": "[encoded data removed]",
      "text/plain": [
       "<Figure size 720x720 with 1 Axes>"
      ]
     },
     "metadata": {
      "needs_background": "light"
     },
     "output_type": "display_data"
    },
    {
     "name": "stdout",
     "output_type": "stream",
     "text": [
      "PROBLEM 10_100_100_1 {'widths': [37, 77, 25, 60, 65, 56, 34, 49, 82, 62], 'heights': [63, 57, 41, 35, 38, 54, 35, 72, 36, 62], 'machine_config': {'width': 100, 'min_length': 100, 'max_length': 100}}\n",
      "Running model [<class 'src.models.single_bin.anchor.model.AnchorSBM'>]\n",
      "Collecting constraints ...\n",
      "Warning, timeout protection only supported on Linux!\n",
      "nr_no_overlap 1173\n",
      "nr constraints: 1215\n",
      "Transferring...\n",
      "Warning, timeout protection only supported on Linux!\n",
      "Solving...\n",
      "SAT True\n",
      "TIME 8.326236900000367\n",
      "{'item_count': {'nr_constraint': 20, 'creation_time': 0.0027752000005420996}, 'item_selection': {'nr_constraint': 20, 'creation_time': 0.0007227999994938727}, 'no_overlap': {'nr_constraint': 1173, 'creation_time': 0.2834735999986151}, 'bin_height': {'nr_constraint': 1, 'creation_time': 1.7600001228856854e-05}, 'bin_capacity': {'nr_constraint': 1, 'creation_time': 0.0033695999991323333}, 'get_constraints': {'nr_constraint': 1947, 'creation_time': 0.40856629999871075}}\n",
      "STATS {'nr_constraints': 1215, 'transfer_time': 3.5681242999999085, 'solve_time': 4.439824099999896, 'density': 0.9696, 'bin_length': 100, 'fulfilled': [2, 0, 0, 0, 0, 0, 1, 0, 0, 1], 'counts': [2, 0, 0, 0, 0, 0, 1, 0, 0, 1], 'repeats_width': [2, 1, 4, 1, 1, 1, 2, 2, 1, 1, 1, 1, 2, 2, 2, 1, 2, 1, 2, 1], 'repeats_length': [1, 1, 2, 2, 2, 1, 2, 1, 2, 1, 2, 1, 4, 1, 1, 1, 2, 2, 1, 1], 'objective': 3040145, 'nr_variables': 191, 'ortools_objective': 3040145, 'constraints': {'item_count': {'nr_constraint': 20, 'creation_time': 0.0027752000005420996}, 'item_selection': {'nr_constraint': 20, 'creation_time': 0.0007227999994938727}, 'no_overlap': {'nr_constraint': 1173, 'creation_time': 0.2834735999986151}, 'bin_height': {'nr_constraint': 1, 'creation_time': 1.7600001228856854e-05}, 'bin_capacity': {'nr_constraint': 1, 'creation_time': 0.0033695999991323333}, 'get_constraints': {'nr_constraint': 1947, 'creation_time': 0.40856629999871075}}, 'total_time': 8.326236900000367}\n"
     ]
    },
    {
     "data": {
      "image/png": "[encoded data removed]",
      "text/plain": [
       "<Figure size 720x720 with 1 Axes>"
      ]
     },
     "metadata": {
      "needs_background": "light"
     },
     "output_type": "display_data"
    },
    {
     "name": "stdout",
     "output_type": "stream",
     "text": [
      "Running model [<class 'src.models.single_bin.guillotine.model.GuillotineSBM'>]\n",
      "Collecting constraints ...\n",
      "Warning, timeout protection only supported on Linux!\n",
      "nr constraints: 2239\n",
      "Transferring...\n",
      "Warning, timeout protection only supported on Linux!\n",
      "Solving...\n",
      "SAT True\n",
      "TIME 2.837557700000616\n",
      "{'item_count': {'nr_constraint': 20, 'creation_time': 0.0027752000005420996}, 'item_selection': {'nr_constraint': 20, 'creation_time': 0.0007227999994938727}, 'no_overlap': {'nr_constraint': 1173, 'creation_time': 0.2834735999986151}, 'bin_height': {'nr_constraint': 1, 'creation_time': 1.7600001228856854e-05}, 'bin_capacity': {'nr_constraint': 1, 'creation_time': 0.0033695999991323333}, 'get_constraints': {'nr_constraint': 2239, 'creation_time': 0.5946167000001878}}\n",
      "STATS {'nr_constraints': 2239, 'transfer_time': 1.8241249000002426, 'solve_time': 0.31024279999837745, 'density': 0.9696, 'bin_length': 100, 'fulfilled': [2, 0, 0, 0, 0, 0, 1, 0, 0, 1], 'counts': [2, 0, 0, 0, 0, 0, 1, 0, 0, 1], 'objective': 304, 'nr_variables': 1576, 'ortools_objective': 304, 'constraints': {'item_count': {'nr_constraint': 20, 'creation_time': 0.0027752000005420996}, 'item_selection': {'nr_constraint': 20, 'creation_time': 0.0007227999994938727}, 'no_overlap': {'nr_constraint': 1173, 'creation_time': 0.2834735999986151}, 'bin_height': {'nr_constraint': 1, 'creation_time': 1.7600001228856854e-05}, 'bin_capacity': {'nr_constraint': 1, 'creation_time': 0.0033695999991323333}, 'get_constraints': {'nr_constraint': 2239, 'creation_time': 0.5946167000001878}}, 'total_time': 2.837557700000616}\n"
     ]
    },
    {
     "data": {
      "image/png": "[encoded data removed]",
      "text/plain": [
       "<Figure size 720x720 with 1 Axes>"
      ]
     },
     "metadata": {
      "needs_background": "light"
     },
     "output_type": "display_data"
    },
    {
     "name": "stdout",
     "output_type": "stream",
     "text": [
      "PROBLEM 10_100_100_2 {'widths': [67, 46, 31, 66, 69, 68, 67, 70, 83, 47], 'heights': [72, 63, 45, 61, 65, 71, 47, 31, 50, 28], 'machine_config': {'width': 100, 'min_length': 100, 'max_length': 100}}\n",
      "Running model [<class 'src.models.single_bin.anchor.model.AnchorSBM'>]\n",
      "Collecting constraints ...\n",
      "Warning, timeout protection only supported on Linux!\n",
      "nr_no_overlap 1187\n",
      "nr constraints: 1229\n",
      "Transferring...\n",
      "Warning, timeout protection only supported on Linux!\n",
      "Solving...\n",
      "SAT True\n",
      "TIME 2.8548776999996335\n",
      "{'item_count': {'nr_constraint': 20, 'creation_time': 0.0020624999997380655}, 'item_selection': {'nr_constraint': 20, 'creation_time': 0.0005483999993884936}, 'no_overlap': {'nr_constraint': 1187, 'creation_time': 0.20803369999885035}, 'bin_height': {'nr_constraint': 1, 'creation_time': 1.5999999959603883e-05}, 'bin_capacity': {'nr_constraint': 1, 'creation_time': 0.0022795000004407484}, 'get_constraints': {'nr_constraint': 2239, 'creation_time': 0.5946167000001878}}\n",
      "STATS {'nr_constraints': 1229, 'transfer_time': 1.7590030000010302, 'solve_time': 0.8590217000000848, 'density': 0.963, 'bin_length': 100, 'fulfilled': [0, 0, 0, 0, 0, 1, 0, 1, 0, 2], 'counts': [0, 0, 0, 0, 0, 1, 0, 1, 0, 2], 'repeats_width': [1, 2, 3, 1, 1, 1, 1, 1, 1, 2, 1, 1, 2, 1, 1, 1, 2, 3, 2, 3], 'repeats_length': [1, 1, 2, 1, 1, 1, 2, 3, 2, 3, 1, 2, 3, 1, 1, 1, 1, 1, 1, 2], 'objective': 3700134, 'nr_variables': 191, 'ortools_objective': 3700134, 'constraints': {'item_count': {'nr_constraint': 20, 'creation_time': 0.0020624999997380655}, 'item_selection': {'nr_constraint': 20, 'creation_time': 0.0005483999993884936}, 'no_overlap': {'nr_constraint': 1187, 'creation_time': 0.20803369999885035}, 'bin_height': {'nr_constraint': 1, 'creation_time': 1.5999999959603883e-05}, 'bin_capacity': {'nr_constraint': 1, 'creation_time': 0.0022795000004407484}, 'get_constraints': {'nr_constraint': 2239, 'creation_time': 0.5946167000001878}}, 'total_time': 2.8548776999996335}\n"
     ]
    },
    {
     "data": {
      "image/png": "[encoded data removed]",
      "text/plain": [
       "<Figure size 720x720 with 1 Axes>"
      ]
     },
     "metadata": {
      "needs_background": "light"
     },
     "output_type": "display_data"
    },
    {
     "name": "stdout",
     "output_type": "stream",
     "text": [
      "Running model [<class 'src.models.single_bin.guillotine.model.GuillotineSBM'>]\n",
      "Collecting constraints ...\n",
      "Warning, timeout protection only supported on Linux!\n",
      "nr constraints: 872\n",
      "Transferring...\n",
      "Warning, timeout protection only supported on Linux!\n",
      "Solving...\n",
      "SAT True\n",
      "TIME 1.0217217000008532\n",
      "{'item_count': {'nr_constraint': 20, 'creation_time': 0.0020624999997380655}, 'item_selection': {'nr_constraint': 20, 'creation_time': 0.0005483999993884936}, 'no_overlap': {'nr_constraint': 1187, 'creation_time': 0.20803369999885035}, 'bin_height': {'nr_constraint': 1, 'creation_time': 1.5999999959603883e-05}, 'bin_capacity': {'nr_constraint': 1, 'creation_time': 0.0022795000004407484}, 'get_constraints': {'nr_constraint': 872, 'creation_time': 0.22165580000000773}}\n",
      "STATS {'nr_constraints': 872, 'transfer_time': 0.5887210000000778, 'solve_time': 0.15593280000030063, 'density': 0.963, 'bin_length': 100, 'fulfilled': [0, 0, 0, 0, 0, 1, 0, 1, 0, 2], 'counts': [0, 0, 0, 0, 0, 1, 0, 1, 0, 2], 'objective': 370, 'nr_variables': 699, 'ortools_objective': 370, 'constraints': {'item_count': {'nr_constraint': 20, 'creation_time': 0.0020624999997380655}, 'item_selection': {'nr_constraint': 20, 'creation_time': 0.0005483999993884936}, 'no_overlap': {'nr_constraint': 1187, 'creation_time': 0.20803369999885035}, 'bin_height': {'nr_constraint': 1, 'creation_time': 1.5999999959603883e-05}, 'bin_capacity': {'nr_constraint': 1, 'creation_time': 0.0022795000004407484}, 'get_constraints': {'nr_constraint': 872, 'creation_time': 0.22165580000000773}}, 'total_time': 1.0217217000008532}\n"
     ]
    },
    {
     "data": {
      "image/png": "[encoded data removed]",
      "text/plain": [
       "<Figure size 720x720 with 1 Axes>"
      ]
     },
     "metadata": {
      "needs_background": "light"
     },
     "output_type": "display_data"
    },
    {
     "name": "stdout",
     "output_type": "stream",
     "text": [
      "PROBLEM 10_100_100_3 {'widths': [20, 88, 72, 55, 25, 66, 45, 91, 36, 63], 'heights': [43, 40, 69, 28, 57, 61, 94, 52, 34, 49], 'machine_config': {'width': 100, 'min_length': 100, 'max_length': 100}}\n",
      "Running model [<class 'src.models.single_bin.anchor.model.AnchorSBM'>]\n",
      "Collecting constraints ...\n",
      "Warning, timeout protection only supported on Linux!\n",
      "nr_no_overlap 1615\n",
      "nr constraints: 1657\n",
      "Transferring...\n",
      "Warning, timeout protection only supported on Linux!\n",
      "Solving...\n",
      "SAT True\n",
      "TIME 41.0244991999989\n",
      "{'item_count': {'nr_constraint': 20, 'creation_time': 0.0024837000000843545}, 'item_selection': {'nr_constraint': 20, 'creation_time': 0.0004786000008607516}, 'no_overlap': {'nr_constraint': 1615, 'creation_time': 0.3981149999999616}, 'bin_height': {'nr_constraint': 1, 'creation_time': 1.5800000255694613e-05}, 'bin_capacity': {'nr_constraint': 1, 'creation_time': 0.0022131999994599028}, 'get_constraints': {'nr_constraint': 872, 'creation_time': 0.22165580000000773}}\n",
      "STATS {'nr_constraints': 1657, 'transfer_time': 2.399539599999116, 'solve_time': 38.198102199999994, 'density': 1.0, 'bin_length': 100, 'fulfilled': [5, 0, 0, 0, 4, 0, 0, 0, 0, 0], 'counts': [5, 0, 0, 0, 4, 0, 0, 0, 0, 0], 'repeats_width': [5, 1, 1, 1, 4, 1, 2, 1, 2, 1, 2, 2, 1, 3, 1, 1, 1, 1, 2, 2], 'repeats_length': [2, 2, 1, 3, 1, 1, 1, 1, 2, 2, 5, 1, 1, 1, 4, 1, 2, 1, 2, 1], 'objective': 522, 'nr_variables': 221, 'ortools_objective': 522, 'constraints': {'item_count': {'nr_constraint': 20, 'creation_time': 0.0024837000000843545}, 'item_selection': {'nr_constraint': 20, 'creation_time': 0.0004786000008607516}, 'no_overlap': {'nr_constraint': 1615, 'creation_time': 0.3981149999999616}, 'bin_height': {'nr_constraint': 1, 'creation_time': 1.5800000255694613e-05}, 'bin_capacity': {'nr_constraint': 1, 'creation_time': 0.0022131999994599028}, 'get_constraints': {'nr_constraint': 872, 'creation_time': 0.22165580000000773}}, 'total_time': 41.0244991999989}\n"
     ]
    },
    {
     "data": {
      "image/png": "[encoded data removed]",
      "text/plain": [
       "<Figure size 720x720 with 1 Axes>"
      ]
     },
     "metadata": {
      "needs_background": "light"
     },
     "output_type": "display_data"
    },
    {
     "name": "stdout",
     "output_type": "stream",
     "text": [
      "Running model [<class 'src.models.single_bin.guillotine.model.GuillotineSBM'>]\n",
      "Collecting constraints ...\n",
      "Warning, timeout protection only supported on Linux!\n",
      "nr constraints: 4779\n",
      "Transferring...\n",
      "Warning, timeout protection only supported on Linux!\n",
      "Solving...\n",
      "SAT True\n",
      "TIME 5.41284640000049\n",
      "{'item_count': {'nr_constraint': 20, 'creation_time': 0.0024837000000843545}, 'item_selection': {'nr_constraint': 20, 'creation_time': 0.0004786000008607516}, 'no_overlap': {'nr_constraint': 1615, 'creation_time': 0.3981149999999616}, 'bin_height': {'nr_constraint': 1, 'creation_time': 1.5800000255694613e-05}, 'bin_capacity': {'nr_constraint': 1, 'creation_time': 0.0022131999994599028}, 'get_constraints': {'nr_constraint': 4779, 'creation_time': 0.8656833999993978}}\n",
      "STATS {'nr_constraints': 4779, 'transfer_time': 3.737325199999759, 'solve_time': 0.6581908999996813, 'density': 1.0, 'bin_length': 100, 'fulfilled': [5, 0, 0, 0, 4, 0, 0, 0, 0, 0], 'counts': [5, 0, 0, 0, 4, 0, 0, 0, 0, 0], 'objective': 0, 'nr_variables': 3010, 'ortools_objective': 0, 'constraints': {'item_count': {'nr_constraint': 20, 'creation_time': 0.0024837000000843545}, 'item_selection': {'nr_constraint': 20, 'creation_time': 0.0004786000008607516}, 'no_overlap': {'nr_constraint': 1615, 'creation_time': 0.3981149999999616}, 'bin_height': {'nr_constraint': 1, 'creation_time': 1.5800000255694613e-05}, 'bin_capacity': {'nr_constraint': 1, 'creation_time': 0.0022131999994599028}, 'get_constraints': {'nr_constraint': 4779, 'creation_time': 0.8656833999993978}}, 'total_time': 5.41284640000049}\n"
     ]
    },
    {
     "data": {
      "image/png": "[encoded data removed]",
      "text/plain": [
       "<Figure size 720x720 with 1 Axes>"
      ]
     },
     "metadata": {
      "needs_background": "light"
     },
     "output_type": "display_data"
    },
    {
     "name": "stdout",
     "output_type": "stream",
     "text": [
      "PROBLEM 10_100_100_4 {'widths': [29, 59, 43, 79, 62, 68, 23, 79, 62, 46], 'heights': [64, 40, 44, 34, 65, 49, 39, 47, 59, 93], 'machine_config': {'width': 100, 'min_length': 100, 'max_length': 100}}\n",
      "Running model [<class 'src.models.single_bin.anchor.model.AnchorSBM'>]\n",
      "Collecting constraints ...\n",
      "Warning, timeout protection only supported on Linux!\n",
      "nr_no_overlap 1381\n",
      "nr constraints: 1423\n",
      "Transferring...\n",
      "Warning, timeout protection only supported on Linux!\n",
      "Solving...\n",
      "SAT True\n",
      "TIME 3.777015499999834\n",
      "{'item_count': {'nr_constraint': 20, 'creation_time': 0.002151499998944928}, 'item_selection': {'nr_constraint': 20, 'creation_time': 0.0004071000003023073}, 'no_overlap': {'nr_constraint': 1381, 'creation_time': 0.292558300001474}, 'bin_height': {'nr_constraint': 1, 'creation_time': 1.7700000171316788e-05}, 'bin_capacity': {'nr_constraint': 1, 'creation_time': 0.00286460000097577}, 'get_constraints': {'nr_constraint': 4779, 'creation_time': 0.8656833999993978}}\n",
      "STATS {'nr_constraints': 1423, 'transfer_time': 2.1765183999996225, 'solve_time': 1.2698675999999978, 'density': 0.944, 'bin_length': 100, 'fulfilled': [0, 4, 0, 0, 0, 0, 0, 0, 0, 0], 'counts': [0, 4, 0, 0, 0, 0, 0, 0, 0, 0], 'repeats_width': [3, 1, 2, 1, 1, 1, 4, 1, 1, 2, 1, 2, 2, 2, 1, 2, 2, 2, 1, 1], 'repeats_length': [1, 2, 2, 2, 1, 2, 2, 2, 1, 1, 3, 1, 2, 1, 1, 1, 4, 1, 1, 2], 'objective': 5600198, 'nr_variables': 203, 'ortools_objective': 5600198, 'constraints': {'item_count': {'nr_constraint': 20, 'creation_time': 0.002151499998944928}, 'item_selection': {'nr_constraint': 20, 'creation_time': 0.0004071000003023073}, 'no_overlap': {'nr_constraint': 1381, 'creation_time': 0.292558300001474}, 'bin_height': {'nr_constraint': 1, 'creation_time': 1.7700000171316788e-05}, 'bin_capacity': {'nr_constraint': 1, 'creation_time': 0.00286460000097577}, 'get_constraints': {'nr_constraint': 4779, 'creation_time': 0.8656833999993978}}, 'total_time': 3.777015499999834}\n"
     ]
    },
    {
     "data": {
      "image/png": "[encoded data removed]",
      "text/plain": [
       "<Figure size 720x720 with 1 Axes>"
      ]
     },
     "metadata": {
      "needs_background": "light"
     },
     "output_type": "display_data"
    },
    {
     "name": "stdout",
     "output_type": "stream",
     "text": [
      "Running model [<class 'src.models.single_bin.guillotine.model.GuillotineSBM'>]\n",
      "Collecting constraints ...\n",
      "Warning, timeout protection only supported on Linux!\n",
      "nr constraints: 2166\n",
      "Transferring...\n",
      "Warning, timeout protection only supported on Linux!\n",
      "Solving...\n",
      "SAT True\n",
      "TIME 2.1729364000002533\n",
      "{'item_count': {'nr_constraint': 20, 'creation_time': 0.002151499998944928}, 'item_selection': {'nr_constraint': 20, 'creation_time': 0.0004071000003023073}, 'no_overlap': {'nr_constraint': 1381, 'creation_time': 0.292558300001474}, 'bin_height': {'nr_constraint': 1, 'creation_time': 1.7700000171316788e-05}, 'bin_capacity': {'nr_constraint': 1, 'creation_time': 0.00286460000097577}, 'get_constraints': {'nr_constraint': 2166, 'creation_time': 0.3817001000006712}}\n",
      "STATS {'nr_constraints': 2166, 'transfer_time': 1.4146545999992668, 'solve_time': 0.2894283000005089, 'density': 0.8758, 'bin_length': 100, 'fulfilled': [2, 1, 0, 1, 0, 0, 0, 0, 0, 0], 'counts': [2, 1, 0, 1, 0, 0, 0, 0, 0, 0], 'objective': 1242, 'nr_variables': 1560, 'ortools_objective': 1242, 'constraints': {'item_count': {'nr_constraint': 20, 'creation_time': 0.002151499998944928}, 'item_selection': {'nr_constraint': 20, 'creation_time': 0.0004071000003023073}, 'no_overlap': {'nr_constraint': 1381, 'creation_time': 0.292558300001474}, 'bin_height': {'nr_constraint': 1, 'creation_time': 1.7700000171316788e-05}, 'bin_capacity': {'nr_constraint': 1, 'creation_time': 0.00286460000097577}, 'get_constraints': {'nr_constraint': 2166, 'creation_time': 0.3817001000006712}}, 'total_time': 2.1729364000002533}\n"
     ]
    },
    {
     "data": {
      "image/png": "[encoded data removed]",
      "text/plain": [
       "<Figure size 720x720 with 1 Axes>"
      ]
     },
     "metadata": {
      "needs_background": "light"
     },
     "output_type": "display_data"
    },
    {
     "name": "stdout",
     "output_type": "stream",
     "text": [
      "PROBLEM 10_100_100_5 {'widths': [73, 41, 41, 23, 94, 39, 52, 52, 48, 34], 'heights': [65, 56, 34, 47, 53, 74, 78, 70, 54, 56], 'machine_config': {'width': 100, 'min_length': 100, 'max_length': 100}}\n",
      "Running model [<class 'src.models.single_bin.anchor.model.AnchorSBM'>]\n",
      "Collecting constraints ...\n",
      "Warning, timeout protection only supported on Linux!\n",
      "nr_no_overlap 1073\n",
      "nr constraints: 1115\n",
      "Transferring...\n",
      "Warning, timeout protection only supported on Linux!\n",
      "Solving...\n",
      "SAT True\n",
      "TIME 4.3917401999988215\n",
      "{'item_count': {'nr_constraint': 20, 'creation_time': 0.001595100000486127}, 'item_selection': {'nr_constraint': 20, 'creation_time': 0.0003907000009348849}, 'no_overlap': {'nr_constraint': 1073, 'creation_time': 0.27187159999994037}, 'bin_height': {'nr_constraint': 1, 'creation_time': 2.0000001313746907e-05}, 'bin_capacity': {'nr_constraint': 1, 'creation_time': 0.002448399998684181}, 'get_constraints': {'nr_constraint': 2166, 'creation_time': 0.3817001000006712}}\n",
      "STATS {'nr_constraints': 1115, 'transfer_time': 1.9693107000002783, 'solve_time': 2.1223595999999816, 'density': 0.9508, 'bin_length': 100, 'fulfilled': [0, 0, 0, 4, 0, 0, 0, 0, 2, 0], 'counts': [0, 0, 0, 4, 0, 0, 0, 0, 2, 0], 'repeats_width': [1, 2, 2, 4, 1, 2, 1, 1, 2, 2, 1, 1, 2, 2, 1, 1, 1, 1, 1, 1], 'repeats_length': [1, 1, 2, 2, 1, 1, 1, 1, 1, 1, 1, 2, 2, 4, 1, 2, 1, 1, 2, 2], 'objective': 4920342, 'nr_variables': 185, 'ortools_objective': 4920342, 'constraints': {'item_count': {'nr_constraint': 20, 'creation_time': 0.001595100000486127}, 'item_selection': {'nr_constraint': 20, 'creation_time': 0.0003907000009348849}, 'no_overlap': {'nr_constraint': 1073, 'creation_time': 0.27187159999994037}, 'bin_height': {'nr_constraint': 1, 'creation_time': 2.0000001313746907e-05}, 'bin_capacity': {'nr_constraint': 1, 'creation_time': 0.002448399998684181}, 'get_constraints': {'nr_constraint': 2166, 'creation_time': 0.3817001000006712}}, 'total_time': 4.3917401999988215}\n"
     ]
    },
    {
     "data": {
      "image/png": "[encoded data removed]",
      "text/plain": [
       "<Figure size 720x720 with 1 Axes>"
      ]
     },
     "metadata": {
      "needs_background": "light"
     },
     "output_type": "display_data"
    },
    {
     "name": "stdout",
     "output_type": "stream",
     "text": [
      "Running model [<class 'src.models.single_bin.guillotine.model.GuillotineSBM'>]\n",
      "Collecting constraints ...\n",
      "Warning, timeout protection only supported on Linux!\n",
      "nr constraints: 2093\n",
      "Transferring...\n",
      "Warning, timeout protection only supported on Linux!\n",
      "Solving...\n",
      "SAT True\n",
      "TIME 2.1801737000005232\n",
      "{'item_count': {'nr_constraint': 20, 'creation_time': 0.001595100000486127}, 'item_selection': {'nr_constraint': 20, 'creation_time': 0.0003907000009348849}, 'no_overlap': {'nr_constraint': 1073, 'creation_time': 0.27187159999994037}, 'bin_height': {'nr_constraint': 1, 'creation_time': 2.0000001313746907e-05}, 'bin_capacity': {'nr_constraint': 1, 'creation_time': 0.002448399998684181}, 'get_constraints': {'nr_constraint': 2093, 'creation_time': 0.3537605000001349}}\n",
      "STATS {'nr_constraints': 2093, 'transfer_time': 1.4193904000003386, 'solve_time': 0.3183373000010761, 'density': 0.9508, 'bin_length': 100, 'fulfilled': [0, 0, 0, 4, 0, 0, 0, 0, 2, 0], 'counts': [0, 0, 0, 4, 0, 0, 0, 0, 2, 0], 'objective': 492, 'nr_variables': 1544, 'ortools_objective': 492, 'constraints': {'item_count': {'nr_constraint': 20, 'creation_time': 0.001595100000486127}, 'item_selection': {'nr_constraint': 20, 'creation_time': 0.0003907000009348849}, 'no_overlap': {'nr_constraint': 1073, 'creation_time': 0.27187159999994037}, 'bin_height': {'nr_constraint': 1, 'creation_time': 2.0000001313746907e-05}, 'bin_capacity': {'nr_constraint': 1, 'creation_time': 0.002448399998684181}, 'get_constraints': {'nr_constraint': 2093, 'creation_time': 0.3537605000001349}}, 'total_time': 2.1801737000005232}\n"
     ]
    },
    {
     "data": {
      "image/png": "[encoded data removed]",
      "text/plain": [
       "<Figure size 720x720 with 1 Axes>"
      ]
     },
     "metadata": {
      "needs_background": "light"
     },
     "output_type": "display_data"
    },
    {
     "name": "stdout",
     "output_type": "stream",
     "text": [
      "PROBLEM 10_100_100_6 {'widths': [37, 45, 69, 47, 74, 39, 60, 97, 35, 47], 'heights': [85, 95, 37, 59, 47, 54, 39, 42, 59, 79], 'machine_config': {'width': 100, 'min_length': 100, 'max_length': 100}}\n",
      "Running model [<class 'src.models.single_bin.anchor.model.AnchorSBM'>]\n",
      "Collecting constraints ...\n",
      "Warning, timeout protection only supported on Linux!\n",
      "nr_no_overlap 780\n",
      "nr constraints: 822\n",
      "Transferring...\n",
      "Warning, timeout protection only supported on Linux!\n",
      "Solving...\n",
      "SAT True\n",
      "TIME 1.6193632999984402\n",
      "{'item_count': {'nr_constraint': 20, 'creation_time': 0.0016002000011212658}, 'item_selection': {'nr_constraint': 20, 'creation_time': 0.00041760000021895394}, 'no_overlap': {'nr_constraint': 780, 'creation_time': 0.2758869000008417}, 'bin_height': {'nr_constraint': 1, 'creation_time': 1.4100000043981709e-05}, 'bin_capacity': {'nr_constraint': 1, 'creation_time': 0.0019671999998536194}, 'get_constraints': {'nr_constraint': 2093, 'creation_time': 0.3537605000001349}}\n",
      "STATS {'nr_constraints': 822, 'transfer_time': 0.9697011999996903, 'solve_time': 0.3487127000007604, 'density': 0.936, 'bin_length': 100, 'fulfilled': [0, 0, 0, 0, 0, 0, 4, 0, 0, 0], 'counts': [0, 0, 0, 0, 0, 0, 4, 0, 0, 0], 'repeats_width': [2, 2, 1, 2, 1, 2, 1, 1, 2, 2, 1, 1, 2, 1, 2, 1, 2, 2, 1, 1], 'repeats_length': [1, 1, 2, 1, 2, 1, 2, 2, 1, 1, 2, 2, 1, 2, 1, 2, 1, 1, 2, 2], 'objective': 6400198, 'nr_variables': 161, 'ortools_objective': 6400198, 'constraints': {'item_count': {'nr_constraint': 20, 'creation_time': 0.0016002000011212658}, 'item_selection': {'nr_constraint': 20, 'creation_time': 0.00041760000021895394}, 'no_overlap': {'nr_constraint': 780, 'creation_time': 0.2758869000008417}, 'bin_height': {'nr_constraint': 1, 'creation_time': 1.4100000043981709e-05}, 'bin_capacity': {'nr_constraint': 1, 'creation_time': 0.0019671999998536194}, 'get_constraints': {'nr_constraint': 2093, 'creation_time': 0.3537605000001349}}, 'total_time': 1.6193632999984402}\n"
     ]
    },
    {
     "data": {
      "image/png": "[encoded data removed]",
      "text/plain": [
       "<Figure size 720x720 with 1 Axes>"
      ]
     },
     "metadata": {
      "needs_background": "light"
     },
     "output_type": "display_data"
    },
    {
     "name": "stdout",
     "output_type": "stream",
     "text": [
      "Running model [<class 'src.models.single_bin.guillotine.model.GuillotineSBM'>]\n",
      "Collecting constraints ...\n",
      "Warning, timeout protection only supported on Linux!\n",
      "nr constraints: 222\n",
      "Transferring...\n",
      "Warning, timeout protection only supported on Linux!\n",
      "Solving...\n",
      "SAT True\n",
      "TIME 0.3340845000002446\n",
      "{'item_count': {'nr_constraint': 20, 'creation_time': 0.0016002000011212658}, 'item_selection': {'nr_constraint': 20, 'creation_time': 0.00041760000021895394}, 'no_overlap': {'nr_constraint': 780, 'creation_time': 0.2758869000008417}, 'bin_height': {'nr_constraint': 1, 'creation_time': 1.4100000043981709e-05}, 'bin_capacity': {'nr_constraint': 1, 'creation_time': 0.0019671999998536194}, 'get_constraints': {'nr_constraint': 222, 'creation_time': 0.06146430000080727}}\n",
      "STATS {'nr_constraints': 222, 'transfer_time': 0.16915749999861873, 'solve_time': 0.07149150000077498, 'density': 0.9154, 'bin_length': 100, 'fulfilled': [0, 1, 0, 1, 0, 1, 0, 0, 0, 0], 'counts': [0, 1, 0, 1, 0, 1, 0, 0, 0, 0], 'objective': 846, 'nr_variables': 224, 'ortools_objective': 846, 'constraints': {'item_count': {'nr_constraint': 20, 'creation_time': 0.0016002000011212658}, 'item_selection': {'nr_constraint': 20, 'creation_time': 0.00041760000021895394}, 'no_overlap': {'nr_constraint': 780, 'creation_time': 0.2758869000008417}, 'bin_height': {'nr_constraint': 1, 'creation_time': 1.4100000043981709e-05}, 'bin_capacity': {'nr_constraint': 1, 'creation_time': 0.0019671999998536194}, 'get_constraints': {'nr_constraint': 222, 'creation_time': 0.06146430000080727}}, 'total_time': 0.3340845000002446}\n"
     ]
    },
    {
     "data": {
      "image/png": "[encoded data removed]",
      "text/plain": [
       "<Figure size 720x720 with 1 Axes>"
      ]
     },
     "metadata": {
      "needs_background": "light"
     },
     "output_type": "display_data"
    },
    {
     "name": "stdout",
     "output_type": "stream",
     "text": [
      "PROBLEM 10_100_100_7 {'widths': [51, 67, 55, 37, 95, 57, 56, 36, 37, 58], 'heights': [91, 31, 77, 37, 52, 82, 45, 53, 56, 58], 'machine_config': {'width': 100, 'min_length': 100, 'max_length': 100}}\n",
      "Running model [<class 'src.models.single_bin.anchor.model.AnchorSBM'>]\n",
      "Collecting constraints ...\n",
      "Warning, timeout protection only supported on Linux!\n",
      "nr_no_overlap 628\n",
      "nr constraints: 670\n",
      "Transferring...\n",
      "Warning, timeout protection only supported on Linux!\n",
      "Solving...\n",
      "SAT True\n",
      "TIME 2.012000299999272\n",
      "{'item_count': {'nr_constraint': 20, 'creation_time': 0.0012771000001521315}, 'item_selection': {'nr_constraint': 20, 'creation_time': 0.0003864999998768326}, 'no_overlap': {'nr_constraint': 628, 'creation_time': 0.12545050000153424}, 'bin_height': {'nr_constraint': 1, 'creation_time': 1.8500000805943273e-05}, 'bin_capacity': {'nr_constraint': 1, 'creation_time': 0.0019819000008283183}, 'get_constraints': {'nr_constraint': 222, 'creation_time': 0.06146430000080727}}\n",
      "STATS {'nr_constraints': 670, 'transfer_time': 1.2272530999998708, 'solve_time': 0.6341501000006247, 'density': 0.9677, 'bin_length': 100, 'fulfilled': [0, 4, 0, 1, 0, 0, 0, 0, 0, 0], 'counts': [0, 4, 0, 1, 0, 0, 0, 0, 0, 0], 'repeats_width': [1, 1, 1, 2, 1, 1, 1, 2, 2, 1, 1, 3, 1, 2, 1, 1, 2, 1, 1, 1], 'repeats_length': [1, 3, 1, 2, 1, 1, 2, 1, 1, 1, 1, 1, 1, 2, 1, 1, 1, 2, 2, 1], 'objective': 3230260, 'nr_variables': 149, 'ortools_objective': 3230260, 'constraints': {'item_count': {'nr_constraint': 20, 'creation_time': 0.0012771000001521315}, 'item_selection': {'nr_constraint': 20, 'creation_time': 0.0003864999998768326}, 'no_overlap': {'nr_constraint': 628, 'creation_time': 0.12545050000153424}, 'bin_height': {'nr_constraint': 1, 'creation_time': 1.8500000805943273e-05}, 'bin_capacity': {'nr_constraint': 1, 'creation_time': 0.0019819000008283183}, 'get_constraints': {'nr_constraint': 222, 'creation_time': 0.06146430000080727}}, 'total_time': 2.012000299999272}\n"
     ]
    },
    {
     "data": {
      "image/png": "[encoded data removed]",
      "text/plain": [
       "<Figure size 720x720 with 1 Axes>"
      ]
     },
     "metadata": {
      "needs_background": "light"
     },
     "output_type": "display_data"
    },
    {
     "name": "stdout",
     "output_type": "stream",
     "text": [
      "Running model [<class 'src.models.single_bin.guillotine.model.GuillotineSBM'>]\n",
      "Collecting constraints ...\n",
      "Warning, timeout protection only supported on Linux!\n",
      "nr constraints: 841\n",
      "Transferring...\n",
      "Warning, timeout protection only supported on Linux!\n",
      "Solving...\n",
      "SAT True\n",
      "TIME 0.9321619999991526\n",
      "{'item_count': {'nr_constraint': 20, 'creation_time': 0.0012771000001521315}, 'item_selection': {'nr_constraint': 20, 'creation_time': 0.0003864999998768326}, 'no_overlap': {'nr_constraint': 628, 'creation_time': 0.12545050000153424}, 'bin_height': {'nr_constraint': 1, 'creation_time': 1.8500000805943273e-05}, 'bin_capacity': {'nr_constraint': 1, 'creation_time': 0.0019819000008283183}, 'get_constraints': {'nr_constraint': 841, 'creation_time': 0.17875879999883182}}\n",
      "STATS {'nr_constraints': 841, 'transfer_time': 0.5867011999998795, 'solve_time': 0.11491120000027877, 'density': 0.8877, 'bin_length': 100, 'fulfilled': [0, 0, 0, 1, 0, 0, 0, 0, 2, 1], 'counts': [0, 0, 0, 1, 0, 0, 0, 0, 2, 1], 'objective': 1123, 'nr_variables': 690, 'ortools_objective': 1123, 'constraints': {'item_count': {'nr_constraint': 20, 'creation_time': 0.0012771000001521315}, 'item_selection': {'nr_constraint': 20, 'creation_time': 0.0003864999998768326}, 'no_overlap': {'nr_constraint': 628, 'creation_time': 0.12545050000153424}, 'bin_height': {'nr_constraint': 1, 'creation_time': 1.8500000805943273e-05}, 'bin_capacity': {'nr_constraint': 1, 'creation_time': 0.0019819000008283183}, 'get_constraints': {'nr_constraint': 841, 'creation_time': 0.17875879999883182}}, 'total_time': 0.9321619999991526}\n"
     ]
    },
    {
     "data": {
      "image/png": "[encoded data removed]",
      "text/plain": [
       "<Figure size 720x720 with 1 Axes>"
      ]
     },
     "metadata": {
      "needs_background": "light"
     },
     "output_type": "display_data"
    },
    {
     "name": "stdout",
     "output_type": "stream",
     "text": [
      "PROBLEM 10_100_100_8 {'widths': [84, 35, 86, 62, 54, 49, 35, 63, 46, 79], 'heights': [57, 73, 48, 32, 79, 82, 62, 62, 42, 59], 'machine_config': {'width': 100, 'min_length': 100, 'max_length': 100}}\n",
      "Running model [<class 'src.models.single_bin.anchor.model.AnchorSBM'>]\n",
      "Collecting constraints ...\n",
      "Warning, timeout protection only supported on Linux!\n",
      "nr_no_overlap 701\n",
      "nr constraints: 743\n",
      "Transferring...\n",
      "Warning, timeout protection only supported on Linux!\n",
      "Solving...\n",
      "SAT True\n",
      "TIME 1.427155600000333\n",
      "{'item_count': {'nr_constraint': 20, 'creation_time': 0.0014221999990695622}, 'item_selection': {'nr_constraint': 20, 'creation_time': 0.0004298999992897734}, 'no_overlap': {'nr_constraint': 701, 'creation_time': 0.14352429999962624}, 'bin_height': {'nr_constraint': 1, 'creation_time': 1.610000072105322e-05}, 'bin_capacity': {'nr_constraint': 1, 'creation_time': 0.001951500000359374}, 'get_constraints': {'nr_constraint': 841, 'creation_time': 0.17875879999883182}}\n",
      "STATS {'nr_constraints': 743, 'transfer_time': 0.9292533999996522, 'solve_time': 0.32780559999991965, 'density': 0.8693, 'bin_length': 100, 'fulfilled': [0, 1, 0, 2, 0, 0, 1, 0, 0, 0], 'counts': [0, 1, 0, 2, 0, 0, 1, 0, 0, 0], 'repeats_width': [1, 2, 1, 1, 1, 2, 2, 1, 2, 1, 1, 1, 2, 3, 1, 1, 1, 1, 2, 1], 'repeats_length': [1, 1, 2, 3, 1, 1, 1, 1, 2, 1, 1, 2, 1, 1, 1, 2, 2, 1, 2, 1], 'objective': 13070158, 'nr_variables': 155, 'ortools_objective': 13070158, 'constraints': {'item_count': {'nr_constraint': 20, 'creation_time': 0.0014221999990695622}, 'item_selection': {'nr_constraint': 20, 'creation_time': 0.0004298999992897734}, 'no_overlap': {'nr_constraint': 701, 'creation_time': 0.14352429999962624}, 'bin_height': {'nr_constraint': 1, 'creation_time': 1.610000072105322e-05}, 'bin_capacity': {'nr_constraint': 1, 'creation_time': 0.001951500000359374}, 'get_constraints': {'nr_constraint': 841, 'creation_time': 0.17875879999883182}}, 'total_time': 1.427155600000333}\n"
     ]
    },
    {
     "data": {
      "image/png": "[encoded data removed]",
      "text/plain": [
       "<Figure size 720x720 with 1 Axes>"
      ]
     },
     "metadata": {
      "needs_background": "light"
     },
     "output_type": "display_data"
    },
    {
     "name": "stdout",
     "output_type": "stream",
     "text": [
      "Running model [<class 'src.models.single_bin.guillotine.model.GuillotineSBM'>]\n",
      "Collecting constraints ...\n",
      "Warning, timeout protection only supported on Linux!\n",
      "nr constraints: 841\n",
      "Transferring...\n",
      "Warning, timeout protection only supported on Linux!\n",
      "Solving...\n",
      "SAT True\n",
      "TIME 0.9879187000005913\n",
      "{'item_count': {'nr_constraint': 20, 'creation_time': 0.0014221999990695622}, 'item_selection': {'nr_constraint': 20, 'creation_time': 0.0004298999992897734}, 'no_overlap': {'nr_constraint': 701, 'creation_time': 0.14352429999962624}, 'bin_height': {'nr_constraint': 1, 'creation_time': 1.610000072105322e-05}, 'bin_capacity': {'nr_constraint': 1, 'creation_time': 0.001951500000359374}, 'get_constraints': {'nr_constraint': 841, 'creation_time': 0.18025759999909496}}\n",
      "STATS {'nr_constraints': 841, 'transfer_time': 0.6107558999992762, 'solve_time': 0.14229159999922558, 'density': 0.8693, 'bin_length': 100, 'fulfilled': [0, 1, 0, 2, 0, 0, 1, 0, 0, 0], 'counts': [0, 1, 0, 2, 0, 0, 1, 0, 0, 0], 'objective': 1307, 'nr_variables': 690, 'ortools_objective': 1307, 'constraints': {'item_count': {'nr_constraint': 20, 'creation_time': 0.0014221999990695622}, 'item_selection': {'nr_constraint': 20, 'creation_time': 0.0004298999992897734}, 'no_overlap': {'nr_constraint': 701, 'creation_time': 0.14352429999962624}, 'bin_height': {'nr_constraint': 1, 'creation_time': 1.610000072105322e-05}, 'bin_capacity': {'nr_constraint': 1, 'creation_time': 0.001951500000359374}, 'get_constraints': {'nr_constraint': 841, 'creation_time': 0.18025759999909496}}, 'total_time': 0.9879187000005913}\n"
     ]
    },
    {
     "data": {
      "image/png": "[encoded data removed]",
      "text/plain": [
       "<Figure size 720x720 with 1 Axes>"
      ]
     },
     "metadata": {
      "needs_background": "light"
     },
     "output_type": "display_data"
    },
    {
     "name": "stdout",
     "output_type": "stream",
     "text": [
      "PROBLEM 10_100_100_9 {'widths': [74, 57, 46, 65, 90, 23, 59, 92, 60, 54], 'heights': [62, 78, 57, 65, 43, 37, 58, 51, 32, 66], 'machine_config': {'width': 100, 'min_length': 100, 'max_length': 100}}\n",
      "Running model [<class 'src.models.single_bin.anchor.model.AnchorSBM'>]\n",
      "Collecting constraints ...\n",
      "Warning, timeout protection only supported on Linux!\n",
      "nr_no_overlap 823\n",
      "nr constraints: 865\n",
      "Transferring...\n",
      "Warning, timeout protection only supported on Linux!\n",
      "Solving...\n",
      "SAT True\n",
      "TIME 2.395375800000693\n",
      "{'item_count': {'nr_constraint': 20, 'creation_time': 0.00191860000086308}, 'item_selection': {'nr_constraint': 20, 'creation_time': 0.000515800000357558}, 'no_overlap': {'nr_constraint': 823, 'creation_time': 0.25328059999992547}, 'bin_height': {'nr_constraint': 1, 'creation_time': 2.0899999071843922e-05}, 'bin_capacity': {'nr_constraint': 1, 'creation_time': 0.002199000000473461}, 'get_constraints': {'nr_constraint': 841, 'creation_time': 0.18025759999909496}}\n",
      "STATS {'nr_constraints': 865, 'transfer_time': 1.3027798999992228, 'solve_time': 0.8070753000010882, 'density': 0.9164, 'bin_length': 100, 'fulfilled': [0, 0, 0, 0, 0, 4, 0, 0, 3, 0], 'counts': [0, 0, 0, 0, 0, 4, 0, 0, 3, 0], 'repeats_width': [1, 1, 2, 1, 1, 4, 1, 1, 1, 1, 1, 1, 1, 1, 2, 2, 1, 1, 3, 1], 'repeats_length': [1, 1, 1, 1, 2, 2, 1, 1, 3, 1, 1, 1, 2, 1, 1, 4, 1, 1, 1, 1], 'objective': 8360345, 'nr_variables': 167, 'ortools_objective': 8360345, 'constraints': {'item_count': {'nr_constraint': 20, 'creation_time': 0.00191860000086308}, 'item_selection': {'nr_constraint': 20, 'creation_time': 0.000515800000357558}, 'no_overlap': {'nr_constraint': 823, 'creation_time': 0.25328059999992547}, 'bin_height': {'nr_constraint': 1, 'creation_time': 2.0899999071843922e-05}, 'bin_capacity': {'nr_constraint': 1, 'creation_time': 0.002199000000473461}, 'get_constraints': {'nr_constraint': 841, 'creation_time': 0.18025759999909496}}, 'total_time': 2.395375800000693}\n"
     ]
    },
    {
     "data": {
      "image/png": "[encoded data removed]",
      "text/plain": [
       "<Figure size 720x720 with 1 Axes>"
      ]
     },
     "metadata": {
      "needs_background": "light"
     },
     "output_type": "display_data"
    },
    {
     "name": "stdout",
     "output_type": "stream",
     "text": [
      "Running model [<class 'src.models.single_bin.guillotine.model.GuillotineSBM'>]\n",
      "Collecting constraints ...\n",
      "Warning, timeout protection only supported on Linux!\n",
      "nr constraints: 2239\n",
      "Transferring...\n",
      "Warning, timeout protection only supported on Linux!\n",
      "Solving...\n",
      "SAT True\n",
      "TIME 2.1484605000005104\n",
      "{'item_count': {'nr_constraint': 20, 'creation_time': 0.00191860000086308}, 'item_selection': {'nr_constraint': 20, 'creation_time': 0.000515800000357558}, 'no_overlap': {'nr_constraint': 823, 'creation_time': 0.25328059999992547}, 'bin_height': {'nr_constraint': 1, 'creation_time': 2.0899999071843922e-05}, 'bin_capacity': {'nr_constraint': 1, 'creation_time': 0.002199000000473461}, 'get_constraints': {'nr_constraint': 2239, 'creation_time': 0.45289129999946454}}\n",
      "STATS {'nr_constraints': 2239, 'transfer_time': 1.357399800001076, 'solve_time': 0.24318010000024515, 'density': 0.9164, 'bin_length': 100, 'fulfilled': [0, 0, 0, 0, 0, 4, 0, 0, 3, 0], 'counts': [0, 0, 0, 0, 0, 4, 0, 0, 3, 0], 'objective': 836, 'nr_variables': 1576, 'ortools_objective': 836, 'constraints': {'item_count': {'nr_constraint': 20, 'creation_time': 0.00191860000086308}, 'item_selection': {'nr_constraint': 20, 'creation_time': 0.000515800000357558}, 'no_overlap': {'nr_constraint': 823, 'creation_time': 0.25328059999992547}, 'bin_height': {'nr_constraint': 1, 'creation_time': 2.0899999071843922e-05}, 'bin_capacity': {'nr_constraint': 1, 'creation_time': 0.002199000000473461}, 'get_constraints': {'nr_constraint': 2239, 'creation_time': 0.45289129999946454}}, 'total_time': 2.1484605000005104}\n"
     ]
    },
    {
     "data": {
      "image/png": "[encoded data removed]",
      "text/plain": [
       "<Figure size 720x720 with 1 Axes>"
      ]
     },
     "metadata": {
      "needs_background": "light"
     },
     "output_type": "display_data"
    }
   ],
   "source": [
    "nr_item_types = [10]\n",
    "\n",
    "for minutes in [1]:\n",
    "    for nr_item_type in nr_item_types:\n",
    "        for problem in problems:\n",
    "\n",
    "            x, y = problem\n",
    "\n",
    "            file_name = str(nr_item_type) + \"_\" + str(x) + \"_\" + str(y) \n",
    "\n",
    "            f = open(os.path.join(os.getcwd(), \"problems\", file_name + \".json\"))\n",
    "            data = json.load(f)\n",
    "\n",
    "            run_single_bin_benchmark_repeated([AnchorSBM, GuillotineSBM], (ProblemJsonS.init_from_file(data)), max_time_seconds=60*minutes, nr_repeats=1)"
   ]
  }
 ],
 "metadata": {
  "kernelspec": {
   "display_name": "CPMpy",
   "language": "python",
   "name": "python3"
  },
  "language_info": {
   "codemirror_mode": {
    "name": "ipython",
    "version": 3
   },
   "file_extension": ".py",
   "mimetype": "text/x-python",
   "name": "python",
   "nbconvert_exporter": "python",
   "pygments_lexer": "ipython3",
   "version": "3.10.8"
  }
 },
 "nbformat": 4,
 "nbformat_minor": 4
}
