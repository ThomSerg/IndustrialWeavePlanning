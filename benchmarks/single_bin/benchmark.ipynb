{
 "cells": [
  {
   "cell_type": "code",
   "execution_count": 6,
   "metadata": {},
   "outputs": [
    {
     "name": "stdout",
     "output_type": "stream",
     "text": [
      "The autoreload extension is already loaded. To reload it, use:\n",
      "  %reload_ext autoreload\n"
     ]
    }
   ],
   "source": [
    "%load_ext autoreload\n",
    "%autoreload 2"
   ]
  },
  {
   "cell_type": "code",
   "execution_count": 7,
   "metadata": {},
   "outputs": [],
   "source": [
    "import sys,os,json\n",
    "sys.path.append(os.path.join(\"..\",\"..\"))"
   ]
  },
  {
   "cell_type": "code",
   "execution_count": 8,
   "metadata": {},
   "outputs": [],
   "source": [
    "from benchmarks.utils import *\n",
    "\n",
    "from src.models.single_bin.baseline.model import BaselineSBM\n",
    "from src.models.single_bin.anchor.model import AnchorSBM\n",
    "from src.models.single_bin.guillotine.model import GuillotineSBM\n",
    "\n",
    "from benchmarks.problem_json import ProblemJsonS"
   ]
  },
  {
   "cell_type": "code",
   "execution_count": 9,
   "metadata": {},
   "outputs": [],
   "source": [
    "problems = [\n",
    "    (100,100),\n",
    "    #(200,200),\n",
    "    #(300,300),\n",
    "    #(100,400),\n",
    "    # (200,450),\n",
    "    #(100,900)\n",
    "]"
   ]
  },
  {
   "cell_type": "code",
   "execution_count": 10,
   "metadata": {},
   "outputs": [
    {
     "name": "stdout",
     "output_type": "stream",
     "text": [
      "PROBLEM 10_100_100_0 {'widths': [44, 49, 37, 43, 82, 35, 24, 29, 37, 49], 'heights': [43, 95, 72, 54, 54, 27, 46, 37, 24, 28], 'machine_config': {'width': 100, 'min_length': 100, 'max_length': 100}}\n",
      "Running model [<class 'src.models.single_bin.anchor.model.AnchorSBM'>]\n",
      "Collecting constraints ...\n",
      "Warning, timeout protection only supported on Linux!\n",
      "nr_no_overlap 3709\n",
      "nr constraints: 3751\n",
      "Transferring...\n",
      "Warning, timeout protection only supported on Linux!\n",
      "Solving...\n",
      "SAT True\n",
      "TIME 68.35503980000794\n",
      "{'item_count': {'nr_constraint': 20, 'creation_time': 0.0028012999973725528}, 'item_selection': {'nr_constraint': 20, 'creation_time': 0.00036020000698044896}, 'no_overlap': {'nr_constraint': 3709, 'creation_time': 1.002108100001351}, 'bin_height': {'nr_constraint': 2, 'creation_time': 2.820001100189984e-05}, 'bin_capacity': {'nr_constraint': 0, 'creation_time': 6.999907782301307e-07}, 'get_constraints': {'nr_constraint': 2239, 'creation_time': 0.5901754000078654}}\n",
      "STATS stats(objective=1410513, nr_variables=311, total_density=0.9859, constraints={'item_count': {'nr_constraint': 20, 'creation_time': 0.0028012999973725528}, 'item_selection': {'nr_constraint': 20, 'creation_time': 0.00036020000698044896}, 'no_overlap': {'nr_constraint': 3709, 'creation_time': 1.002108100001351}, 'bin_height': {'nr_constraint': 2, 'creation_time': 2.820001100189984e-05}, 'bin_capacity': {'nr_constraint': 0, 'creation_time': 6.999907782301307e-07}, 'get_constraints': {'nr_constraint': 2239, 'creation_time': 0.5901754000078654}}, constraint_time=1.0054382999951486, transfer_time=7.00778430000355, solve_time=60.30295730000944, total_time=68.35503980000794, bin_length=100, fulfilled=[1, 0, 0, 0, 0, 2, 0, 1, 1, 3], counts=[1, 0, 0, 0, 0, 2, 0, 1, 1, 3], repeats_width=[2, 2, 2, 2, 1, 2, 4, 3, 2, 2, 2, 1, 1, 1, 1, 3, 2, 2, 4, 3], repeats_length=[2, 1, 1, 1, 1, 3, 2, 2, 4, 3, 2, 2, 2, 2, 1, 2, 4, 3, 2, 2])\n"
     ]
    },
    {
     "data": {
      "image/png": "[encoded data removed]",
      "text/plain": [
       "<Figure size 720x720 with 1 Axes>"
      ]
     },
     "metadata": {
      "needs_background": "light"
     },
     "output_type": "display_data"
    },
    {
     "name": "stdout",
     "output_type": "stream",
     "text": [
      "Running model [<class 'src.models.single_bin.guillotine.model.GuillotineSBM'>]\n",
      "Collecting constraints ...\n",
      "Warning, timeout protection only supported on Linux!\n",
      "nr constraints: 1947\n",
      "Transferring...\n",
      "Warning, timeout protection only supported on Linux!\n",
      "Solving...\n",
      "SAT True\n",
      "TIME 5.631127900007414\n",
      "{'item_count': {'nr_constraint': 20, 'creation_time': 0.0028012999973725528}, 'item_selection': {'nr_constraint': 20, 'creation_time': 0.00036020000698044896}, 'no_overlap': {'nr_constraint': 3709, 'creation_time': 1.002108100001351}, 'bin_height': {'nr_constraint': 2, 'creation_time': 2.820001100189984e-05}, 'bin_capacity': {'nr_constraint': 0, 'creation_time': 6.999907782301307e-07}, 'get_constraints': {'nr_constraint': 1947, 'creation_time': 0.3717837000003783}}\n",
      "STATS SingleBinStats(objective=164, nr_variables=1512, total_density=0.9836, constraints={'item_count': {'nr_constraint': 20, 'creation_time': 0.0028012999973725528}, 'item_selection': {'nr_constraint': 20, 'creation_time': 0.00036020000698044896}, 'no_overlap': {'nr_constraint': 3709, 'creation_time': 1.002108100001351}, 'bin_height': {'nr_constraint': 2, 'creation_time': 2.820001100189984e-05}, 'bin_capacity': {'nr_constraint': 0, 'creation_time': 6.999907782301307e-07}, 'get_constraints': {'nr_constraint': 1947, 'creation_time': 0.3717837000003783}}, constraint_time=None, transfer_time=1.4833976000081748, solve_time=3.6712655000010272, total_time=5.631127900007414, bin_length=100, fulfilled=[0, 0, 0, 0, 0, 4, 3, 0, 0, 2], counts=[0, 0, 0, 0, 0, 4, 3, 0, 0, 2])\n"
     ]
    },
    {
     "data": {
      "image/png": "[encoded data removed]",
      "text/plain": [
       "<Figure size 720x720 with 1 Axes>"
      ]
     },
     "metadata": {
      "needs_background": "light"
     },
     "output_type": "display_data"
    },
    {
     "name": "stdout",
     "output_type": "stream",
     "text": [
      "PROBLEM 10_100_100_1 {'widths': [37, 77, 25, 60, 65, 56, 34, 49, 82, 62], 'heights': [63, 57, 41, 35, 38, 54, 35, 72, 36, 62], 'machine_config': {'width': 100, 'min_length': 100, 'max_length': 100}}\n",
      "Running model [<class 'src.models.single_bin.anchor.model.AnchorSBM'>]\n",
      "Collecting constraints ...\n",
      "Warning, timeout protection only supported on Linux!\n",
      "nr_no_overlap 1173\n",
      "nr constraints: 1215\n",
      "Transferring...\n",
      "Warning, timeout protection only supported on Linux!\n",
      "Solving...\n",
      "SAT True\n",
      "TIME 6.87369469999976\n",
      "{'item_count': {'nr_constraint': 20, 'creation_time': 0.0025095000019064173}, 'item_selection': {'nr_constraint': 20, 'creation_time': 0.0005449000018415973}, 'no_overlap': {'nr_constraint': 1173, 'creation_time': 0.25081360001058783}, 'bin_height': {'nr_constraint': 2, 'creation_time': 2.78999941656366e-05}, 'bin_capacity': {'nr_constraint': 0, 'creation_time': 7.00005330145359e-07}, 'get_constraints': {'nr_constraint': 1947, 'creation_time': 0.3717837000003783}}\n",
      "STATS stats(objective=3040145, nr_variables=191, total_density=0.9696, constraints={'item_count': {'nr_constraint': 20, 'creation_time': 0.0025095000019064173}, 'item_selection': {'nr_constraint': 20, 'creation_time': 0.0005449000018415973}, 'no_overlap': {'nr_constraint': 1173, 'creation_time': 0.25081360001058783}, 'bin_height': {'nr_constraint': 2, 'creation_time': 2.78999941656366e-05}, 'bin_capacity': {'nr_constraint': 0, 'creation_time': 7.00005330145359e-07}, 'get_constraints': {'nr_constraint': 1947, 'creation_time': 0.3717837000003783}}, constraint_time=0.2539692999998806, transfer_time=2.290024000001722, solve_time=4.301360099998419, total_time=6.87369469999976, bin_length=100, fulfilled=[2, 0, 0, 0, 0, 0, 1, 0, 0, 1], counts=[2, 0, 0, 0, 0, 0, 1, 0, 0, 1], repeats_width=[2, 1, 4, 1, 1, 1, 2, 2, 1, 1, 1, 1, 2, 2, 2, 1, 2, 1, 2, 1], repeats_length=[1, 1, 2, 2, 2, 1, 2, 1, 2, 1, 2, 1, 4, 1, 1, 1, 2, 2, 1, 1])\n"
     ]
    },
    {
     "data": {
      "image/png": "[encoded data removed]",
      "text/plain": [
       "<Figure size 720x720 with 1 Axes>"
      ]
     },
     "metadata": {
      "needs_background": "light"
     },
     "output_type": "display_data"
    },
    {
     "name": "stdout",
     "output_type": "stream",
     "text": [
      "Running model [<class 'src.models.single_bin.guillotine.model.GuillotineSBM'>]\n",
      "Collecting constraints ...\n",
      "Warning, timeout protection only supported on Linux!\n",
      "nr constraints: 2239\n",
      "Transferring...\n",
      "Warning, timeout protection only supported on Linux!\n",
      "Solving...\n",
      "SAT True\n",
      "TIME 2.6244807000039145\n",
      "{'item_count': {'nr_constraint': 20, 'creation_time': 0.0025095000019064173}, 'item_selection': {'nr_constraint': 20, 'creation_time': 0.0005449000018415973}, 'no_overlap': {'nr_constraint': 1173, 'creation_time': 0.25081360001058783}, 'bin_height': {'nr_constraint': 2, 'creation_time': 2.78999941656366e-05}, 'bin_capacity': {'nr_constraint': 0, 'creation_time': 7.00005330145359e-07}, 'get_constraints': {'nr_constraint': 2239, 'creation_time': 0.5283985999994911}}\n",
      "STATS SingleBinStats(objective=304, nr_variables=1576, total_density=0.9696, constraints={'item_count': {'nr_constraint': 20, 'creation_time': 0.0025095000019064173}, 'item_selection': {'nr_constraint': 20, 'creation_time': 0.0005449000018415973}, 'no_overlap': {'nr_constraint': 1173, 'creation_time': 0.25081360001058783}, 'bin_height': {'nr_constraint': 2, 'creation_time': 2.78999941656366e-05}, 'bin_capacity': {'nr_constraint': 0, 'creation_time': 7.00005330145359e-07}, 'get_constraints': {'nr_constraint': 2239, 'creation_time': 0.5283985999994911}}, constraint_time=None, transfer_time=1.6813446000014665, solve_time=0.317960000000312, total_time=2.6244807000039145, bin_length=100, fulfilled=[2, 0, 0, 0, 0, 0, 1, 0, 0, 1], counts=[2, 0, 0, 0, 0, 0, 1, 0, 0, 1])\n"
     ]
    },
    {
     "data": {
      "image/png": "[encoded data removed]",
      "text/plain": [
       "<Figure size 720x720 with 1 Axes>"
      ]
     },
     "metadata": {
      "needs_background": "light"
     },
     "output_type": "display_data"
    },
    {
     "name": "stdout",
     "output_type": "stream",
     "text": [
      "PROBLEM 10_100_100_2 {'widths': [67, 46, 31, 66, 69, 68, 67, 70, 83, 47], 'heights': [72, 63, 45, 61, 65, 71, 47, 31, 50, 28], 'machine_config': {'width': 100, 'min_length': 100, 'max_length': 100}}\n",
      "Running model [<class 'src.models.single_bin.anchor.model.AnchorSBM'>]\n",
      "Collecting constraints ...\n",
      "Warning, timeout protection only supported on Linux!\n",
      "nr_no_overlap 1187\n",
      "nr constraints: 1229\n",
      "Transferring...\n",
      "Warning, timeout protection only supported on Linux!\n",
      "Solving...\n",
      "SAT True\n",
      "TIME 3.207958300001337\n",
      "{'item_count': {'nr_constraint': 20, 'creation_time': 0.0019394999981159344}, 'item_selection': {'nr_constraint': 20, 'creation_time': 0.0014672999968752265}, 'no_overlap': {'nr_constraint': 1187, 'creation_time': 0.23836279999522958}, 'bin_height': {'nr_constraint': 2, 'creation_time': 2.5200002710334957e-05}, 'bin_capacity': {'nr_constraint': 0, 'creation_time': 7.999915396794677e-07}, 'get_constraints': {'nr_constraint': 2239, 'creation_time': 0.5283985999994911}}\n",
      "STATS stats(objective=3700134, nr_variables=191, total_density=0.963, constraints={'item_count': {'nr_constraint': 20, 'creation_time': 0.0019394999981159344}, 'item_selection': {'nr_constraint': 20, 'creation_time': 0.0014672999968752265}, 'no_overlap': {'nr_constraint': 1187, 'creation_time': 0.23836279999522958}, 'bin_height': {'nr_constraint': 2, 'creation_time': 2.5200002710334957e-05}, 'bin_capacity': {'nr_constraint': 0, 'creation_time': 7.999915396794677e-07}, 'get_constraints': {'nr_constraint': 2239, 'creation_time': 0.5283985999994911}}, constraint_time=0.24187220000021625, transfer_time=1.7690176000032807, solve_time=1.165207099998952, total_time=3.207958300001337, bin_length=100, fulfilled=[0, 0, 0, 0, 0, 1, 0, 1, 0, 2], counts=[0, 0, 0, 0, 0, 1, 0, 1, 0, 2], repeats_width=[1, 2, 3, 1, 1, 1, 1, 1, 1, 2, 1, 1, 2, 1, 1, 1, 2, 3, 2, 3], repeats_length=[1, 1, 2, 1, 1, 1, 2, 3, 2, 3, 1, 2, 3, 1, 1, 1, 1, 1, 1, 2])\n"
     ]
    },
    {
     "data": {
      "image/png": "[encoded data removed]",
      "text/plain": [
       "<Figure size 720x720 with 1 Axes>"
      ]
     },
     "metadata": {
      "needs_background": "light"
     },
     "output_type": "display_data"
    },
    {
     "name": "stdout",
     "output_type": "stream",
     "text": [
      "Running model [<class 'src.models.single_bin.guillotine.model.GuillotineSBM'>]\n",
      "Collecting constraints ...\n",
      "Warning, timeout protection only supported on Linux!\n",
      "nr constraints: 872\n",
      "Transferring...\n",
      "Warning, timeout protection only supported on Linux!\n",
      "Solving...\n",
      "SAT True\n",
      "TIME 1.1098726999916835\n",
      "{'item_count': {'nr_constraint': 20, 'creation_time': 0.0019394999981159344}, 'item_selection': {'nr_constraint': 20, 'creation_time': 0.0014672999968752265}, 'no_overlap': {'nr_constraint': 1187, 'creation_time': 0.23836279999522958}, 'bin_height': {'nr_constraint': 2, 'creation_time': 2.5200002710334957e-05}, 'bin_capacity': {'nr_constraint': 0, 'creation_time': 7.999915396794677e-07}, 'get_constraints': {'nr_constraint': 872, 'creation_time': 0.19069030000537168}}\n",
      "STATS SingleBinStats(objective=370, nr_variables=699, total_density=0.963, constraints={'item_count': {'nr_constraint': 20, 'creation_time': 0.0019394999981159344}, 'item_selection': {'nr_constraint': 20, 'creation_time': 0.0014672999968752265}, 'no_overlap': {'nr_constraint': 1187, 'creation_time': 0.23836279999522958}, 'bin_height': {'nr_constraint': 2, 'creation_time': 2.5200002710334957e-05}, 'bin_capacity': {'nr_constraint': 0, 'creation_time': 7.999915396794677e-07}, 'get_constraints': {'nr_constraint': 872, 'creation_time': 0.19069030000537168}}, constraint_time=None, transfer_time=0.6611298999923747, solve_time=0.18680480000330135, total_time=1.1098726999916835, bin_length=100, fulfilled=[0, 0, 0, 0, 0, 1, 0, 1, 0, 2], counts=[0, 0, 0, 0, 0, 1, 0, 1, 0, 2])\n"
     ]
    },
    {
     "data": {
      "image/png": "[encoded data removed]",
      "text/plain": [
       "<Figure size 720x720 with 1 Axes>"
      ]
     },
     "metadata": {
      "needs_background": "light"
     },
     "output_type": "display_data"
    },
    {
     "name": "stdout",
     "output_type": "stream",
     "text": [
      "PROBLEM 10_100_100_3 {'widths': [20, 88, 72, 55, 25, 66, 45, 91, 36, 63], 'heights': [43, 40, 69, 28, 57, 61, 94, 52, 34, 49], 'machine_config': {'width': 100, 'min_length': 100, 'max_length': 100}}\n",
      "Running model [<class 'src.models.single_bin.anchor.model.AnchorSBM'>]\n",
      "Collecting constraints ...\n",
      "Warning, timeout protection only supported on Linux!\n",
      "nr_no_overlap 1615\n",
      "nr constraints: 1657\n",
      "Transferring...\n",
      "Warning, timeout protection only supported on Linux!\n",
      "Solving...\n",
      "SAT True\n",
      "TIME 45.591010899996036\n",
      "{'item_count': {'nr_constraint': 20, 'creation_time': 0.002954800002044067}, 'item_selection': {'nr_constraint': 20, 'creation_time': 0.0006514999986393377}, 'no_overlap': {'nr_constraint': 1615, 'creation_time': 0.32743520000076387}, 'bin_height': {'nr_constraint': 2, 'creation_time': 2.5300003471784294e-05}, 'bin_capacity': {'nr_constraint': 0, 'creation_time': 7.00005330145359e-07}, 'get_constraints': {'nr_constraint': 872, 'creation_time': 0.19069030000537168}}\n",
      "STATS stats(objective=522, nr_variables=221, total_density=1.0, constraints={'item_count': {'nr_constraint': 20, 'creation_time': 0.002954800002044067}, 'item_selection': {'nr_constraint': 20, 'creation_time': 0.0006514999986393377}, 'no_overlap': {'nr_constraint': 1615, 'creation_time': 0.32743520000076387}, 'bin_height': {'nr_constraint': 2, 'creation_time': 2.5300003471784294e-05}, 'bin_capacity': {'nr_constraint': 0, 'creation_time': 7.00005330145359e-07}, 'get_constraints': {'nr_constraint': 872, 'creation_time': 0.19069030000537168}}, constraint_time=0.3311524000018835, transfer_time=2.886506399998325, solve_time=42.346287699998356, total_time=45.591010899996036, bin_length=100, fulfilled=[5, 0, 0, 0, 4, 0, 0, 0, 0, 0], counts=[5, 0, 0, 0, 4, 0, 0, 0, 0, 0], repeats_width=[5, 1, 1, 1, 4, 1, 2, 1, 2, 1, 2, 2, 1, 3, 1, 1, 1, 1, 2, 2], repeats_length=[2, 2, 1, 3, 1, 1, 1, 1, 2, 2, 5, 1, 1, 1, 4, 1, 2, 1, 2, 1])\n"
     ]
    },
    {
     "data": {
      "image/png": "[encoded data removed]",
      "text/plain": [
       "<Figure size 720x720 with 1 Axes>"
      ]
     },
     "metadata": {
      "needs_background": "light"
     },
     "output_type": "display_data"
    },
    {
     "name": "stdout",
     "output_type": "stream",
     "text": [
      "Running model [<class 'src.models.single_bin.guillotine.model.GuillotineSBM'>]\n",
      "Collecting constraints ...\n",
      "Warning, timeout protection only supported on Linux!\n",
      "nr constraints: 4779\n",
      "Transferring...\n",
      "Warning, timeout protection only supported on Linux!\n",
      "Solving...\n",
      "SAT True\n",
      "TIME 5.636275299999397\n",
      "{'item_count': {'nr_constraint': 20, 'creation_time': 0.002954800002044067}, 'item_selection': {'nr_constraint': 20, 'creation_time': 0.0006514999986393377}, 'no_overlap': {'nr_constraint': 1615, 'creation_time': 0.32743520000076387}, 'bin_height': {'nr_constraint': 2, 'creation_time': 2.5300003471784294e-05}, 'bin_capacity': {'nr_constraint': 0, 'creation_time': 7.00005330145359e-07}, 'get_constraints': {'nr_constraint': 4779, 'creation_time': 0.8759776000079}}\n",
      "STATS SingleBinStats(objective=0, nr_variables=3010, total_density=1.0, constraints={'item_count': {'nr_constraint': 20, 'creation_time': 0.002954800002044067}, 'item_selection': {'nr_constraint': 20, 'creation_time': 0.0006514999986393377}, 'no_overlap': {'nr_constraint': 1615, 'creation_time': 0.32743520000076387}, 'bin_height': {'nr_constraint': 2, 'creation_time': 2.5300003471784294e-05}, 'bin_capacity': {'nr_constraint': 0, 'creation_time': 7.00005330145359e-07}, 'get_constraints': {'nr_constraint': 4779, 'creation_time': 0.8759776000079}}, constraint_time=None, transfer_time=3.7482959000044502, solve_time=0.8542024999915157, total_time=5.636275299999397, bin_length=100, fulfilled=[5, 0, 0, 0, 4, 0, 0, 0, 0, 0], counts=[5, 0, 0, 0, 4, 0, 0, 0, 0, 0])\n"
     ]
    },
    {
     "data": {
      "image/png": "[encoded data removed]",
      "text/plain": [
       "<Figure size 720x720 with 1 Axes>"
      ]
     },
     "metadata": {
      "needs_background": "light"
     },
     "output_type": "display_data"
    },
    {
     "name": "stdout",
     "output_type": "stream",
     "text": [
      "PROBLEM 10_100_100_4 {'widths': [29, 59, 43, 79, 62, 68, 23, 79, 62, 46], 'heights': [64, 40, 44, 34, 65, 49, 39, 47, 59, 93], 'machine_config': {'width': 100, 'min_length': 100, 'max_length': 100}}\n",
      "Running model [<class 'src.models.single_bin.anchor.model.AnchorSBM'>]\n",
      "Collecting constraints ...\n",
      "Warning, timeout protection only supported on Linux!\n",
      "nr_no_overlap 1381\n",
      "nr constraints: 1423\n",
      "Transferring...\n",
      "Warning, timeout protection only supported on Linux!\n",
      "Solving...\n",
      "SAT True\n",
      "TIME 4.962114800000563\n",
      "{'item_count': {'nr_constraint': 20, 'creation_time': 0.0017263999907299876}, 'item_selection': {'nr_constraint': 20, 'creation_time': 0.0004298999992897734}, 'no_overlap': {'nr_constraint': 1381, 'creation_time': 0.26639639999484643}, 'bin_height': {'nr_constraint': 2, 'creation_time': 2.890000178012997e-05}, 'bin_capacity': {'nr_constraint': 0, 'creation_time': 1.300009898841381e-06}, 'get_constraints': {'nr_constraint': 4779, 'creation_time': 0.8759776000079}}\n",
      "STATS stats(objective=5600198, nr_variables=203, total_density=0.944, constraints={'item_count': {'nr_constraint': 20, 'creation_time': 0.0017263999907299876}, 'item_selection': {'nr_constraint': 20, 'creation_time': 0.0004298999992897734}, 'no_overlap': {'nr_constraint': 1381, 'creation_time': 0.26639639999484643}, 'bin_height': {'nr_constraint': 2, 'creation_time': 2.890000178012997e-05}, 'bin_capacity': {'nr_constraint': 0, 'creation_time': 1.300009898841381e-06}, 'get_constraints': {'nr_constraint': 4779, 'creation_time': 0.8759776000079}}, constraint_time=0.2686588000069605, transfer_time=2.6763110000028973, solve_time=1.9953436000068905, total_time=4.962114800000563, bin_length=100, fulfilled=[0, 4, 0, 0, 0, 0, 0, 0, 0, 0], counts=[0, 4, 0, 0, 0, 0, 0, 0, 0, 0], repeats_width=[3, 1, 2, 1, 1, 1, 4, 1, 1, 2, 1, 2, 2, 2, 1, 2, 2, 2, 1, 1], repeats_length=[1, 2, 2, 2, 1, 2, 2, 2, 1, 1, 3, 1, 2, 1, 1, 1, 4, 1, 1, 2])\n"
     ]
    },
    {
     "data": {
      "image/png": "[encoded data removed]",
      "text/plain": [
       "<Figure size 720x720 with 1 Axes>"
      ]
     },
     "metadata": {
      "needs_background": "light"
     },
     "output_type": "display_data"
    },
    {
     "name": "stdout",
     "output_type": "stream",
     "text": [
      "Running model [<class 'src.models.single_bin.guillotine.model.GuillotineSBM'>]\n",
      "Collecting constraints ...\n",
      "Warning, timeout protection only supported on Linux!\n",
      "nr constraints: 2166\n",
      "Transferring...\n",
      "Warning, timeout protection only supported on Linux!\n",
      "Solving...\n",
      "SAT True\n",
      "TIME 2.630332399989129\n",
      "{'item_count': {'nr_constraint': 20, 'creation_time': 0.0017263999907299876}, 'item_selection': {'nr_constraint': 20, 'creation_time': 0.0004298999992897734}, 'no_overlap': {'nr_constraint': 1381, 'creation_time': 0.26639639999484643}, 'bin_height': {'nr_constraint': 2, 'creation_time': 2.890000178012997e-05}, 'bin_capacity': {'nr_constraint': 0, 'creation_time': 1.300009898841381e-06}, 'get_constraints': {'nr_constraint': 2166, 'creation_time': 0.5573813000082737}}\n",
      "STATS SingleBinStats(objective=1242, nr_variables=1560, total_density=0.8758, constraints={'item_count': {'nr_constraint': 20, 'creation_time': 0.0017263999907299876}, 'item_selection': {'nr_constraint': 20, 'creation_time': 0.0004298999992897734}, 'no_overlap': {'nr_constraint': 1381, 'creation_time': 0.26639639999484643}, 'bin_height': {'nr_constraint': 2, 'creation_time': 2.890000178012997e-05}, 'bin_capacity': {'nr_constraint': 0, 'creation_time': 1.300009898841381e-06}, 'get_constraints': {'nr_constraint': 2166, 'creation_time': 0.5573813000082737}}, constraint_time=None, transfer_time=1.6495418999984395, solve_time=0.3210218000021996, total_time=2.630332399989129, bin_length=100, fulfilled=[2, 1, 0, 1, 0, 0, 0, 0, 0, 0], counts=[2, 1, 0, 1, 0, 0, 0, 0, 0, 0])\n"
     ]
    },
    {
     "data": {
      "image/png": "[encoded data removed]",
      "text/plain": [
       "<Figure size 720x720 with 1 Axes>"
      ]
     },
     "metadata": {
      "needs_background": "light"
     },
     "output_type": "display_data"
    },
    {
     "name": "stdout",
     "output_type": "stream",
     "text": [
      "PROBLEM 10_100_100_5 {'widths': [73, 41, 41, 23, 94, 39, 52, 52, 48, 34], 'heights': [65, 56, 34, 47, 53, 74, 78, 70, 54, 56], 'machine_config': {'width': 100, 'min_length': 100, 'max_length': 100}}\n",
      "Running model [<class 'src.models.single_bin.anchor.model.AnchorSBM'>]\n",
      "Collecting constraints ...\n",
      "Warning, timeout protection only supported on Linux!\n",
      "nr_no_overlap 1073\n",
      "nr constraints: 1115\n",
      "Transferring...\n",
      "Warning, timeout protection only supported on Linux!\n",
      "Solving...\n",
      "SAT True\n",
      "TIME 5.344261999998707\n",
      "{'item_count': {'nr_constraint': 20, 'creation_time': 0.0020861999946646392}, 'item_selection': {'nr_constraint': 20, 'creation_time': 0.0003853999951388687}, 'no_overlap': {'nr_constraint': 1073, 'creation_time': 0.21640300001308788}, 'bin_height': {'nr_constraint': 2, 'creation_time': 3.370000922586769e-05}, 'bin_capacity': {'nr_constraint': 0, 'creation_time': 8.999923011288047e-07}, 'get_constraints': {'nr_constraint': 2166, 'creation_time': 0.5573813000082737}}\n",
      "STATS stats(objective=4920342, nr_variables=185, total_density=0.9508, constraints={'item_count': {'nr_constraint': 20, 'creation_time': 0.0020861999946646392}, 'item_selection': {'nr_constraint': 20, 'creation_time': 0.0003853999951388687}, 'no_overlap': {'nr_constraint': 1073, 'creation_time': 0.21640300001308788}, 'bin_height': {'nr_constraint': 2, 'creation_time': 3.370000922586769e-05}, 'bin_capacity': {'nr_constraint': 0, 'creation_time': 8.999923011288047e-07}, 'get_constraints': {'nr_constraint': 2166, 'creation_time': 0.5573813000082737}}, constraint_time=0.2189732999977423, transfer_time=2.063592199992854, solve_time=3.0352016999968328, total_time=5.344261999998707, bin_length=100, fulfilled=[0, 0, 0, 4, 0, 0, 0, 0, 2, 0], counts=[0, 0, 0, 4, 0, 0, 0, 0, 2, 0], repeats_width=[1, 2, 2, 4, 1, 2, 1, 1, 2, 2, 1, 1, 2, 2, 1, 1, 1, 1, 1, 1], repeats_length=[1, 1, 2, 2, 1, 1, 1, 1, 1, 1, 1, 2, 2, 4, 1, 2, 1, 1, 2, 2])\n"
     ]
    },
    {
     "data": {
      "image/png": "[encoded data removed]",
      "text/plain": [
       "<Figure size 720x720 with 1 Axes>"
      ]
     },
     "metadata": {
      "needs_background": "light"
     },
     "output_type": "display_data"
    },
    {
     "name": "stdout",
     "output_type": "stream",
     "text": [
      "Running model [<class 'src.models.single_bin.guillotine.model.GuillotineSBM'>]\n",
      "Collecting constraints ...\n",
      "Warning, timeout protection only supported on Linux!\n",
      "nr constraints: 2093\n",
      "Transferring...\n",
      "Warning, timeout protection only supported on Linux!\n",
      "Solving...\n",
      "SAT True\n",
      "TIME 2.604913999995915\n",
      "{'item_count': {'nr_constraint': 20, 'creation_time': 0.0020861999946646392}, 'item_selection': {'nr_constraint': 20, 'creation_time': 0.0003853999951388687}, 'no_overlap': {'nr_constraint': 1073, 'creation_time': 0.21640300001308788}, 'bin_height': {'nr_constraint': 2, 'creation_time': 3.370000922586769e-05}, 'bin_capacity': {'nr_constraint': 0, 'creation_time': 8.999923011288047e-07}, 'get_constraints': {'nr_constraint': 2093, 'creation_time': 0.41748040000675246}}\n",
      "STATS SingleBinStats(objective=492, nr_variables=1544, total_density=0.9508, constraints={'item_count': {'nr_constraint': 20, 'creation_time': 0.0020861999946646392}, 'item_selection': {'nr_constraint': 20, 'creation_time': 0.0003853999951388687}, 'no_overlap': {'nr_constraint': 1073, 'creation_time': 0.21640300001308788}, 'bin_height': {'nr_constraint': 2, 'creation_time': 3.370000922586769e-05}, 'bin_capacity': {'nr_constraint': 0, 'creation_time': 8.999923011288047e-07}, 'get_constraints': {'nr_constraint': 2093, 'creation_time': 0.41748040000675246}}, constraint_time=None, transfer_time=1.573758300000918, solve_time=0.512827800004743, total_time=2.604913999995915, bin_length=100, fulfilled=[0, 0, 0, 4, 0, 0, 0, 0, 2, 0], counts=[0, 0, 0, 4, 0, 0, 0, 0, 2, 0])\n"
     ]
    },
    {
     "data": {
      "image/png": "[encoded data removed]",
      "text/plain": [
       "<Figure size 720x720 with 1 Axes>"
      ]
     },
     "metadata": {
      "needs_background": "light"
     },
     "output_type": "display_data"
    },
    {
     "name": "stdout",
     "output_type": "stream",
     "text": [
      "PROBLEM 10_100_100_6 {'widths': [37, 45, 69, 47, 74, 39, 60, 97, 35, 47], 'heights': [85, 95, 37, 59, 47, 54, 39, 42, 59, 79], 'machine_config': {'width': 100, 'min_length': 100, 'max_length': 100}}\n",
      "Running model [<class 'src.models.single_bin.anchor.model.AnchorSBM'>]\n",
      "Collecting constraints ...\n",
      "Warning, timeout protection only supported on Linux!\n",
      "nr_no_overlap 780\n",
      "nr constraints: 822\n",
      "Transferring...\n",
      "Warning, timeout protection only supported on Linux!\n",
      "Solving...\n",
      "SAT True\n",
      "TIME 1.9851953999896068\n",
      "{'item_count': {'nr_constraint': 20, 'creation_time': 0.0018531999958213419}, 'item_selection': {'nr_constraint': 20, 'creation_time': 0.0005206000059843063}, 'no_overlap': {'nr_constraint': 780, 'creation_time': 0.19677700000465848}, 'bin_height': {'nr_constraint': 2, 'creation_time': 2.720000338740647e-05}, 'bin_capacity': {'nr_constraint': 0, 'creation_time': 6.999907782301307e-07}, 'get_constraints': {'nr_constraint': 2093, 'creation_time': 0.41748040000675246}}\n",
      "STATS stats(objective=6400198, nr_variables=161, total_density=0.936, constraints={'item_count': {'nr_constraint': 20, 'creation_time': 0.0018531999958213419}, 'item_selection': {'nr_constraint': 20, 'creation_time': 0.0005206000059843063}, 'no_overlap': {'nr_constraint': 780, 'creation_time': 0.19677700000465848}, 'bin_height': {'nr_constraint': 2, 'creation_time': 2.720000338740647e-05}, 'bin_capacity': {'nr_constraint': 0, 'creation_time': 6.999907782301307e-07}, 'get_constraints': {'nr_constraint': 2093, 'creation_time': 0.41748040000675246}}, constraint_time=0.19924170000012964, transfer_time=1.2958730999962427, solve_time=0.46332309998979326, total_time=1.9851953999896068, bin_length=100, fulfilled=[0, 0, 0, 0, 0, 0, 4, 0, 0, 0], counts=[0, 0, 0, 0, 0, 0, 4, 0, 0, 0], repeats_width=[2, 2, 1, 2, 1, 2, 1, 1, 2, 2, 1, 1, 2, 1, 2, 1, 2, 2, 1, 1], repeats_length=[1, 1, 2, 1, 2, 1, 2, 2, 1, 1, 2, 2, 1, 2, 1, 2, 1, 1, 2, 2])\n"
     ]
    },
    {
     "data": {
      "image/png": "[encoded data removed]",
      "text/plain": [
       "<Figure size 720x720 with 1 Axes>"
      ]
     },
     "metadata": {
      "needs_background": "light"
     },
     "output_type": "display_data"
    },
    {
     "name": "stdout",
     "output_type": "stream",
     "text": [
      "Running model [<class 'src.models.single_bin.guillotine.model.GuillotineSBM'>]\n",
      "Collecting constraints ...\n",
      "Warning, timeout protection only supported on Linux!\n",
      "nr constraints: 222\n",
      "Transferring...\n",
      "Warning, timeout protection only supported on Linux!\n",
      "Solving...\n",
      "SAT True\n",
      "TIME 0.7969306000013603\n",
      "{'item_count': {'nr_constraint': 20, 'creation_time': 0.0018531999958213419}, 'item_selection': {'nr_constraint': 20, 'creation_time': 0.0005206000059843063}, 'no_overlap': {'nr_constraint': 780, 'creation_time': 0.19677700000465848}, 'bin_height': {'nr_constraint': 2, 'creation_time': 2.720000338740647e-05}, 'bin_capacity': {'nr_constraint': 0, 'creation_time': 6.999907782301307e-07}, 'get_constraints': {'nr_constraint': 222, 'creation_time': 0.1252968999906443}}\n",
      "STATS SingleBinStats(objective=846, nr_variables=224, total_density=0.9154, constraints={'item_count': {'nr_constraint': 20, 'creation_time': 0.0018531999958213419}, 'item_selection': {'nr_constraint': 20, 'creation_time': 0.0005206000059843063}, 'no_overlap': {'nr_constraint': 780, 'creation_time': 0.19677700000465848}, 'bin_height': {'nr_constraint': 2, 'creation_time': 2.720000338740647e-05}, 'bin_capacity': {'nr_constraint': 0, 'creation_time': 6.999907782301307e-07}, 'get_constraints': {'nr_constraint': 222, 'creation_time': 0.1252968999906443}}, constraint_time=None, transfer_time=0.42392820000532083, solve_time=0.198541199992178, total_time=0.7969306000013603, bin_length=100, fulfilled=[0, 1, 0, 1, 0, 1, 0, 0, 0, 0], counts=[0, 1, 0, 1, 0, 1, 0, 0, 0, 0])\n"
     ]
    },
    {
     "data": {
      "image/png": "[encoded data removed]",
      "text/plain": [
       "<Figure size 720x720 with 1 Axes>"
      ]
     },
     "metadata": {
      "needs_background": "light"
     },
     "output_type": "display_data"
    },
    {
     "name": "stdout",
     "output_type": "stream",
     "text": [
      "PROBLEM 10_100_100_7 {'widths': [51, 67, 55, 37, 95, 57, 56, 36, 37, 58], 'heights': [91, 31, 77, 37, 52, 82, 45, 53, 56, 58], 'machine_config': {'width': 100, 'min_length': 100, 'max_length': 100}}\n",
      "Running model [<class 'src.models.single_bin.anchor.model.AnchorSBM'>]\n",
      "Collecting constraints ...\n",
      "Warning, timeout protection only supported on Linux!\n",
      "nr_no_overlap 628\n",
      "nr constraints: 670\n",
      "Transferring...\n",
      "Warning, timeout protection only supported on Linux!\n",
      "Solving...\n",
      "SAT True\n",
      "TIME 2.7470466000086162\n",
      "{'item_count': {'nr_constraint': 20, 'creation_time': 0.003684900002554059}, 'item_selection': {'nr_constraint': 20, 'creation_time': 0.00048779998905956745}, 'no_overlap': {'nr_constraint': 628, 'creation_time': 0.2287979999964591}, 'bin_height': {'nr_constraint': 2, 'creation_time': 4.05999890062958e-05}, 'bin_capacity': {'nr_constraint': 0, 'creation_time': 8.00006091594696e-07}, 'get_constraints': {'nr_constraint': 222, 'creation_time': 0.1252968999906443}}\n",
      "STATS stats(objective=3230260, nr_variables=149, total_density=0.9677, constraints={'item_count': {'nr_constraint': 20, 'creation_time': 0.003684900002554059}, 'item_selection': {'nr_constraint': 20, 'creation_time': 0.00048779998905956745}, 'no_overlap': {'nr_constraint': 628, 'creation_time': 0.2287979999964591}, 'bin_height': {'nr_constraint': 2, 'creation_time': 4.05999890062958e-05}, 'bin_capacity': {'nr_constraint': 0, 'creation_time': 8.00006091594696e-07}, 'get_constraints': {'nr_constraint': 222, 'creation_time': 0.1252968999906443}}, constraint_time=0.23308890000043903, transfer_time=1.9410484999971231, solve_time=0.5114794999972219, total_time=2.7470466000086162, bin_length=100, fulfilled=[0, 4, 0, 1, 0, 0, 0, 0, 0, 0], counts=[0, 4, 0, 1, 0, 0, 0, 0, 0, 0], repeats_width=[1, 1, 1, 2, 1, 1, 1, 2, 2, 1, 1, 3, 1, 2, 1, 1, 2, 1, 1, 1], repeats_length=[1, 3, 1, 2, 1, 1, 2, 1, 1, 1, 1, 1, 1, 2, 1, 1, 1, 2, 2, 1])\n"
     ]
    },
    {
     "data": {
      "image/png": "[encoded data removed]",
      "text/plain": [
       "<Figure size 720x720 with 1 Axes>"
      ]
     },
     "metadata": {
      "needs_background": "light"
     },
     "output_type": "display_data"
    },
    {
     "name": "stdout",
     "output_type": "stream",
     "text": [
      "Running model [<class 'src.models.single_bin.guillotine.model.GuillotineSBM'>]\n",
      "Collecting constraints ...\n",
      "Warning, timeout protection only supported on Linux!\n",
      "nr constraints: 841\n",
      "Transferring...\n",
      "Warning, timeout protection only supported on Linux!\n",
      "Solving...\n",
      "SAT True\n",
      "TIME 0.9479477999993833\n",
      "{'item_count': {'nr_constraint': 20, 'creation_time': 0.003684900002554059}, 'item_selection': {'nr_constraint': 20, 'creation_time': 0.00048779998905956745}, 'no_overlap': {'nr_constraint': 628, 'creation_time': 0.2287979999964591}, 'bin_height': {'nr_constraint': 2, 'creation_time': 4.05999890062958e-05}, 'bin_capacity': {'nr_constraint': 0, 'creation_time': 8.00006091594696e-07}, 'get_constraints': {'nr_constraint': 841, 'creation_time': 0.1650458000076469}}\n",
      "STATS SingleBinStats(objective=1123, nr_variables=690, total_density=0.8877, constraints={'item_count': {'nr_constraint': 20, 'creation_time': 0.003684900002554059}, 'item_selection': {'nr_constraint': 20, 'creation_time': 0.00048779998905956745}, 'no_overlap': {'nr_constraint': 628, 'creation_time': 0.2287979999964591}, 'bin_height': {'nr_constraint': 2, 'creation_time': 4.05999890062958e-05}, 'bin_capacity': {'nr_constraint': 0, 'creation_time': 8.00006091594696e-07}, 'get_constraints': {'nr_constraint': 841, 'creation_time': 0.1650458000076469}}, constraint_time=None, transfer_time=0.6123178999987431, solve_time=0.12612020000233315, total_time=0.9479477999993833, bin_length=100, fulfilled=[0, 0, 0, 1, 0, 0, 0, 0, 2, 1], counts=[0, 0, 0, 1, 0, 0, 0, 0, 2, 1])\n"
     ]
    },
    {
     "data": {
      "image/png": "[encoded data removed]",
      "text/plain": [
       "<Figure size 720x720 with 1 Axes>"
      ]
     },
     "metadata": {
      "needs_background": "light"
     },
     "output_type": "display_data"
    },
    {
     "name": "stdout",
     "output_type": "stream",
     "text": [
      "PROBLEM 10_100_100_8 {'widths': [84, 35, 86, 62, 54, 49, 35, 63, 46, 79], 'heights': [57, 73, 48, 32, 79, 82, 62, 62, 42, 59], 'machine_config': {'width': 100, 'min_length': 100, 'max_length': 100}}\n",
      "Running model [<class 'src.models.single_bin.anchor.model.AnchorSBM'>]\n",
      "Collecting constraints ...\n",
      "Warning, timeout protection only supported on Linux!\n",
      "nr_no_overlap 701\n",
      "nr constraints: 743\n",
      "Transferring...\n",
      "Warning, timeout protection only supported on Linux!\n",
      "Solving...\n",
      "SAT True\n",
      "TIME 1.6791287999949418\n",
      "{'item_count': {'nr_constraint': 20, 'creation_time': 0.001254899994819425}, 'item_selection': {'nr_constraint': 20, 'creation_time': 0.0003254999901400879}, 'no_overlap': {'nr_constraint': 701, 'creation_time': 0.14159600000130013}, 'bin_height': {'nr_constraint': 2, 'creation_time': 2.4900000425986946e-05}, 'bin_capacity': {'nr_constraint': 0, 'creation_time': 7.999915396794677e-07}, 'get_constraints': {'nr_constraint': 841, 'creation_time': 0.1650458000076469}}\n",
      "STATS stats(objective=13070158, nr_variables=155, total_density=0.8693, constraints={'item_count': {'nr_constraint': 20, 'creation_time': 0.001254899994819425}, 'item_selection': {'nr_constraint': 20, 'creation_time': 0.0003254999901400879}, 'no_overlap': {'nr_constraint': 701, 'creation_time': 0.14159600000130013}, 'bin_height': {'nr_constraint': 2, 'creation_time': 2.4900000425986946e-05}, 'bin_capacity': {'nr_constraint': 0, 'creation_time': 7.999915396794677e-07}, 'get_constraints': {'nr_constraint': 841, 'creation_time': 0.1650458000076469}}, constraint_time=0.14324589999159798, transfer_time=1.131520900002215, solve_time=0.3870987999980571, total_time=1.6791287999949418, bin_length=100, fulfilled=[0, 1, 0, 2, 0, 0, 1, 0, 0, 0], counts=[0, 1, 0, 2, 0, 0, 1, 0, 0, 0], repeats_width=[1, 2, 1, 1, 1, 2, 2, 1, 2, 1, 1, 1, 2, 3, 1, 1, 1, 1, 2, 1], repeats_length=[1, 1, 2, 3, 1, 1, 1, 1, 2, 1, 1, 2, 1, 1, 1, 2, 2, 1, 2, 1])\n"
     ]
    },
    {
     "data": {
      "image/png": "[encoded data removed]",
      "text/plain": [
       "<Figure size 720x720 with 1 Axes>"
      ]
     },
     "metadata": {
      "needs_background": "light"
     },
     "output_type": "display_data"
    },
    {
     "name": "stdout",
     "output_type": "stream",
     "text": [
      "Running model [<class 'src.models.single_bin.guillotine.model.GuillotineSBM'>]\n",
      "Collecting constraints ...\n",
      "Warning, timeout protection only supported on Linux!\n",
      "nr constraints: 841\n",
      "Transferring...\n",
      "Warning, timeout protection only supported on Linux!\n",
      "Solving...\n",
      "SAT True\n",
      "TIME 1.003204900000128\n",
      "{'item_count': {'nr_constraint': 20, 'creation_time': 0.001254899994819425}, 'item_selection': {'nr_constraint': 20, 'creation_time': 0.0003254999901400879}, 'no_overlap': {'nr_constraint': 701, 'creation_time': 0.14159600000130013}, 'bin_height': {'nr_constraint': 2, 'creation_time': 2.4900000425986946e-05}, 'bin_capacity': {'nr_constraint': 0, 'creation_time': 7.999915396794677e-07}, 'get_constraints': {'nr_constraint': 841, 'creation_time': 0.18086150000453927}}\n",
      "STATS SingleBinStats(objective=1307, nr_variables=690, total_density=0.8693, constraints={'item_count': {'nr_constraint': 20, 'creation_time': 0.001254899994819425}, 'item_selection': {'nr_constraint': 20, 'creation_time': 0.0003254999901400879}, 'no_overlap': {'nr_constraint': 701, 'creation_time': 0.14159600000130013}, 'bin_height': {'nr_constraint': 2, 'creation_time': 2.4900000425986946e-05}, 'bin_capacity': {'nr_constraint': 0, 'creation_time': 7.999915396794677e-07}, 'get_constraints': {'nr_constraint': 841, 'creation_time': 0.18086150000453927}}, constraint_time=None, transfer_time=0.6331957000074908, solve_time=0.14371039999241475, total_time=1.003204900000128, bin_length=100, fulfilled=[0, 1, 0, 2, 0, 0, 1, 0, 0, 0], counts=[0, 1, 0, 2, 0, 0, 1, 0, 0, 0])\n"
     ]
    },
    {
     "data": {
      "image/png": "[encoded data removed]",
      "text/plain": [
       "<Figure size 720x720 with 1 Axes>"
      ]
     },
     "metadata": {
      "needs_background": "light"
     },
     "output_type": "display_data"
    },
    {
     "name": "stdout",
     "output_type": "stream",
     "text": [
      "PROBLEM 10_100_100_9 {'widths': [74, 57, 46, 65, 90, 23, 59, 92, 60, 54], 'heights': [62, 78, 57, 65, 43, 37, 58, 51, 32, 66], 'machine_config': {'width': 100, 'min_length': 100, 'max_length': 100}}\n",
      "Running model [<class 'src.models.single_bin.anchor.model.AnchorSBM'>]\n",
      "Collecting constraints ...\n",
      "Warning, timeout protection only supported on Linux!\n",
      "nr_no_overlap 823\n",
      "nr constraints: 865\n",
      "Transferring...\n",
      "Warning, timeout protection only supported on Linux!\n",
      "Solving...\n",
      "SAT True\n",
      "TIME 2.6704174999904353\n",
      "{'item_count': {'nr_constraint': 20, 'creation_time': 0.0013794999977108091}, 'item_selection': {'nr_constraint': 20, 'creation_time': 0.0003997000021627173}, 'no_overlap': {'nr_constraint': 823, 'creation_time': 0.17952039999363478}, 'bin_height': {'nr_constraint': 2, 'creation_time': 2.3600005079060793e-05}, 'bin_capacity': {'nr_constraint': 0, 'creation_time': 7.00005330145359e-07}, 'get_constraints': {'nr_constraint': 841, 'creation_time': 0.18086150000453927}}\n",
      "STATS stats(objective=8360345, nr_variables=167, total_density=0.9164, constraints={'item_count': {'nr_constraint': 20, 'creation_time': 0.0013794999977108091}, 'item_selection': {'nr_constraint': 20, 'creation_time': 0.0003997000021627173}, 'no_overlap': {'nr_constraint': 823, 'creation_time': 0.17952039999363478}, 'bin_height': {'nr_constraint': 2, 'creation_time': 2.3600005079060793e-05}, 'bin_capacity': {'nr_constraint': 0, 'creation_time': 7.00005330145359e-07}, 'get_constraints': {'nr_constraint': 841, 'creation_time': 0.18086150000453927}}, constraint_time=0.18137839999690186, transfer_time=1.5743721000035293, solve_time=0.895843899997999, total_time=2.6704174999904353, bin_length=100, fulfilled=[0, 0, 0, 0, 0, 4, 0, 0, 3, 0], counts=[0, 0, 0, 0, 0, 4, 0, 0, 3, 0], repeats_width=[1, 1, 2, 1, 1, 4, 1, 1, 1, 1, 1, 1, 1, 1, 2, 2, 1, 1, 3, 1], repeats_length=[1, 1, 1, 1, 2, 2, 1, 1, 3, 1, 1, 1, 2, 1, 1, 4, 1, 1, 1, 1])\n"
     ]
    },
    {
     "data": {
      "image/png": "[encoded data removed]",
      "text/plain": [
       "<Figure size 720x720 with 1 Axes>"
      ]
     },
     "metadata": {
      "needs_background": "light"
     },
     "output_type": "display_data"
    },
    {
     "name": "stdout",
     "output_type": "stream",
     "text": [
      "Running model [<class 'src.models.single_bin.guillotine.model.GuillotineSBM'>]\n",
      "Collecting constraints ...\n",
      "Warning, timeout protection only supported on Linux!\n",
      "nr constraints: 2239\n",
      "Transferring...\n",
      "Warning, timeout protection only supported on Linux!\n",
      "Solving...\n",
      "SAT True\n",
      "TIME 2.5917333999968832\n",
      "{'item_count': {'nr_constraint': 20, 'creation_time': 0.0013794999977108091}, 'item_selection': {'nr_constraint': 20, 'creation_time': 0.0003997000021627173}, 'no_overlap': {'nr_constraint': 823, 'creation_time': 0.17952039999363478}, 'bin_height': {'nr_constraint': 2, 'creation_time': 2.3600005079060793e-05}, 'bin_capacity': {'nr_constraint': 0, 'creation_time': 7.00005330145359e-07}, 'get_constraints': {'nr_constraint': 2239, 'creation_time': 0.535416599988821}}\n",
      "STATS SingleBinStats(objective=836, nr_variables=1576, total_density=0.9164, constraints={'item_count': {'nr_constraint': 20, 'creation_time': 0.0013794999977108091}, 'item_selection': {'nr_constraint': 20, 'creation_time': 0.0003997000021627173}, 'no_overlap': {'nr_constraint': 823, 'creation_time': 0.17952039999363478}, 'bin_height': {'nr_constraint': 2, 'creation_time': 2.3600005079060793e-05}, 'bin_capacity': {'nr_constraint': 0, 'creation_time': 7.00005330145359e-07}, 'get_constraints': {'nr_constraint': 2239, 'creation_time': 0.535416599988821}}, constraint_time=None, transfer_time=1.6269204999989597, solve_time=0.31807530000514816, total_time=2.5917333999968832, bin_length=100, fulfilled=[0, 0, 0, 0, 0, 4, 0, 0, 3, 0], counts=[0, 0, 0, 0, 0, 4, 0, 0, 3, 0])\n"
     ]
    },
    {
     "data": {
      "image/png": "[encoded data removed]",
      "text/plain": [
       "<Figure size 720x720 with 1 Axes>"
      ]
     },
     "metadata": {
      "needs_background": "light"
     },
     "output_type": "display_data"
    }
   ],
   "source": [
    "nr_item_types = [10]\n",
    "\n",
    "for minutes in [1]:\n",
    "    for nr_item_type in nr_item_types:\n",
    "        for problem in problems:\n",
    "\n",
    "            x, y = problem\n",
    "\n",
    "            file_name = str(nr_item_type) + \"_\" + str(x) + \"_\" + str(y) \n",
    "\n",
    "            f = open(os.path.join(os.getcwd(), \"problems\", file_name + \".json\"))\n",
    "            data = json.load(f)\n",
    "\n",
    "            run_single_bin_benchmark_repeated([AnchorSBM, GuillotineSBM], (ProblemJsonS.init_from_file(data)), max_time_seconds=60*minutes, nr_repeats=1)"
   ]
  }
 ],
 "metadata": {
  "kernelspec": {
   "display_name": "CPMpy",
   "language": "python",
   "name": "python3"
  },
  "language_info": {
   "codemirror_mode": {
    "name": "ipython",
    "version": 3
   },
   "file_extension": ".py",
   "mimetype": "text/x-python",
   "name": "python",
   "nbconvert_exporter": "python",
   "pygments_lexer": "ipython3",
   "version": "3.10.8"
  }
 },
 "nbformat": 4,
 "nbformat_minor": 4
}
