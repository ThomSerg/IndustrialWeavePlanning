{
 "cells": [
  {
   "cell_type": "markdown",
   "metadata": {},
   "source": [
    "# SLOPP benchmark"
   ]
  },
  {
   "cell_type": "code",
   "execution_count": 1,
   "metadata": {},
   "outputs": [],
   "source": [
    "%load_ext autoreload\n",
    "%autoreload 2"
   ]
  },
  {
   "cell_type": "code",
   "execution_count": 2,
   "metadata": {},
   "outputs": [],
   "source": [
    "import sys,os\n",
    "sys.path.append(os.path.join(\"..\",\"..\"))"
   ]
  },
  {
   "cell_type": "code",
   "execution_count": 3,
   "metadata": {},
   "outputs": [],
   "source": [
    "from benchmarks.utils import *\n",
    "\n",
    "from src.models.single_bin.baseline.model import BaselineSBM\n",
    "from src.models.single_bin.anchor.model import AnchorSBM\n",
    "from src.models.single_bin.guillotine.model import GuillotineSBM\n",
    "\n",
    "from benchmarks.problem_json import ProblemJsonS"
   ]
  },
  {
   "cell_type": "code",
   "execution_count": 4,
   "metadata": {},
   "outputs": [],
   "source": [
    "problems = [\n",
    "    (100,100),\n",
    "    (200,200),\n",
    "    (300,300),\n",
    "    (100,400),\n",
    "    (200,450),\n",
    "    (100,900)\n",
    "]\n",
    "\n",
    "nr_item_types = [4,7,10]\n",
    "\n",
    "models = [\n",
    "    BaselineSBM,\n",
    "    AnchorSBM,\n",
    "    GuillotineSBM\n",
    "]\n",
    "\n",
    "minutes = 4"
   ]
  },
  {
   "cell_type": "code",
   "execution_count": 5,
   "metadata": {},
   "outputs": [
    {
     "name": "stdout",
     "output_type": "stream",
     "text": [
      "PROBLEM 10_100_100_0 {'widths': [44, 49, 37, 43, 82, 35, 24, 29, 37, 49], 'heights': [43, 95, 72, 54, 54, 27, 46, 37, 24, 28], 'machine_config': {'width': 100, 'min_length': 100, 'max_length': 100}}\n",
      "Running model [<class 'src.models.single_bin.anchor.model.AnchorSBM'>]\n",
      "Collecting constraints ...\n",
      "Warning, timeout protection only supported on Linux!\n",
      "nr_no_overlap 3709\n",
      "100\n",
      "100\n",
      "bin height [IV200 >= 100, IV200 <= 100]\n",
      "nr constraints: 3842\n",
      "Transferring...\n",
      "Warning, timeout protection only supported on Linux!\n",
      "Solving...\n"
     ]
    }
   ],
   "source": [
    "for nr_item_type in nr_item_types:\n",
    "    for problem in problems:\n",
    "\n",
    "        x, y = problem\n",
    "\n",
    "        file_name = str(nr_item_type) + \"_\" + str(x) + \"_\" + str(y) \n",
    "\n",
    "        f = open(os.path.join(os.getcwd(), \"problems\", file_name + \".json\"))\n",
    "        data = json.load(f)\n",
    "\n",
    "        run_single_bin_benchmark_repeated(models, (ProblemJsonS.init_from_file(data)), max_time_seconds=60*minutes, nr_repeats=1)"
   ]
  }
 ],
 "metadata": {
  "kernelspec": {
   "display_name": "CPMpy",
   "language": "python",
   "name": "python3"
  },
  "language_info": {
   "codemirror_mode": {
    "name": "ipython",
    "version": 3
   },
   "file_extension": ".py",
   "mimetype": "text/x-python",
   "name": "python",
   "nbconvert_exporter": "python",
   "pygments_lexer": "ipython3",
   "version": "3.10.8"
  }
 },
 "nbformat": 4,
 "nbformat_minor": 4
}
