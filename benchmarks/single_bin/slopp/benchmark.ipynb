{
 "cells": [
  {
   "cell_type": "code",
   "execution_count": 13,
   "metadata": {},
   "outputs": [
    {
     "name": "stdout",
     "output_type": "stream",
     "text": [
      "The autoreload extension is already loaded. To reload it, use:\n",
      "  %reload_ext autoreload\n"
     ]
    }
   ],
   "source": [
    "%load_ext autoreload\n",
    "%autoreload 2"
   ]
  },
  {
   "cell_type": "code",
   "execution_count": 14,
   "metadata": {},
   "outputs": [],
   "source": [
    "import sys,os,json\n",
    "sys.path.append(os.path.join(\"..\",\"..\",\"..\"))"
   ]
  },
  {
   "cell_type": "code",
   "execution_count": 15,
   "metadata": {},
   "outputs": [],
   "source": [
    "from benchmarks.utils import *\n",
    "\n",
    "from src.models.single_bin.baseline.model import BaselineSBM\n",
    "from src.models.single_bin.anchor.model import AnchorSBM\n",
    "from src.models.single_bin.guillotine.model import GuillotineSBM\n",
    "\n",
    "from benchmarks.problem_json import ProblemJsonS"
   ]
  },
  {
   "cell_type": "code",
   "execution_count": 16,
   "metadata": {},
   "outputs": [],
   "source": [
    "problems = [\n",
    "    (100,100),\n",
    "    #(200,200),\n",
    "    #(300,300),\n",
    "    #(100,400),\n",
    "    # (200,450),\n",
    "    #(100,900)\n",
    "]"
   ]
  },
  {
   "cell_type": "code",
   "execution_count": 19,
   "metadata": {},
   "outputs": [
    {
     "name": "stdout",
     "output_type": "stream",
     "text": [
      "PROBLEM 10_100_100_0\n",
      "{'widths': [44, 49, 37, 43, 82, 35, 24, 29, 37, 49], 'heights': [43, 95, 72, 54, 54, 27, 46, 37, 24, 28], 'machine_config': {'width': 100, 'min_length': 100, 'max_length': 100}}\n",
      "Transferring...\n",
      "Solving...\n",
      "SAT True\n",
      "TIME 6.873803999973461\n",
      "{'item_count': {'nr_constraint': 20, 'creation_time': 0.004231199971400201}, 'item_selection': {'nr_constraint': 20, 'creation_time': 0.001291500055231154}, 'no_overlap': {'nr_constraint': 823, 'creation_time': 0.5621859000530094}, 'bin_height': {'nr_constraint': 1, 'creation_time': 2.22999369725585e-05}, 'bin_capacity': {'nr_constraint': 1, 'creation_time': 0.009277999983169138}, 'get_constraints': {'nr_constraint': 1948, 'creation_time': 0.8749905000440776}}\n",
      "STATS {'nr_constraints': 1948, 'transfer_time': 2.4580770999891683, 'solve_time': 3.418668800033629, 'density': 0.9836, 'bin_length': 100, 'fulfilled': [0, 0, 0, 0, 0, 4, 3, 0, 0, 2], 'counts': [0, 0, 0, 0, 0, 4, 3, 0, 0, 2], 'objective': 164, 'nr_variables': 1512, 'ortools_objective': 164, 'total_time': 6.873803999973461}\n"
     ]
    },
    {
     "data": {
      "image/png": "[encoded data removed]",
      "text/plain": [
       "<Figure size 720x720 with 1 Axes>"
      ]
     },
     "metadata": {
      "needs_background": "light"
     },
     "output_type": "display_data"
    },
    {
     "name": "stdout",
     "output_type": "stream",
     "text": [
      "PROBLEM 10_100_100_1\n",
      "{'widths': [37, 77, 25, 60, 65, 56, 34, 49, 82, 62], 'heights': [63, 57, 41, 35, 38, 54, 35, 72, 36, 62], 'machine_config': {'width': 100, 'min_length': 100, 'max_length': 100}}\n",
      "Transferring...\n",
      "Solving...\n",
      "SAT True\n",
      "TIME 3.7876523999730125\n",
      "{'item_count': {'nr_constraint': 20, 'creation_time': 0.004231199971400201}, 'item_selection': {'nr_constraint': 20, 'creation_time': 0.001291500055231154}, 'no_overlap': {'nr_constraint': 823, 'creation_time': 0.5621859000530094}, 'bin_height': {'nr_constraint': 1, 'creation_time': 2.22999369725585e-05}, 'bin_capacity': {'nr_constraint': 1, 'creation_time': 0.009277999983169138}, 'get_constraints': {'nr_constraint': 2240, 'creation_time': 0.723450499936007}}\n",
      "STATS {'nr_constraints': 2240, 'transfer_time': 2.3055086999665946, 'solve_time': 0.633444199920632, 'density': 0.9696, 'bin_length': 100, 'fulfilled': [2, 0, 0, 0, 0, 0, 1, 0, 0, 1], 'counts': [2, 0, 0, 0, 0, 0, 1, 0, 0, 1], 'objective': 304, 'nr_variables': 1576, 'ortools_objective': 304, 'total_time': 3.7876523999730125}\n"
     ]
    },
    {
     "data": {
      "image/png": "[encoded data removed]",
      "text/plain": [
       "<Figure size 720x720 with 1 Axes>"
      ]
     },
     "metadata": {
      "needs_background": "light"
     },
     "output_type": "display_data"
    },
    {
     "name": "stdout",
     "output_type": "stream",
     "text": [
      "PROBLEM 10_100_100_2\n",
      "{'widths': [67, 46, 31, 66, 69, 68, 67, 70, 83, 47], 'heights': [72, 63, 45, 61, 65, 71, 47, 31, 50, 28], 'machine_config': {'width': 100, 'min_length': 100, 'max_length': 100}}\n",
      "Transferring...\n",
      "Solving...\n",
      "SAT True\n",
      "TIME 1.3938516000052914\n",
      "{'item_count': {'nr_constraint': 20, 'creation_time': 0.004231199971400201}, 'item_selection': {'nr_constraint': 20, 'creation_time': 0.001291500055231154}, 'no_overlap': {'nr_constraint': 823, 'creation_time': 0.5621859000530094}, 'bin_height': {'nr_constraint': 1, 'creation_time': 2.22999369725585e-05}, 'bin_capacity': {'nr_constraint': 1, 'creation_time': 0.009277999983169138}, 'get_constraints': {'nr_constraint': 873, 'creation_time': 0.2600075000664219}}\n",
      "STATS {'nr_constraints': 873, 'transfer_time': 0.8625201999675483, 'solve_time': 0.21128819999285042, 'density': 0.963, 'bin_length': 100, 'fulfilled': [0, 0, 0, 0, 0, 1, 0, 1, 0, 2], 'counts': [0, 0, 0, 0, 0, 1, 0, 1, 0, 2], 'objective': 370, 'nr_variables': 699, 'ortools_objective': 370, 'total_time': 1.3938516000052914}\n"
     ]
    },
    {
     "data": {
      "image/png": "[encoded data removed]",
      "text/plain": [
       "<Figure size 720x720 with 1 Axes>"
      ]
     },
     "metadata": {
      "needs_background": "light"
     },
     "output_type": "display_data"
    },
    {
     "name": "stdout",
     "output_type": "stream",
     "text": [
      "PROBLEM 10_100_100_3\n",
      "{'widths': [20, 88, 72, 55, 25, 66, 45, 91, 36, 63], 'heights': [43, 40, 69, 28, 57, 61, 94, 52, 34, 49], 'machine_config': {'width': 100, 'min_length': 100, 'max_length': 100}}\n",
      "Transferring...\n",
      "Solving...\n",
      "SAT True\n",
      "TIME 5.289435500046238\n",
      "{'item_count': {'nr_constraint': 20, 'creation_time': 0.004231199971400201}, 'item_selection': {'nr_constraint': 20, 'creation_time': 0.001291500055231154}, 'no_overlap': {'nr_constraint': 823, 'creation_time': 0.5621859000530094}, 'bin_height': {'nr_constraint': 1, 'creation_time': 2.22999369725585e-05}, 'bin_capacity': {'nr_constraint': 1, 'creation_time': 0.009277999983169138}, 'get_constraints': {'nr_constraint': 4780, 'creation_time': 1.0957739000441507}}\n",
      "STATS {'nr_constraints': 4780, 'transfer_time': 3.2748270999873057, 'solve_time': 0.7488911999389529, 'density': 1.0, 'bin_length': 100, 'fulfilled': [5, 0, 0, 0, 4, 0, 0, 0, 0, 0], 'counts': [5, 0, 0, 0, 4, 0, 0, 0, 0, 0], 'objective': 0, 'nr_variables': 3010, 'ortools_objective': 0, 'total_time': 5.289435500046238}\n"
     ]
    },
    {
     "ename": "KeyboardInterrupt",
     "evalue": "",
     "output_type": "error",
     "traceback": [
      "\u001b[1;31m---------------------------------------------------------------------------\u001b[0m",
      "\u001b[1;31mKeyboardInterrupt\u001b[0m                         Traceback (most recent call last)",
      "\u001b[1;32me:\\Programming\\Burgi\\IndustrialWeavePlanning\\benchmarks\\single_bin\\slopp\\benchmark.ipynb Cell 5\u001b[0m in \u001b[0;36m<cell line: 3>\u001b[1;34m()\u001b[0m\n\u001b[0;32m     <a href='vscode-notebook-cell:/e%3A/Programming/Burgi/IndustrialWeavePlanning/benchmarks/single_bin/slopp/benchmark.ipynb#W4sZmlsZQ%3D%3D?line=10'>11</a>\u001b[0m f \u001b[39m=\u001b[39m \u001b[39mopen\u001b[39m(os\u001b[39m.\u001b[39mpath\u001b[39m.\u001b[39mjoin(os\u001b[39m.\u001b[39mgetcwd(), \u001b[39m\"\u001b[39m\u001b[39mproblems\u001b[39m\u001b[39m\"\u001b[39m, file_name \u001b[39m+\u001b[39m \u001b[39m\"\u001b[39m\u001b[39m.json\u001b[39m\u001b[39m\"\u001b[39m))\n\u001b[0;32m     <a href='vscode-notebook-cell:/e%3A/Programming/Burgi/IndustrialWeavePlanning/benchmarks/single_bin/slopp/benchmark.ipynb#W4sZmlsZQ%3D%3D?line=11'>12</a>\u001b[0m data \u001b[39m=\u001b[39m json\u001b[39m.\u001b[39mload(f)\n\u001b[1;32m---> <a href='vscode-notebook-cell:/e%3A/Programming/Burgi/IndustrialWeavePlanning/benchmarks/single_bin/slopp/benchmark.ipynb#W4sZmlsZQ%3D%3D?line=13'>14</a>\u001b[0m run_single_bin_benchmark_repeated([GuillotineSBM], (ProblemJsonS\u001b[39m.\u001b[39;49minit_from_file(data)), max_time_seconds\u001b[39m=\u001b[39;49m\u001b[39m60\u001b[39;49m\u001b[39m*\u001b[39;49mminutes, nr_repeats\u001b[39m=\u001b[39;49m\u001b[39m1\u001b[39;49m)\n",
      "File \u001b[1;32me:\\Programming\\Burgi\\IndustrialWeavePlanning\\benchmarks\\single_bin\\slopp\\..\\..\\..\\benchmarks\\utils.py:118\u001b[0m, in \u001b[0;36mrun_single_bin_benchmark_repeated\u001b[1;34m(models, problems, start_index, max_time_seconds, nr_repeats)\u001b[0m\n\u001b[0;32m    115\u001b[0m     handle\u001b[39m.\u001b[39mwrite(json\u001b[39m.\u001b[39mdumps(stats, indent\u001b[39m=\u001b[39m\u001b[39m4\u001b[39m))\n\u001b[0;32m    117\u001b[0m \u001b[39m#show_bin_packing(initialised_model.single_bin_packing)\u001b[39;00m\n\u001b[1;32m--> 118\u001b[0m initialised_model\u001b[39m.\u001b[39;49mvisualise()\n\u001b[0;32m    119\u001b[0m plt\u001b[39m.\u001b[39msavefig(os\u001b[39m.\u001b[39mpath\u001b[39m.\u001b[39mjoin(file_directory, problem\u001b[39m.\u001b[39mname \u001b[39m+\u001b[39m \u001b[39m\"\u001b[39m\u001b[39m_\u001b[39m\u001b[39m\"\u001b[39m \u001b[39m+\u001b[39m \u001b[39mstr\u001b[39m(i_repeat) \u001b[39m+\u001b[39m \u001b[39m'\u001b[39m\u001b[39m.png\u001b[39m\u001b[39m'\u001b[39m))\n\u001b[0;32m    121\u001b[0m plt\u001b[39m.\u001b[39mshow()\n",
      "File \u001b[1;32me:\\Programming\\Burgi\\IndustrialWeavePlanning\\benchmarks\\single_bin\\slopp\\..\\..\\..\\src\\models\\single_bin\\guillotine\\model.py:276\u001b[0m, in \u001b[0;36mGuillotineSBM.visualise\u001b[1;34m(self)\u001b[0m\n\u001b[0;32m    273\u001b[0m \u001b[39m#bin_height /= bin_width\u001b[39;00m\n\u001b[0;32m    275\u001b[0m fig_size \u001b[39m=\u001b[39m (\u001b[39m10\u001b[39m\u001b[39m*\u001b[39mbin_height\u001b[39m/\u001b[39mbin_width,\u001b[39m10\u001b[39m)\n\u001b[1;32m--> 276\u001b[0m (fig, ax) \u001b[39m=\u001b[39m plt\u001b[39m.\u001b[39;49msubplots(figsize\u001b[39m=\u001b[39;49mfig_size)\n\u001b[0;32m    278\u001b[0m ax\u001b[39m.\u001b[39mget_yaxis()\u001b[39m.\u001b[39mset_visible(\u001b[39mFalse\u001b[39;00m)\n\u001b[0;32m    279\u001b[0m ax\u001b[39m.\u001b[39mget_xaxis()\u001b[39m.\u001b[39mset_visible(\u001b[39mFalse\u001b[39;00m)\n",
      "File \u001b[1;32me:\\Programming\\Miniconda3\\envs\\CPMpy\\lib\\site-packages\\matplotlib\\pyplot.py:1443\u001b[0m, in \u001b[0;36msubplots\u001b[1;34m(nrows, ncols, sharex, sharey, squeeze, width_ratios, height_ratios, subplot_kw, gridspec_kw, **fig_kw)\u001b[0m\n\u001b[0;32m   1299\u001b[0m \u001b[39m\u001b[39m\u001b[39m\"\"\"\u001b[39;00m\n\u001b[0;32m   1300\u001b[0m \u001b[39mCreate a figure and a set of subplots.\u001b[39;00m\n\u001b[0;32m   1301\u001b[0m \n\u001b[1;32m   (...)\u001b[0m\n\u001b[0;32m   1440\u001b[0m \n\u001b[0;32m   1441\u001b[0m \u001b[39m\"\"\"\u001b[39;00m\n\u001b[0;32m   1442\u001b[0m fig \u001b[39m=\u001b[39m figure(\u001b[39m*\u001b[39m\u001b[39m*\u001b[39mfig_kw)\n\u001b[1;32m-> 1443\u001b[0m axs \u001b[39m=\u001b[39m fig\u001b[39m.\u001b[39;49msubplots(nrows\u001b[39m=\u001b[39;49mnrows, ncols\u001b[39m=\u001b[39;49mncols, sharex\u001b[39m=\u001b[39;49msharex, sharey\u001b[39m=\u001b[39;49msharey,\n\u001b[0;32m   1444\u001b[0m                    squeeze\u001b[39m=\u001b[39;49msqueeze, subplot_kw\u001b[39m=\u001b[39;49msubplot_kw,\n\u001b[0;32m   1445\u001b[0m                    gridspec_kw\u001b[39m=\u001b[39;49mgridspec_kw, height_ratios\u001b[39m=\u001b[39;49mheight_ratios,\n\u001b[0;32m   1446\u001b[0m                    width_ratios\u001b[39m=\u001b[39;49mwidth_ratios)\n\u001b[0;32m   1447\u001b[0m \u001b[39mreturn\u001b[39;00m fig, axs\n",
      "File \u001b[1;32me:\\Programming\\Miniconda3\\envs\\CPMpy\\lib\\site-packages\\matplotlib\\figure.py:894\u001b[0m, in \u001b[0;36mFigureBase.subplots\u001b[1;34m(self, nrows, ncols, sharex, sharey, squeeze, width_ratios, height_ratios, subplot_kw, gridspec_kw)\u001b[0m\n\u001b[0;32m    891\u001b[0m     gridspec_kw[\u001b[39m'\u001b[39m\u001b[39mwidth_ratios\u001b[39m\u001b[39m'\u001b[39m] \u001b[39m=\u001b[39m width_ratios\n\u001b[0;32m    893\u001b[0m gs \u001b[39m=\u001b[39m \u001b[39mself\u001b[39m\u001b[39m.\u001b[39madd_gridspec(nrows, ncols, figure\u001b[39m=\u001b[39m\u001b[39mself\u001b[39m, \u001b[39m*\u001b[39m\u001b[39m*\u001b[39mgridspec_kw)\n\u001b[1;32m--> 894\u001b[0m axs \u001b[39m=\u001b[39m gs\u001b[39m.\u001b[39;49msubplots(sharex\u001b[39m=\u001b[39;49msharex, sharey\u001b[39m=\u001b[39;49msharey, squeeze\u001b[39m=\u001b[39;49msqueeze,\n\u001b[0;32m    895\u001b[0m                   subplot_kw\u001b[39m=\u001b[39;49msubplot_kw)\n\u001b[0;32m    896\u001b[0m \u001b[39mreturn\u001b[39;00m axs\n",
      "File \u001b[1;32me:\\Programming\\Miniconda3\\envs\\CPMpy\\lib\\site-packages\\matplotlib\\gridspec.py:308\u001b[0m, in \u001b[0;36mGridSpecBase.subplots\u001b[1;34m(self, sharex, sharey, squeeze, subplot_kw)\u001b[0m\n\u001b[0;32m    306\u001b[0m         subplot_kw[\u001b[39m\"\u001b[39m\u001b[39msharex\u001b[39m\u001b[39m\"\u001b[39m] \u001b[39m=\u001b[39m shared_with[sharex]\n\u001b[0;32m    307\u001b[0m         subplot_kw[\u001b[39m\"\u001b[39m\u001b[39msharey\u001b[39m\u001b[39m\"\u001b[39m] \u001b[39m=\u001b[39m shared_with[sharey]\n\u001b[1;32m--> 308\u001b[0m         axarr[row, col] \u001b[39m=\u001b[39m figure\u001b[39m.\u001b[39madd_subplot(\n\u001b[0;32m    309\u001b[0m             \u001b[39mself\u001b[39m[row, col], \u001b[39m*\u001b[39m\u001b[39m*\u001b[39msubplot_kw)\n\u001b[0;32m    311\u001b[0m \u001b[39m# turn off redundant tick labeling\u001b[39;00m\n\u001b[0;32m    312\u001b[0m \u001b[39mif\u001b[39;00m sharex \u001b[39min\u001b[39;00m [\u001b[39m\"\u001b[39m\u001b[39mcol\u001b[39m\u001b[39m\"\u001b[39m, \u001b[39m\"\u001b[39m\u001b[39mall\u001b[39m\u001b[39m\"\u001b[39m]:\n",
      "File \u001b[1;32me:\\Programming\\Miniconda3\\envs\\CPMpy\\lib\\site-packages\\matplotlib\\figure.py:745\u001b[0m, in \u001b[0;36mFigureBase.add_subplot\u001b[1;34m(self, *args, **kwargs)\u001b[0m\n\u001b[0;32m    742\u001b[0m         args \u001b[39m=\u001b[39m \u001b[39mtuple\u001b[39m(\u001b[39mmap\u001b[39m(\u001b[39mint\u001b[39m, \u001b[39mstr\u001b[39m(args[\u001b[39m0\u001b[39m])))\n\u001b[0;32m    743\u001b[0m     projection_class, pkw \u001b[39m=\u001b[39m \u001b[39mself\u001b[39m\u001b[39m.\u001b[39m_process_projection_requirements(\n\u001b[0;32m    744\u001b[0m         \u001b[39m*\u001b[39margs, \u001b[39m*\u001b[39m\u001b[39m*\u001b[39mkwargs)\n\u001b[1;32m--> 745\u001b[0m     ax \u001b[39m=\u001b[39m subplot_class_factory(projection_class)(\u001b[39mself\u001b[39m, \u001b[39m*\u001b[39margs, \u001b[39m*\u001b[39m\u001b[39m*\u001b[39mpkw)\n\u001b[0;32m    746\u001b[0m     key \u001b[39m=\u001b[39m (projection_class, pkw)\n\u001b[0;32m    747\u001b[0m \u001b[39mreturn\u001b[39;00m \u001b[39mself\u001b[39m\u001b[39m.\u001b[39m_add_axes_internal(ax, key)\n",
      "File \u001b[1;32me:\\Programming\\Miniconda3\\envs\\CPMpy\\lib\\site-packages\\matplotlib\\axes\\_subplots.py:34\u001b[0m, in \u001b[0;36mSubplotBase.__init__\u001b[1;34m(self, fig, *args, **kwargs)\u001b[0m\n\u001b[0;32m     15\u001b[0m \u001b[39m\u001b[39m\u001b[39m\"\"\"\u001b[39;00m\n\u001b[0;32m     16\u001b[0m \u001b[39mParameters\u001b[39;00m\n\u001b[0;32m     17\u001b[0m \u001b[39m----------\u001b[39;00m\n\u001b[1;32m   (...)\u001b[0m\n\u001b[0;32m     31\u001b[0m \u001b[39m    Keyword arguments are passed to the Axes (sub)class constructor.\u001b[39;00m\n\u001b[0;32m     32\u001b[0m \u001b[39m\"\"\"\u001b[39;00m\n\u001b[0;32m     33\u001b[0m \u001b[39m# _axes_class is set in the subplot_class_factory\u001b[39;00m\n\u001b[1;32m---> 34\u001b[0m \u001b[39mself\u001b[39m\u001b[39m.\u001b[39m_axes_class\u001b[39m.\u001b[39m\u001b[39m__init__\u001b[39m(\u001b[39mself\u001b[39m, fig, [\u001b[39m0\u001b[39m, \u001b[39m0\u001b[39m, \u001b[39m1\u001b[39m, \u001b[39m1\u001b[39m], \u001b[39m*\u001b[39m\u001b[39m*\u001b[39mkwargs)\n\u001b[0;32m     35\u001b[0m \u001b[39m# This will also update the axes position.\u001b[39;00m\n\u001b[0;32m     36\u001b[0m \u001b[39mself\u001b[39m\u001b[39m.\u001b[39mset_subplotspec(SubplotSpec\u001b[39m.\u001b[39m_from_subplot_args(fig, args))\n",
      "File \u001b[1;32me:\\Programming\\Miniconda3\\envs\\CPMpy\\lib\\site-packages\\matplotlib\\axes\\_base.py:653\u001b[0m, in \u001b[0;36m_AxesBase.__init__\u001b[1;34m(self, fig, rect, facecolor, frameon, sharex, sharey, label, xscale, yscale, box_aspect, **kwargs)\u001b[0m\n\u001b[0;32m    650\u001b[0m \u001b[39mself\u001b[39m\u001b[39m.\u001b[39mset_axisbelow(mpl\u001b[39m.\u001b[39mrcParams[\u001b[39m'\u001b[39m\u001b[39maxes.axisbelow\u001b[39m\u001b[39m'\u001b[39m])\n\u001b[0;32m    652\u001b[0m \u001b[39mself\u001b[39m\u001b[39m.\u001b[39m_rasterization_zorder \u001b[39m=\u001b[39m \u001b[39mNone\u001b[39;00m\n\u001b[1;32m--> 653\u001b[0m \u001b[39mself\u001b[39;49m\u001b[39m.\u001b[39;49mclear()\n\u001b[0;32m    655\u001b[0m \u001b[39m# funcs used to format x and y - fall back on major formatters\u001b[39;00m\n\u001b[0;32m    656\u001b[0m \u001b[39mself\u001b[39m\u001b[39m.\u001b[39mfmt_xdata \u001b[39m=\u001b[39m \u001b[39mNone\u001b[39;00m\n",
      "File \u001b[1;32me:\\Programming\\Miniconda3\\envs\\CPMpy\\lib\\site-packages\\matplotlib\\axes\\_base.py:1348\u001b[0m, in \u001b[0;36m_AxesBase.clear\u001b[1;34m(self)\u001b[0m\n\u001b[0;32m   1346\u001b[0m     \u001b[39mself\u001b[39m\u001b[39m.\u001b[39mcla()\n\u001b[0;32m   1347\u001b[0m \u001b[39melse\u001b[39;00m:\n\u001b[1;32m-> 1348\u001b[0m     \u001b[39mself\u001b[39;49m\u001b[39m.\u001b[39;49m__clear()\n",
      "File \u001b[1;32me:\\Programming\\Miniconda3\\envs\\CPMpy\\lib\\site-packages\\matplotlib\\axes\\_base.py:1328\u001b[0m, in \u001b[0;36m_AxesBase.__clear\u001b[1;34m(self)\u001b[0m\n\u001b[0;32m   1325\u001b[0m \u001b[39mself\u001b[39m\u001b[39m.\u001b[39mset_axis_on()\n\u001b[0;32m   1327\u001b[0m \u001b[39mself\u001b[39m\u001b[39m.\u001b[39mxaxis\u001b[39m.\u001b[39mset_clip_path(\u001b[39mself\u001b[39m\u001b[39m.\u001b[39mpatch)\n\u001b[1;32m-> 1328\u001b[0m \u001b[39mself\u001b[39;49m\u001b[39m.\u001b[39;49myaxis\u001b[39m.\u001b[39;49mset_clip_path(\u001b[39mself\u001b[39;49m\u001b[39m.\u001b[39;49mpatch)\n\u001b[0;32m   1330\u001b[0m \u001b[39mself\u001b[39m\u001b[39m.\u001b[39m_shared_axes[\u001b[39m\"\u001b[39m\u001b[39mx\u001b[39m\u001b[39m\"\u001b[39m]\u001b[39m.\u001b[39mclean()\n\u001b[0;32m   1331\u001b[0m \u001b[39mself\u001b[39m\u001b[39m.\u001b[39m_shared_axes[\u001b[39m\"\u001b[39m\u001b[39my\u001b[39m\u001b[39m\"\u001b[39m]\u001b[39m.\u001b[39mclean()\n",
      "File \u001b[1;32me:\\Programming\\Miniconda3\\envs\\CPMpy\\lib\\site-packages\\matplotlib\\axis.py:1013\u001b[0m, in \u001b[0;36mAxis.set_clip_path\u001b[1;34m(self, clippath, transform)\u001b[0m\n\u001b[0;32m   1011\u001b[0m \u001b[39msuper\u001b[39m()\u001b[39m.\u001b[39mset_clip_path(clippath, transform)\n\u001b[0;32m   1012\u001b[0m \u001b[39mfor\u001b[39;00m child \u001b[39min\u001b[39;00m \u001b[39mself\u001b[39m\u001b[39m.\u001b[39mmajorTicks \u001b[39m+\u001b[39m \u001b[39mself\u001b[39m\u001b[39m.\u001b[39mminorTicks:\n\u001b[1;32m-> 1013\u001b[0m     child\u001b[39m.\u001b[39;49mset_clip_path(clippath, transform)\n\u001b[0;32m   1014\u001b[0m \u001b[39mself\u001b[39m\u001b[39m.\u001b[39mstale \u001b[39m=\u001b[39m \u001b[39mTrue\u001b[39;00m\n",
      "File \u001b[1;32me:\\Programming\\Miniconda3\\envs\\CPMpy\\lib\\site-packages\\matplotlib\\axis.py:244\u001b[0m, in \u001b[0;36mTick.set_clip_path\u001b[1;34m(self, clippath, transform)\u001b[0m\n\u001b[0;32m    242\u001b[0m \u001b[39mdef\u001b[39;00m \u001b[39mset_clip_path\u001b[39m(\u001b[39mself\u001b[39m, clippath, transform\u001b[39m=\u001b[39m\u001b[39mNone\u001b[39;00m):\n\u001b[0;32m    243\u001b[0m     \u001b[39m# docstring inherited\u001b[39;00m\n\u001b[1;32m--> 244\u001b[0m     \u001b[39msuper\u001b[39;49m()\u001b[39m.\u001b[39;49mset_clip_path(clippath, transform)\n\u001b[0;32m    245\u001b[0m     \u001b[39mself\u001b[39m\u001b[39m.\u001b[39mgridline\u001b[39m.\u001b[39mset_clip_path(clippath, transform)\n\u001b[0;32m    246\u001b[0m     \u001b[39mself\u001b[39m\u001b[39m.\u001b[39mstale \u001b[39m=\u001b[39m \u001b[39mTrue\u001b[39;00m\n",
      "File \u001b[1;32me:\\Programming\\Miniconda3\\envs\\CPMpy\\lib\\site-packages\\matplotlib\\artist.py:774\u001b[0m, in \u001b[0;36mArtist.set_clip_path\u001b[1;34m(self, path, transform)\u001b[0m\n\u001b[0;32m    771\u001b[0m \u001b[39mif\u001b[39;00m transform \u001b[39mis\u001b[39;00m \u001b[39mNone\u001b[39;00m:\n\u001b[0;32m    772\u001b[0m     \u001b[39mif\u001b[39;00m \u001b[39misinstance\u001b[39m(path, Rectangle):\n\u001b[0;32m    773\u001b[0m         \u001b[39mself\u001b[39m\u001b[39m.\u001b[39mclipbox \u001b[39m=\u001b[39m TransformedBbox(Bbox\u001b[39m.\u001b[39munit(),\n\u001b[1;32m--> 774\u001b[0m                                        path\u001b[39m.\u001b[39;49mget_transform())\n\u001b[0;32m    775\u001b[0m         \u001b[39mself\u001b[39m\u001b[39m.\u001b[39m_clippath \u001b[39m=\u001b[39m \u001b[39mNone\u001b[39;00m\n\u001b[0;32m    776\u001b[0m         success \u001b[39m=\u001b[39m \u001b[39mTrue\u001b[39;00m\n",
      "File \u001b[1;32me:\\Programming\\Miniconda3\\envs\\CPMpy\\lib\\site-packages\\matplotlib\\patches.py:262\u001b[0m, in \u001b[0;36mPatch.get_transform\u001b[1;34m(self)\u001b[0m\n\u001b[0;32m    260\u001b[0m \u001b[39mdef\u001b[39;00m \u001b[39mget_transform\u001b[39m(\u001b[39mself\u001b[39m):\n\u001b[0;32m    261\u001b[0m \u001b[39m    \u001b[39m\u001b[39m\"\"\"Return the `~.transforms.Transform` applied to the `Patch`.\"\"\"\u001b[39;00m\n\u001b[1;32m--> 262\u001b[0m     \u001b[39mreturn\u001b[39;00m \u001b[39mself\u001b[39;49m\u001b[39m.\u001b[39;49mget_patch_transform() \u001b[39m+\u001b[39m artist\u001b[39m.\u001b[39mArtist\u001b[39m.\u001b[39mget_transform(\u001b[39mself\u001b[39m)\n",
      "File \u001b[1;32me:\\Programming\\Miniconda3\\envs\\CPMpy\\lib\\site-packages\\matplotlib\\patches.py:754\u001b[0m, in \u001b[0;36mRectangle.get_patch_transform\u001b[1;34m(self)\u001b[0m\n\u001b[0;32m    751\u001b[0m \u001b[39melse\u001b[39;00m:\n\u001b[0;32m    752\u001b[0m     rotation_point \u001b[39m=\u001b[39m \u001b[39mself\u001b[39m\u001b[39m.\u001b[39mrotation_point\n\u001b[0;32m    753\u001b[0m \u001b[39mreturn\u001b[39;00m transforms\u001b[39m.\u001b[39mBboxTransformTo(bbox) \\\n\u001b[1;32m--> 754\u001b[0m         \u001b[39m+\u001b[39m transforms\u001b[39m.\u001b[39;49mAffine2D() \\\n\u001b[0;32m    755\u001b[0m         \u001b[39m.\u001b[39mtranslate(\u001b[39m-\u001b[39mrotation_point[\u001b[39m0\u001b[39m], \u001b[39m-\u001b[39mrotation_point[\u001b[39m1\u001b[39m]) \\\n\u001b[0;32m    756\u001b[0m         \u001b[39m.\u001b[39mscale(\u001b[39m1\u001b[39m, \u001b[39mself\u001b[39m\u001b[39m.\u001b[39m_aspect_ratio_correction) \\\n\u001b[0;32m    757\u001b[0m         \u001b[39m.\u001b[39mrotate_deg(\u001b[39mself\u001b[39m\u001b[39m.\u001b[39mangle) \\\n\u001b[0;32m    758\u001b[0m         \u001b[39m.\u001b[39mscale(\u001b[39m1\u001b[39m, \u001b[39m1\u001b[39m \u001b[39m/\u001b[39m \u001b[39mself\u001b[39m\u001b[39m.\u001b[39m_aspect_ratio_correction) \\\n\u001b[0;32m    759\u001b[0m         \u001b[39m.\u001b[39mtranslate(\u001b[39m*\u001b[39mrotation_point)\n",
      "File \u001b[1;32me:\\Programming\\Miniconda3\\envs\\CPMpy\\lib\\site-packages\\matplotlib\\transforms.py:1899\u001b[0m, in \u001b[0;36mAffine2D.__init__\u001b[1;34m(self, matrix, **kwargs)\u001b[0m\n\u001b[0;32m   1896\u001b[0m \u001b[39msuper\u001b[39m()\u001b[39m.\u001b[39m\u001b[39m__init__\u001b[39m(\u001b[39m*\u001b[39m\u001b[39m*\u001b[39mkwargs)\n\u001b[0;32m   1897\u001b[0m \u001b[39mif\u001b[39;00m matrix \u001b[39mis\u001b[39;00m \u001b[39mNone\u001b[39;00m:\n\u001b[0;32m   1898\u001b[0m     \u001b[39m# A bit faster than np.identity(3).\u001b[39;00m\n\u001b[1;32m-> 1899\u001b[0m     matrix \u001b[39m=\u001b[39m IdentityTransform\u001b[39m.\u001b[39;49m_mtx\u001b[39m.\u001b[39;49mcopy()\n\u001b[0;32m   1900\u001b[0m \u001b[39mself\u001b[39m\u001b[39m.\u001b[39m_mtx \u001b[39m=\u001b[39m matrix\u001b[39m.\u001b[39mcopy()\n\u001b[0;32m   1901\u001b[0m \u001b[39mself\u001b[39m\u001b[39m.\u001b[39m_invalid \u001b[39m=\u001b[39m \u001b[39m0\u001b[39m\n",
      "\u001b[1;31mKeyboardInterrupt\u001b[0m: "
     ]
    },
    {
     "data": {
      "text/plain": [
       "<Figure size 720x720 with 0 Axes>"
      ]
     },
     "metadata": {},
     "output_type": "display_data"
    }
   ],
   "source": [
    "nr_item_types = [10]\n",
    "\n",
    "for minutes in [1]:\n",
    "    for nr_item_type in nr_item_types:\n",
    "        for problem in problems:\n",
    "\n",
    "            x, y = problem\n",
    "\n",
    "            file_name = str(nr_item_type) + \"_\" + str(x) + \"_\" + str(y) \n",
    "\n",
    "            f = open(os.path.join(os.getcwd(), \"problems\", file_name + \".json\"))\n",
    "            data = json.load(f)\n",
    "\n",
    "            run_single_bin_benchmark_repeated([GuillotineSBM], (ProblemJsonS.init_from_file(data)), max_time_seconds=60*minutes, nr_repeats=1)"
   ]
  }
 ],
 "metadata": {
  "kernelspec": {
   "display_name": "CPMpy",
   "language": "python",
   "name": "python3"
  },
  "language_info": {
   "codemirror_mode": {
    "name": "ipython",
    "version": 3
   },
   "file_extension": ".py",
   "mimetype": "text/x-python",
   "name": "python",
   "nbconvert_exporter": "python",
   "pygments_lexer": "ipython3",
   "version": "3.10.8"
  }
 },
 "nbformat": 4,
 "nbformat_minor": 4
}
