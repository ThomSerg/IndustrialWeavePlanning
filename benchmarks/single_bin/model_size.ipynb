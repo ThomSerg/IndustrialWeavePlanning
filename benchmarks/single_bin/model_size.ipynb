{
 "cells": [
  {
   "cell_type": "markdown",
   "metadata": {},
   "source": [
    "# Measure model size based on ''*flatten_model*'' constraint normalisation"
   ]
  },
  {
   "cell_type": "code",
   "execution_count": 1,
   "metadata": {},
   "outputs": [],
   "source": [
    "import sys,os,json\n",
    "sys.path.append(os.path.join(\"..\",\"..\"))"
   ]
  },
  {
   "cell_type": "code",
   "execution_count": 2,
   "metadata": {},
   "outputs": [],
   "source": [
    "from benchmarks.utils import *\n",
    "from benchmarks.problem_json import *\n",
    "from src.models.single_bin.baseline.model import BaselineSBM\n",
    "from src.models.single_bin.anchor.model import AnchorSBM\n",
    "from src.models.single_bin.guillotine.model import GuillotineSBM"
   ]
  },
  {
   "cell_type": "code",
   "execution_count": 3,
   "metadata": {},
   "outputs": [],
   "source": [
    "problems = [\n",
    "    #(100,100),\n",
    "    #(200,200),\n",
    "    #(300,300),\n",
    "    (100,400),\n",
    "    #(200,450),\n",
    "    #(100,900)\n",
    "]\n",
    "nr_item_types = [4,7,10]\n",
    "nr_instances = 10\n",
    "\n",
    "models = [BaselineSBM, AnchorSBM, GuillotineSBM]"
   ]
  },
  {
   "cell_type": "code",
   "execution_count": 4,
   "metadata": {},
   "outputs": [
    {
     "name": "stdout",
     "output_type": "stream",
     "text": [
      "PROBLEM 4_100_400_0\n",
      "{'widths': [44, 49, 37, 43], 'heights': [43, 94, 72, 54], 'machine_config': {'width': 100, 'min_length': 400, 'max_length': 400}}\n",
      "2080->26521\n",
      "------\n",
      "PROBLEM 4_100_400_1\n",
      "{'widths': [83, 35, 24, 29], 'heights': [53, 27, 46, 37], 'machine_config': {'width': 100, 'min_length': 400, 'max_length': 400}}\n"
     ]
    }
   ],
   "source": [
    "for model in models:\n",
    "    for minutes in [1]:\n",
    "        for nr_item_type in nr_item_types:\n",
    "            for problem in problems:\n",
    "\n",
    "                model_size = {} \n",
    "\n",
    "                x, y = problem\n",
    "\n",
    "                file_name = str(nr_item_type) + \"_\" + str(x) + \"_\" + str(y)\n",
    "\n",
    "                f = open(os.path.join(os.getcwd(), \"problems\", file_name + \".json\"))\n",
    "                data = json.load(f)\n",
    "\n",
    "                model_size[file_name] = single_bin_benchmark_model_info([model], (ProblemJsonS.init_from_file(data)), max_time_seconds=60*minutes, nr_repeats=1)\n",
    "\n",
    "                json_object = json.dumps(model_size, indent=4)\n",
    "\n",
    "                file_directory = os.path.join(os.getcwd(), \"model_size\", model.get_name())\n",
    "\n",
    "                if not os.path.exists(file_directory):\n",
    "                    os.makedirs(file_directory)\n",
    "\n",
    "                with open(os.path.join(file_directory, file_name + \".json\"), \"w\") as file:\n",
    "                    file.write(json_object)"
   ]
  }
 ],
 "metadata": {
  "kernelspec": {
   "display_name": "CPMpy",
   "language": "python",
   "name": "python3"
  },
  "language_info": {
   "codemirror_mode": {
    "name": "ipython",
    "version": 3
   },
   "file_extension": ".py",
   "mimetype": "text/x-python",
   "name": "python",
   "nbconvert_exporter": "python",
   "pygments_lexer": "ipython3",
   "version": "3.10.8"
  },
  "orig_nbformat": 4
 },
 "nbformat": 4,
 "nbformat_minor": 2
}
