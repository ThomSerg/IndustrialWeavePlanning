{
 "cells": [
  {
   "cell_type": "markdown",
   "metadata": {},
   "source": [
    "# SLOPP + due-date + creel benchmark"
   ]
  },
  {
   "cell_type": "code",
   "execution_count": 15,
   "metadata": {},
   "outputs": [
    {
     "name": "stdout",
     "output_type": "stream",
     "text": [
      "The autoreload extension is already loaded. To reload it, use:\n",
      "  %reload_ext autoreload\n"
     ]
    }
   ],
   "source": [
    "%load_ext autoreload\n",
    "%autoreload 2"
   ]
  },
  {
   "cell_type": "code",
   "execution_count": 16,
   "metadata": {},
   "outputs": [],
   "source": [
    "import sys,os\n",
    "sys.path.append(\"../..\")"
   ]
  },
  {
   "cell_type": "code",
   "execution_count": 17,
   "metadata": {},
   "outputs": [],
   "source": [
    "from src.models.multi_bin_creel.lns.model import LnsMBMCreel\n",
    "from src.extensions.creel.models.production_model_creel import ProductionModelCreel\n",
    "from src.models.multi_bin_creel.anchor.model import AnchorSBMCreel\n",
    "from src.models.multi_bin_creel.guillotine.model import GuillotineSBMCreel\n",
    "from benchmarks.problem_json import ProblemJsonCM\n",
    "\n",
    "from benchmarks.utils import run_multi_bin_benchmark"
   ]
  },
  {
   "cell_type": "code",
   "execution_count": 18,
   "metadata": {},
   "outputs": [],
   "source": [
    "import json\n",
    "f = open(os.path.join(os.getcwd(),\"problems\", \"bench_color_small.json\"))\n",
    "data = json.load(f)"
   ]
  },
  {
   "cell_type": "code",
   "execution_count": 19,
   "metadata": {},
   "outputs": [],
   "source": [
    "solver_models = [LnsMBMCreel, LnsMBMCreel]\n",
    "production_models = [ProductionModelCreel, ProductionModelCreel]\n",
    "single_bin_models = [GuillotineSBMCreel, AnchorSBMCreel]\n",
    "\n",
    "args = {\n",
    "    \"nr_iterations\": 2,\n",
    "    \"packing_timeout\": 60*1,\n",
    "    \"production_timeout\": 60 \n",
    "}"
   ]
  },
  {
   "cell_type": "code",
   "execution_count": 20,
   "metadata": {},
   "outputs": [],
   "source": [
    "problems = [\n",
    "    (100,400),\n",
    "]\n",
    "nr_item_types = [4, 7, 10]\n",
    "nr_colorss = [1]\n",
    "nr_deadlines = [1, 3, 6]"
   ]
  },
  {
   "cell_type": "code",
   "execution_count": 21,
   "metadata": {},
   "outputs": [
    {
     "name": "stdout",
     "output_type": "stream",
     "text": [
      "[CompositeColor(ID=0, basic_colors=[Color(r=1, g=0, b=0)]), CompositeColor(ID=1, basic_colors=[Color(r=0, g=1, b=0)]), CompositeColor(ID=2, basic_colors=[Color(r=0, g=0, b=1)]), CompositeColor(ID=3, basic_colors=[Color(r=1, g=0, b=1)]), CompositeColor(ID=4, basic_colors=[Color(r=0, g=1, b=1)])]\n",
      "[CompositeColor(ID=0, basic_colors=[Color(r=1, g=0, b=0)]), CompositeColor(ID=1, basic_colors=[Color(r=0, g=1, b=0)]), CompositeColor(ID=2, basic_colors=[Color(r=0, g=0, b=1)]), CompositeColor(ID=3, basic_colors=[Color(r=1, g=0, b=1)]), CompositeColor(ID=4, basic_colors=[Color(r=0, g=1, b=1)])]\n",
      "[CompositeColor(ID=0, basic_colors=[Color(r=1, g=0, b=0)]), CompositeColor(ID=1, basic_colors=[Color(r=0, g=1, b=0)]), CompositeColor(ID=2, basic_colors=[Color(r=0, g=0, b=1)]), CompositeColor(ID=3, basic_colors=[Color(r=1, g=0, b=1)]), CompositeColor(ID=4, basic_colors=[Color(r=0, g=1, b=1)])]\n",
      "[CompositeColor(ID=0, basic_colors=[Color(r=1, g=0, b=0)]), CompositeColor(ID=1, basic_colors=[Color(r=0, g=1, b=0)]), CompositeColor(ID=2, basic_colors=[Color(r=0, g=0, b=1)]), CompositeColor(ID=3, basic_colors=[Color(r=1, g=0, b=1)]), CompositeColor(ID=4, basic_colors=[Color(r=0, g=1, b=1)])]\n",
      "[CompositeColor(ID=0, basic_colors=[Color(r=1, g=0, b=0)]), CompositeColor(ID=1, basic_colors=[Color(r=0, g=1, b=0)]), CompositeColor(ID=2, basic_colors=[Color(r=0, g=0, b=1)]), CompositeColor(ID=3, basic_colors=[Color(r=1, g=0, b=1)]), CompositeColor(ID=4, basic_colors=[Color(r=0, g=1, b=1)])]\n",
      "[CompositeColor(ID=0, basic_colors=[Color(r=1, g=0, b=0)]), CompositeColor(ID=1, basic_colors=[Color(r=0, g=1, b=0)]), CompositeColor(ID=2, basic_colors=[Color(r=0, g=0, b=1)]), CompositeColor(ID=3, basic_colors=[Color(r=1, g=0, b=1)]), CompositeColor(ID=4, basic_colors=[Color(r=0, g=1, b=1)])]\n",
      "[CompositeColor(ID=0, basic_colors=[Color(r=1, g=0, b=0)]), CompositeColor(ID=1, basic_colors=[Color(r=0, g=1, b=0)]), CompositeColor(ID=2, basic_colors=[Color(r=0, g=0, b=1)]), CompositeColor(ID=3, basic_colors=[Color(r=1, g=0, b=1)]), CompositeColor(ID=4, basic_colors=[Color(r=0, g=1, b=1)])]\n",
      "[CompositeColor(ID=0, basic_colors=[Color(r=1, g=0, b=0)]), CompositeColor(ID=1, basic_colors=[Color(r=0, g=1, b=0)]), CompositeColor(ID=2, basic_colors=[Color(r=0, g=0, b=1)]), CompositeColor(ID=3, basic_colors=[Color(r=1, g=0, b=1)]), CompositeColor(ID=4, basic_colors=[Color(r=0, g=1, b=1)])]\n",
      "[CompositeColor(ID=0, basic_colors=[Color(r=1, g=0, b=0)]), CompositeColor(ID=1, basic_colors=[Color(r=0, g=1, b=0)]), CompositeColor(ID=2, basic_colors=[Color(r=0, g=0, b=1)]), CompositeColor(ID=3, basic_colors=[Color(r=1, g=0, b=1)]), CompositeColor(ID=4, basic_colors=[Color(r=0, g=1, b=1)])]\n",
      "[CompositeColor(ID=0, basic_colors=[Color(r=1, g=0, b=0)]), CompositeColor(ID=1, basic_colors=[Color(r=0, g=1, b=0)]), CompositeColor(ID=2, basic_colors=[Color(r=0, g=0, b=1)]), CompositeColor(ID=3, basic_colors=[Color(r=1, g=0, b=1)]), CompositeColor(ID=4, basic_colors=[Color(r=0, g=1, b=1)])]\n",
      "[CompositeColor(ID=0, basic_colors=[Color(r=1, g=0, b=0)]), CompositeColor(ID=1, basic_colors=[Color(r=0, g=1, b=0)]), CompositeColor(ID=2, basic_colors=[Color(r=0, g=0, b=1)]), CompositeColor(ID=3, basic_colors=[Color(r=1, g=0, b=1)]), CompositeColor(ID=4, basic_colors=[Color(r=0, g=1, b=1)])]\n",
      "[CompositeColor(ID=0, basic_colors=[Color(r=1, g=0, b=0)]), CompositeColor(ID=1, basic_colors=[Color(r=0, g=1, b=0)]), CompositeColor(ID=2, basic_colors=[Color(r=0, g=0, b=1)]), CompositeColor(ID=3, basic_colors=[Color(r=1, g=0, b=1)]), CompositeColor(ID=4, basic_colors=[Color(r=0, g=1, b=1)])]\n",
      "[CompositeColor(ID=0, basic_colors=[Color(r=1, g=0, b=0)]), CompositeColor(ID=1, basic_colors=[Color(r=0, g=1, b=0)]), CompositeColor(ID=2, basic_colors=[Color(r=0, g=0, b=1)]), CompositeColor(ID=3, basic_colors=[Color(r=1, g=0, b=1)]), CompositeColor(ID=4, basic_colors=[Color(r=0, g=1, b=1)])]\n",
      "[CompositeColor(ID=0, basic_colors=[Color(r=1, g=0, b=0)]), CompositeColor(ID=1, basic_colors=[Color(r=0, g=1, b=0)]), CompositeColor(ID=2, basic_colors=[Color(r=0, g=0, b=1)]), CompositeColor(ID=3, basic_colors=[Color(r=1, g=0, b=1)]), CompositeColor(ID=4, basic_colors=[Color(r=0, g=1, b=1)])]\n",
      "[CompositeColor(ID=0, basic_colors=[Color(r=1, g=0, b=0)]), CompositeColor(ID=1, basic_colors=[Color(r=0, g=1, b=0)]), CompositeColor(ID=2, basic_colors=[Color(r=0, g=0, b=1)]), CompositeColor(ID=3, basic_colors=[Color(r=1, g=0, b=1)]), CompositeColor(ID=4, basic_colors=[Color(r=0, g=1, b=1)])]\n",
      "[CompositeColor(ID=0, basic_colors=[Color(r=1, g=0, b=0)]), CompositeColor(ID=1, basic_colors=[Color(r=0, g=1, b=0)]), CompositeColor(ID=2, basic_colors=[Color(r=0, g=0, b=1)]), CompositeColor(ID=3, basic_colors=[Color(r=1, g=0, b=1)]), CompositeColor(ID=4, basic_colors=[Color(r=0, g=1, b=1)])]\n",
      "[CompositeColor(ID=0, basic_colors=[Color(r=1, g=0, b=0)]), CompositeColor(ID=1, basic_colors=[Color(r=0, g=1, b=0)]), CompositeColor(ID=2, basic_colors=[Color(r=0, g=0, b=1)]), CompositeColor(ID=3, basic_colors=[Color(r=1, g=0, b=1)]), CompositeColor(ID=4, basic_colors=[Color(r=0, g=1, b=1)])]\n",
      "[CompositeColor(ID=0, basic_colors=[Color(r=1, g=0, b=0)]), CompositeColor(ID=1, basic_colors=[Color(r=0, g=1, b=0)]), CompositeColor(ID=2, basic_colors=[Color(r=0, g=0, b=1)]), CompositeColor(ID=3, basic_colors=[Color(r=1, g=0, b=1)]), CompositeColor(ID=4, basic_colors=[Color(r=0, g=1, b=1)])]\n",
      "[CompositeColor(ID=0, basic_colors=[Color(r=1, g=0, b=0)]), CompositeColor(ID=1, basic_colors=[Color(r=0, g=1, b=0)]), CompositeColor(ID=2, basic_colors=[Color(r=0, g=0, b=1)]), CompositeColor(ID=3, basic_colors=[Color(r=1, g=0, b=1)]), CompositeColor(ID=4, basic_colors=[Color(r=0, g=1, b=1)])]\n",
      "[CompositeColor(ID=0, basic_colors=[Color(r=1, g=0, b=0)]), CompositeColor(ID=1, basic_colors=[Color(r=0, g=1, b=0)]), CompositeColor(ID=2, basic_colors=[Color(r=0, g=0, b=1)]), CompositeColor(ID=3, basic_colors=[Color(r=1, g=0, b=1)]), CompositeColor(ID=4, basic_colors=[Color(r=0, g=1, b=1)])]\n",
      "[CompositeColor(ID=0, basic_colors=[Color(r=1, g=0, b=0)]), CompositeColor(ID=1, basic_colors=[Color(r=0, g=1, b=0)]), CompositeColor(ID=2, basic_colors=[Color(r=0, g=0, b=1)]), CompositeColor(ID=3, basic_colors=[Color(r=1, g=0, b=1)]), CompositeColor(ID=4, basic_colors=[Color(r=0, g=1, b=1)])]\n",
      "[CompositeColor(ID=0, basic_colors=[Color(r=1, g=0, b=0)]), CompositeColor(ID=1, basic_colors=[Color(r=0, g=1, b=0)]), CompositeColor(ID=2, basic_colors=[Color(r=0, g=0, b=1)]), CompositeColor(ID=3, basic_colors=[Color(r=1, g=0, b=1)]), CompositeColor(ID=4, basic_colors=[Color(r=0, g=1, b=1)])]\n",
      "[CompositeColor(ID=0, basic_colors=[Color(r=1, g=0, b=0)]), CompositeColor(ID=1, basic_colors=[Color(r=0, g=1, b=0)]), CompositeColor(ID=2, basic_colors=[Color(r=0, g=0, b=1)]), CompositeColor(ID=3, basic_colors=[Color(r=1, g=0, b=1)]), CompositeColor(ID=4, basic_colors=[Color(r=0, g=1, b=1)])]\n",
      "[CompositeColor(ID=0, basic_colors=[Color(r=1, g=0, b=0)]), CompositeColor(ID=1, basic_colors=[Color(r=0, g=1, b=0)]), CompositeColor(ID=2, basic_colors=[Color(r=0, g=0, b=1)]), CompositeColor(ID=3, basic_colors=[Color(r=1, g=0, b=1)]), CompositeColor(ID=4, basic_colors=[Color(r=0, g=1, b=1)])]\n",
      "[CompositeColor(ID=0, basic_colors=[Color(r=1, g=0, b=0)]), CompositeColor(ID=1, basic_colors=[Color(r=0, g=1, b=0)]), CompositeColor(ID=2, basic_colors=[Color(r=0, g=0, b=1)]), CompositeColor(ID=3, basic_colors=[Color(r=1, g=0, b=1)]), CompositeColor(ID=4, basic_colors=[Color(r=0, g=1, b=1)])]\n",
      "[CompositeColor(ID=0, basic_colors=[Color(r=1, g=0, b=0)]), CompositeColor(ID=1, basic_colors=[Color(r=0, g=1, b=0)]), CompositeColor(ID=2, basic_colors=[Color(r=0, g=0, b=1)]), CompositeColor(ID=3, basic_colors=[Color(r=1, g=0, b=1)]), CompositeColor(ID=4, basic_colors=[Color(r=0, g=1, b=1)])]\n",
      "[CompositeColor(ID=0, basic_colors=[Color(r=1, g=0, b=0)]), CompositeColor(ID=1, basic_colors=[Color(r=0, g=1, b=0)]), CompositeColor(ID=2, basic_colors=[Color(r=0, g=0, b=1)]), CompositeColor(ID=3, basic_colors=[Color(r=1, g=0, b=1)]), CompositeColor(ID=4, basic_colors=[Color(r=0, g=1, b=1)])]\n",
      "[CompositeColor(ID=0, basic_colors=[Color(r=1, g=0, b=0)]), CompositeColor(ID=1, basic_colors=[Color(r=0, g=1, b=0)]), CompositeColor(ID=2, basic_colors=[Color(r=0, g=0, b=1)]), CompositeColor(ID=3, basic_colors=[Color(r=1, g=0, b=1)]), CompositeColor(ID=4, basic_colors=[Color(r=0, g=1, b=1)])]\n",
      "[CompositeColor(ID=0, basic_colors=[Color(r=1, g=0, b=0)]), CompositeColor(ID=1, basic_colors=[Color(r=0, g=1, b=0)]), CompositeColor(ID=2, basic_colors=[Color(r=0, g=0, b=1)]), CompositeColor(ID=3, basic_colors=[Color(r=1, g=0, b=1)]), CompositeColor(ID=4, basic_colors=[Color(r=0, g=1, b=1)])]\n",
      "[CompositeColor(ID=0, basic_colors=[Color(r=1, g=0, b=0)]), CompositeColor(ID=1, basic_colors=[Color(r=0, g=1, b=0)]), CompositeColor(ID=2, basic_colors=[Color(r=0, g=0, b=1)]), CompositeColor(ID=3, basic_colors=[Color(r=1, g=0, b=1)]), CompositeColor(ID=4, basic_colors=[Color(r=0, g=1, b=1)])]\n",
      "PROBLEM 4_100_400_1_1_0\n",
      "{'widths': [44, 49, 37, 43], 'heights': [43, 94, 72, 54], 'deadlines': [50], 'deadline_counts': [[427], [103], [2], [324]], 'machine_config': {'width': 100, 'min_length': 400, 'max_length': 400, 'max_creel_colors': 1, 'max_creel_number': 5, 'creel_switch_penalty': 10}, 'colors': [0, 1, 2, 3]}\n",
      "--- CREATING NEW BIN ---\n",
      "Collecting constraints ...\n",
      "Warning, timeout protection only supported on Linux!\n",
      "nr_constraints 3342\n",
      "Transferring...\n",
      "Warning, timeout protection only supported on Linux!\n",
      "Solving...\n",
      "Packing SAT: True\n",
      "nr constraints: 3342\n"
     ]
    },
    {
     "data": {
      "image/png": "[encoded data removed]",
      "text/plain": [
       "<Figure size 2880x720 with 1 Axes>"
      ]
     },
     "metadata": {
      "needs_background": "light"
     },
     "output_type": "display_data"
    },
    {
     "name": "stdout",
     "output_type": "stream",
     "text": [
      "STATS: stats(objective=350890400, nr_variables=1, total_density=0.94815, constraints={'bin_active': {'nr_constraint': 2, 'creation_time': 0.0006386998575180769}, 'bin_order': {'nr_constraint': 1, 'creation_time': 0.00010489998385310173}, 'bin_starts': {'nr_constraint': 2, 'creation_time': 0.0006792999338358641}, 'bin_ends': {'nr_constraint': 1, 'creation_time': 0.0004468001425266266}, 'deadline_capacity': {'nr_constraint': 1, 'creation_time': 0.000260799890384078}, 'unique_new_bin': {'nr_constraint': 0, 'creation_time': 5.600042641162872e-06}, 'symmetry_breaking': {'nr_constraint': 0, 'creation_time': 2.600019797682762e-06}, 'usefull_bin': {'nr_constraint': 1, 'creation_time': 2.759997732937336e-05}}, constraint_time=0.0021662998478859663, transfer_time=7.812465399969369, solve_time=60.53284149989486, total_time=69.65827859984711, nr_solutions=1, deadlines=[50], deadline_betweens=[51], solution_repeats=[[47]], solution_starts=[[0]], solution_ends=[[46]], solution_active=[[True]], bins=[[9, 0, 0, 9]], densities=[0.94815], bin_lengths=[400], required=[[427], [103], [2], [324]], fulfilled=[[423], [0], [0], [423]], underproduction=[[4], [103], [2], [0]], overproduction=[[0], [0], [0], [99]])\n",
      "NR solutions: 1\n",
      "Solution repeats:\n",
      "[[47]]\n",
      "Starts:\n",
      "[[0]]\n",
      "Ends:\n",
      "[[46]]\n",
      "Active:\n",
      "[[ True]]\n",
      "Bins:\n",
      "[[(IV10856) + (IV10960) (IV10873) + (IV10977) (IV10894) + (IV10998)\n",
      "  (IV10923) + (IV11017)]]\n",
      "Densities: [0.94815]\n",
      "[[47]]\n",
      "Total density: 0.94815\n",
      "Deadlines:\n",
      "[50]\n",
      "Deadline betweens\n",
      "[51]\n",
      "Required:\n",
      "[[427]\n",
      " [103]\n",
      " [  2]\n",
      " [324]]\n",
      "Fulfilled:\n",
      "[[423]\n",
      " [  0]\n",
      " [  0]\n",
      " [423]]\n",
      "Underproduction:\n",
      "[[  4]\n",
      " [103]\n",
      " [  2]\n",
      " [  0]]\n",
      "Overproduction:\n",
      "[[ 0]\n",
      " [ 0]\n",
      " [ 0]\n",
      " [99]]\n",
      "Computation time: 70.11419080011547 seconds\n",
      "SAT\n",
      "--- CREATING NEW BIN ---\n",
      "Collecting constraints ...\n",
      "Warning, timeout protection only supported on Linux!\n",
      "nr_constraints 3356\n",
      "Transferring...\n",
      "Warning, timeout protection only supported on Linux!\n",
      "Solving...\n",
      "Packing SAT: True\n",
      "nr constraints: 3356\n"
     ]
    },
    {
     "data": {
      "image/png": "[encoded data removed]",
      "text/plain": [
       "<Figure size 2880x720 with 1 Axes>"
      ]
     },
     "metadata": {
      "needs_background": "light"
     },
     "output_type": "display_data"
    },
    {
     "name": "stdout",
     "output_type": "stream",
     "text": [
      "STATS: stats(objective=350527200, nr_variables=2, total_density=0.9454550000000002, constraints={'bin_active': {'nr_constraint': 2, 'creation_time': 0.00107150012627244}, 'bin_order': {'nr_constraint': 3, 'creation_time': 0.0007074999157339334}, 'bin_starts': {'nr_constraint': 4, 'creation_time': 0.0019324999302625656}, 'bin_ends': {'nr_constraint': 2, 'creation_time': 0.0009045000188052654}, 'deadline_capacity': {'nr_constraint': 2, 'creation_time': 0.00043340004049241543}, 'unique_new_bin': {'nr_constraint': 1, 'creation_time': 0.0004227000754326582}, 'symmetry_breaking': {'nr_constraint': 0, 'creation_time': 2.9997900128364563e-06}, 'usefull_bin': {'nr_constraint': 1, 'creation_time': 2.8900103643536568e-05}}, constraint_time=0.005504000000655651, transfer_time=8.289411299861968, solve_time=60.610268800053746, total_time=69.89165499992669, nr_solutions=2, deadlines=[50], deadline_betweens=[51], solution_repeats=[[36], [4]], solution_starts=[[14], [0]], solution_ends=[[49], [3]], solution_active=[[True], [True]], bins=[[9, 0, 0, 9], [0, 8, 0, 0]], densities=[0.94815, 0.9212], bin_lengths=[400, 400], required=[[427], [103], [2], [324]], fulfilled=[[324], [32], [0], [324]], underproduction=[[103], [71], [2], [0]], overproduction=[[0], [0], [0], [0]])\n",
      "NR solutions: 2\n",
      "Solution repeats:\n",
      "[[36]\n",
      " [ 4]]\n",
      "Starts:\n",
      "[[14]\n",
      " [ 0]]\n",
      "Ends:\n",
      "[[49]\n",
      " [ 3]]\n",
      "Active:\n",
      "[[ True]\n",
      " [ True]]\n",
      "Bins:\n",
      "[[9 0 0 9]\n",
      " [(IV14369) + (IV14473) (IV14386) + (IV14490) (IV14407) + (IV14511)\n",
      "  (IV14436) + (IV14530)]]\n",
      "Densities: [0.94815, 0.9212]\n",
      "[[36]\n",
      " [ 4]]\n",
      "Total density: 0.9454550000000002\n",
      "Deadlines:\n",
      "[50]\n",
      "Deadline betweens\n",
      "[51]\n",
      "Required:\n",
      "[[427]\n",
      " [103]\n",
      " [  2]\n",
      " [324]]\n",
      "Fulfilled:\n",
      "[[324]\n",
      " [ 32]\n",
      " [  0]\n",
      " [324]]\n",
      "Underproduction:\n",
      "[[103]\n",
      " [ 71]\n",
      " [  2]\n",
      " [  0]]\n",
      "Overproduction:\n",
      "[[0]\n",
      " [0]\n",
      " [0]\n",
      " [0]]\n",
      "Computation time: 70.28260000003502 seconds\n",
      "SAT\n",
      "--- LAST MODEL ---\n",
      "Collecting constraints ...\n",
      "Warning, timeout protection only supported on Linux!\n",
      "nr_constraints 81\n",
      "Transferring...\n",
      "Warning, timeout protection only supported on Linux!\n",
      "Solving...\n",
      "Packing SAT: True\n",
      "nr constraints: 81\n",
      "NR solutions: 2\n",
      "Solution repeats:\n",
      "[[36]\n",
      " [ 4]]\n",
      "Starts:\n",
      "[[ 0]\n",
      " [46]]\n",
      "Ends:\n",
      "[[35]\n",
      " [49]]\n",
      "Active:\n",
      "[[ True]\n",
      " [ True]]\n",
      "Bins:\n",
      "[[9 0 0 9]\n",
      " [0 8 0 0]]\n",
      "Densities: [0.94815, 0.9212]\n",
      "[[36]\n",
      " [ 4]]\n",
      "Total density: 0.9454550000000002\n",
      "Deadlines:\n",
      "[50]\n",
      "Deadline betweens\n",
      "[51]\n",
      "Required:\n",
      "[[427]\n",
      " [103]\n",
      " [  2]\n",
      " [324]]\n",
      "Fulfilled:\n",
      "[[324]\n",
      " [ 32]\n",
      " [  0]\n",
      " [324]]\n",
      "Underproduction:\n",
      "[[103]\n",
      " [ 71]\n",
      " [  2]\n",
      " [  0]]\n",
      "Overproduction:\n",
      "[[0]\n",
      " [0]\n",
      " [0]\n",
      " [0]]\n",
      "Computation time: 141.2053403998725 seconds\n",
      "SAT (True, [<src.extensions.creel.models.production_model_creel.ProductionModelCreel object at 0x000001A90A20B8E0>, <src.extensions.creel.models.production_model_creel.ProductionModelCreel object at 0x000001A904ABFDF0>, <src.extensions.creel.models.production_model_creel.ProductionModelCreel object at 0x000001A90ADAA170>])\n",
      "TIME 141.2055661000777\n",
      "STATS {0: {'objective': 350890400, 'nr_variables': 1, 'total_density': 0.94815, 'constraints': {'bin_active': {'nr_constraint': 2, 'creation_time': 0.0006386998575180769}, 'bin_order': {'nr_constraint': 1, 'creation_time': 0.00010489998385310173}, 'bin_starts': {'nr_constraint': 2, 'creation_time': 0.0006792999338358641}, 'bin_ends': {'nr_constraint': 1, 'creation_time': 0.0004468001425266266}, 'deadline_capacity': {'nr_constraint': 1, 'creation_time': 0.000260799890384078}, 'unique_new_bin': {'nr_constraint': 0, 'creation_time': 5.600042641162872e-06}, 'symmetry_breaking': {'nr_constraint': 0, 'creation_time': 2.600019797682762e-06}, 'usefull_bin': {'nr_constraint': 1, 'creation_time': 2.759997732937336e-05}}, 'constraint_time': 0.0021662998478859663, 'transfer_time': 7.812465399969369, 'solve_time': 60.53284149989486, 'total_time': 69.65827859984711, 'nr_solutions': 1, 'deadlines': [50], 'deadline_betweens': [51], 'solution_repeats': [[47]], 'solution_starts': [[0]], 'solution_ends': [[46]], 'solution_active': [[True]], 'bins': [[9, 0, 0, 9]], 'densities': [0.94815], 'bin_lengths': [400], 'required': [[427], [103], [2], [324]], 'fulfilled': [[423], [0], [0], [423]], 'underproduction': [[4], [103], [2], [0]], 'overproduction': [[0], [0], [0], [99]]}, 1: {'objective': 350527200, 'nr_variables': 2, 'total_density': 0.9454550000000002, 'constraints': {'bin_active': {'nr_constraint': 2, 'creation_time': 0.00107150012627244}, 'bin_order': {'nr_constraint': 3, 'creation_time': 0.0007074999157339334}, 'bin_starts': {'nr_constraint': 4, 'creation_time': 0.0019324999302625656}, 'bin_ends': {'nr_constraint': 2, 'creation_time': 0.0009045000188052654}, 'deadline_capacity': {'nr_constraint': 2, 'creation_time': 0.00043340004049241543}, 'unique_new_bin': {'nr_constraint': 1, 'creation_time': 0.0004227000754326582}, 'symmetry_breaking': {'nr_constraint': 0, 'creation_time': 2.9997900128364563e-06}, 'usefull_bin': {'nr_constraint': 1, 'creation_time': 2.8900103643536568e-05}}, 'constraint_time': 0.005504000000655651, 'transfer_time': 8.289411299861968, 'solve_time': 60.610268800053746, 'total_time': 69.89165499992669, 'nr_solutions': 2, 'deadlines': [50], 'deadline_betweens': [51], 'solution_repeats': [[36], [4]], 'solution_starts': [[14], [0]], 'solution_ends': [[49], [3]], 'solution_active': [[True], [True]], 'bins': [[9, 0, 0, 9], [0, 8, 0, 0]], 'densities': [0.94815, 0.9212], 'bin_lengths': [400, 400], 'required': [[427], [103], [2], [324]], 'fulfilled': [[324], [32], [0], [324]], 'underproduction': [[103], [71], [2], [0]], 'overproduction': [[0], [0], [0], [0]]}, 2: {'objective': 350527200, 'nr_variables': 0, 'total_density': 0.9454550000000002, 'constraints': {'bin_active': {'nr_constraint': 2, 'creation_time': 0.0020743999630212784}, 'bin_order': {'nr_constraint': 3, 'creation_time': 0.0009614999871701002}, 'bin_starts': {'nr_constraint': 4, 'creation_time': 0.0020349000114947557}, 'bin_ends': {'nr_constraint': 2, 'creation_time': 0.000924200052395463}, 'deadline_capacity': {'nr_constraint': 2, 'creation_time': 0.0005239001475274563}, 'unique_new_bin': {'nr_constraint': 0, 'creation_time': 6.6999346017837524e-06}, 'symmetry_breaking': {'nr_constraint': 0, 'creation_time': 3.4999102354049683e-06}, 'usefull_bin': {'nr_constraint': 0, 'creation_time': 1.90013088285923e-06}}, 'constraint_time': 0.0065310001373291016, 'transfer_time': 0.3312317000236362, 'solve_time': 0.41350540006533265, 'total_time': 0.7920794000383466, 'nr_solutions': 2, 'deadlines': [50], 'deadline_betweens': [51], 'solution_repeats': [[36], [4]], 'solution_starts': [[0], [46]], 'solution_ends': [[35], [49]], 'solution_active': [[True], [True]], 'bins': [[9, 0, 0, 9], [0, 8, 0, 0]], 'densities': [0.94815, 0.9212], 'bin_lengths': [400, 400], 'required': [[427], [103], [2], [324]], 'fulfilled': [[324], [32], [0], [324]], 'underproduction': [[103], [71], [2], [0]], 'overproduction': [[0], [0], [0], [0]]}, 'total_time': 141.2055661000777}\n",
      "PROBLEM 4_100_400_1_3_0\n",
      "{'widths': [44, 49, 37, 43], 'heights': [43, 94, 72, 54], 'deadlines': [37, 294, 409], 'deadline_counts': [[150, 284, 461], [165, 493, 415], [116, 422, 60], [72, 214, 71]], 'machine_config': {'width': 100, 'min_length': 400, 'max_length': 400, 'max_creel_colors': 1, 'max_creel_number': 5, 'creel_switch_penalty': 10}, 'colors': [0, 1, 2, 3]}\n",
      "--- CREATING NEW BIN ---\n",
      "Collecting constraints ...\n",
      "Warning, timeout protection only supported on Linux!\n",
      "nr_constraints 3362\n",
      "Transferring...\n",
      "Warning, timeout protection only supported on Linux!\n"
     ]
    }
   ],
   "source": [
    "for minutes in [1]:\n",
    "    for nr_item_type in nr_item_types:\n",
    "        for problem in problems:\n",
    "            for nr_colors in nr_colorss:\n",
    "\n",
    "                x, y = problem\n",
    "\n",
    "                file_name = str(nr_item_type) + \"_\" + str(x) + \"_\" + str(y) + \"_\" + str(nr_colors)\n",
    "\n",
    "                f = open(os.path.join(os.getcwd(), \"problems\", \"1_3_6\", file_name + \".json\"))\n",
    "                data = json.load(f)\n",
    "                \n",
    "                a = (ProblemJsonCM.init_from_file(data))\n",
    "                b = [c for c in a if len(c.deadlines) in nr_deadlines]\n",
    "\n",
    "                run_multi_bin_benchmark(solver_models, production_models, single_bin_models, b, args=args)"
   ]
  }
 ],
 "metadata": {
  "kernelspec": {
   "display_name": "CPMpy",
   "language": "python",
   "name": "python3"
  },
  "language_info": {
   "codemirror_mode": {
    "name": "ipython",
    "version": 3
   },
   "file_extension": ".py",
   "mimetype": "text/x-python",
   "name": "python",
   "nbconvert_exporter": "python",
   "pygments_lexer": "ipython3",
   "version": "3.10.8"
  }
 },
 "nbformat": 4,
 "nbformat_minor": 4
}
