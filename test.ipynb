{
 "cells": [
  {
   "cell_type": "code",
   "execution_count": 2,
   "metadata": {},
   "outputs": [
    {
     "ename": "AttributeError",
     "evalue": "'A' object has no attribute '__bases__'",
     "output_type": "error",
     "traceback": [
      "\u001b[1;31m---------------------------------------------------------------------------\u001b[0m",
      "\u001b[1;31mAttributeError\u001b[0m                            Traceback (most recent call last)",
      "\u001b[1;32me:\\Programming\\Burgi\\IndustrialWeavePlanning\\test.ipynb Cell 1\u001b[0m in \u001b[0;36m<cell line: 13>\u001b[1;34m()\u001b[0m\n\u001b[0;32m     <a href='vscode-notebook-cell:/e%3A/Programming/Burgi/IndustrialWeavePlanning/test.ipynb#W0sZmlsZQ%3D%3D?line=9'>10</a>\u001b[0m         \u001b[39mself\u001b[39m\u001b[39m.\u001b[39ma\u001b[39m.\u001b[39mtest()\n\u001b[0;32m     <a href='vscode-notebook-cell:/e%3A/Programming/Burgi/IndustrialWeavePlanning/test.ipynb#W0sZmlsZQ%3D%3D?line=11'>12</a>\u001b[0m b \u001b[39m=\u001b[39m B()\n\u001b[1;32m---> <a href='vscode-notebook-cell:/e%3A/Programming/Burgi/IndustrialWeavePlanning/test.ipynb#W0sZmlsZQ%3D%3D?line=12'>13</a>\u001b[0m b\u001b[39m.\u001b[39;49mtest()\n",
      "\u001b[1;32me:\\Programming\\Burgi\\IndustrialWeavePlanning\\test.ipynb Cell 1\u001b[0m in \u001b[0;36mB.test\u001b[1;34m(self)\u001b[0m\n\u001b[0;32m      <a href='vscode-notebook-cell:/e%3A/Programming/Burgi/IndustrialWeavePlanning/test.ipynb#W0sZmlsZQ%3D%3D?line=8'>9</a>\u001b[0m \u001b[39mdef\u001b[39;00m \u001b[39mtest\u001b[39m(\u001b[39mself\u001b[39m):\n\u001b[1;32m---> <a href='vscode-notebook-cell:/e%3A/Programming/Burgi/IndustrialWeavePlanning/test.ipynb#W0sZmlsZQ%3D%3D?line=9'>10</a>\u001b[0m     \u001b[39mself\u001b[39;49m\u001b[39m.\u001b[39;49ma\u001b[39m.\u001b[39;49mtest()\n",
      "\u001b[1;32me:\\Programming\\Burgi\\IndustrialWeavePlanning\\test.ipynb Cell 1\u001b[0m in \u001b[0;36mA.test\u001b[1;34m(self)\u001b[0m\n\u001b[0;32m      <a href='vscode-notebook-cell:/e%3A/Programming/Burgi/IndustrialWeavePlanning/test.ipynb#W0sZmlsZQ%3D%3D?line=1'>2</a>\u001b[0m \u001b[39mdef\u001b[39;00m \u001b[39mtest\u001b[39m(\u001b[39mself\u001b[39m):\n\u001b[1;32m----> <a href='vscode-notebook-cell:/e%3A/Programming/Burgi/IndustrialWeavePlanning/test.ipynb#W0sZmlsZQ%3D%3D?line=2'>3</a>\u001b[0m     \u001b[39mprint\u001b[39m(\u001b[39mself\u001b[39;49m\u001b[39m.\u001b[39;49m\u001b[39m__bases__\u001b[39;49m)\n",
      "\u001b[1;31mAttributeError\u001b[0m: 'A' object has no attribute '__bases__'"
     ]
    }
   ],
   "source": [
    "class A():\n",
    "    def __init__(self, b):\n",
    "        self.b = b\n",
    "    def test(self):\n",
    "        print(self.__bases__)\n",
    "\n",
    "class B():\n",
    "    def __init__(self):\n",
    "        self.a = A()\n",
    "    \n",
    "    def test(self):\n",
    "        self.a.test()\n",
    "\n",
    "b = B()\n",
    "b.test()"
   ]
  }
 ],
 "metadata": {
  "kernelspec": {
   "display_name": "Weaving",
   "language": "python",
   "name": "python3"
  },
  "language_info": {
   "codemirror_mode": {
    "name": "ipython",
    "version": 3
   },
   "file_extension": ".py",
   "mimetype": "text/x-python",
   "name": "python",
   "nbconvert_exporter": "python",
   "pygments_lexer": "ipython3",
   "version": "3.10.8"
  },
  "orig_nbformat": 4
 },
 "nbformat": 4,
 "nbformat_minor": 2
}
